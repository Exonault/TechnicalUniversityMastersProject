{
 "cells": [
  {
   "cell_type": "markdown",
   "id": "cfe02b02-8ea4-4624-9402-ba92f07c7f3b",
   "metadata": {},
   "source": [
    "# Recommender system with collaborative filtering"
   ]
  },
  {
   "cell_type": "markdown",
   "id": "86d34f34-6c08-4ace-92bc-af1504ecf26e",
   "metadata": {},
   "source": [
    "## Какво е Recommender system\n",
    "Recommender system или Система за препоръки е система която помага на потребител да намери най-подходящите опции, когато търси нещо, било то в сайт за \n",
    "електронна търговия или платформа за развлечение. "
   ]
  },
  {
   "cell_type": "markdown",
   "id": "026e7cd7-5a94-4cfd-8687-a9aec8f5d729",
   "metadata": {},
   "source": [
    "## Видове Система за препоръки\n",
    "Има два основни вида системи: персонализирани и неперсонализирани. Неперсонализираните са прости, но персонализираните работят по добре, защото отговаря на нуждите на всеки потребител. \n",
    "\n",
    "## Collaborative filtering\n",
    "Collaborative filtering e метод за извличане на информация, който се основава на анализа на предпочитания или поведението на потребителите. Този метод разчита на информацията от множество потребители, за да направи препоръка. <br/>\n",
    "Има два основни вида филтриране\n",
    "- Базирано на потребители\n",
    "- Базирано на елементи <br>\n",
    "\n",
    "Филтрирането базирано на потребители работи на предположението че потребители, които са уцени един и същ предмет с подобни оценки, то те вероятно ще имат едно и също предпочитание за други елементи. Този метод разчита на намирането на прилики между потребителите. <br>\n",
    "<br>\n",
    "Филтрирането базирано на елементи работи като сравнява елементи, които са оценени сходно от различни потребители. Като пример: Ако много хора, които са гледали Филм А, също са гледали Филм Б, можем да препоръчаме Филм Б на потребители, които са гледали Филм А. <br>\n",
    "<br>\n",
    "Ще реализираме филтриране базирано на потребители"
   ]
  },
  {
   "cell_type": "code",
   "execution_count": null,
   "id": "5673550a-1f99-48cd-9675-2101b776a78e",
   "metadata": {},
   "outputs": [],
   "source": [
    "import pandas as pd\n",
    "import numpy as np\n",
    "from sklearn.metrics.pairwise import cosine_similarity"
   ]
  },
  {
   "cell_type": "markdown",
   "id": "25025c64-a920-45be-a3cd-0df97791651b",
   "metadata": {},
   "source": [
    "## Данни\n",
    "Данните които са използвани са оценки на филми на Амазон, които се намират в [Kaggle](https://www.kaggle.com/datasets/eswarchandt/amazon-movie-ratings)."
   ]
  },
  {
   "cell_type": "code",
   "execution_count": null,
   "id": "c53c4791-f026-4462-9470-75a1aa7be0e3",
   "metadata": {},
   "outputs": [],
   "source": [
    "data = pd.read_csv(\"Amazon.csv\")\n",
    "\n",
    "print(data.shape)\n",
    "data.head()"
   ]
  },
  {
   "cell_type": "markdown",
   "id": "c4920327-128e-44a6-a1d4-89b497e4a35c",
   "metadata": {},
   "source": [
    "Първо ще дефинираме функция за базова оценка която е глобалната средна оценка с добавени отклонения за потребителя и елемента"
   ]
  },
  {
   "cell_type": "code",
   "execution_count": null,
   "id": "b2ba45c5-6c2c-411c-a0d9-a6d78fec425b",
   "metadata": {},
   "outputs": [],
   "source": [
    "def baseline_prediction(data, userid, movieid):\n",
    "    global_mean = data.stack().dropna().mean()\n",
    "\n",
    "    user_mean = data.loc[userid, :].mean()\n",
    "\n",
    "    item_mean = data.loc[:, movieid].mean()\n",
    "\n",
    "    user_bias = global_mean - user_mean\n",
    "\n",
    "    item_bias = global_mean - item_mean\n",
    "\n",
    "    baseline = global_mean + user_bias + item_bias\n",
    "\n",
    "    return baseline"
   ]
  },
  {
   "cell_type": "markdown",
   "id": "de37e1db-6a94-428b-a019-1b62a08b4605",
   "metadata": {},
   "source": [
    "След това ще дефинираме функция която намира съседите на база оценката на сходство. <br>\n",
    "<br>\n",
    "Първо нормализираме оценките като извадим средните оценки, за да се отчетат различните скали на оценяване между потребителите. <br>\n",
    "<!-- Използваме `cosine similarity`, за да се намери колко сходни са оценките на потребителите, спрямо потребителя за който създаваме препоръката. <br> -->\n",
    "За да намерим сходимостта между оценките на потребителя за който се създава препоръка и оценките на всички потребители ще използваме косинусово сходство или cosine similarity. Косинусовото сходство е мярказа определяне колко са сходни два вектора.<br>\n",
    "\n",
    "$$ \\text{Cosine Similarity} = \\cos(\\theta) = \\frac{\\mathbf{A} \\cdot \\mathbf{B}}{\\|\\mathbf{A}\\| \\|\\mathbf{B}\\|}$$\n",
    "$$\\mathbf{A} \\cdot \\mathbf{B} = \\sum_{i=1}^{n} A_i \\cdot B_i$$\n",
    "$$\\|\\mathbf{A}\\| = \\sqrt{\\sum_{i=1}^{n} A_i^2}, \\qquad \\|\\mathbf{B}\\| = \\sqrt{\\sum_{i=1}^{n} B_i^2}$$\n",
    "\n",
    "Накрая връщаме \"съседите\" на дадения потребител и техните оценки на сходство. <br>\n",
    "<br>\n",
    "Tози метод представлява имплементация на \"User-KNN\". В конкретния случай K, което представлява броят съседи които искаме е `neighbours_count`. За разстоянието между съседите е използвано косинусовото подобие.<br>\n",
    "<br>\n",
    "Основните разлики със стандартния KNN са, че в случая връщаме съседите и техните оценки на сходство, а типичния KNN ще върне само съседите. Друга разлика е, че се работи с матрица за оценки, а не с вектор на характеристиките. "
   ]
  },
  {
   "cell_type": "code",
   "execution_count": null,
   "id": "e11e9d19-8c0f-420f-a6b9-b9c5da24ab4a",
   "metadata": {},
   "outputs": [],
   "source": [
    "def find_neighbour(data, userid, neighbours_count=5):\n",
    "    user_mean = data.mean(axis=0)\n",
    "    user_removed_mean_rating = (data - user_mean).fillna(0)\n",
    "\n",
    "    n_users = len(user_removed_mean_rating.index)\n",
    "    similarity_score = np.zeros(n_users)\n",
    "\n",
    "    user_target = user_removed_mean_rating.loc[userid].values.reshape(1, -1)\n",
    "\n",
    "    for i, neighbour in enumerate(user_removed_mean_rating.index):\n",
    "        user_neighbour = user_removed_mean_rating.loc[neighbour].values.reshape(1, -1)\n",
    "\n",
    "        sim_i = cosine_similarity(user_target, user_neighbour)\n",
    "\n",
    "        similarity_score[i] = sim_i[0, 0]\n",
    "\n",
    "    sorted_idx = np.argsort(similarity_score)[::-1]\n",
    "\n",
    "    similarity_score = np.sort(similarity_score)[::-1]\n",
    "\n",
    "    closest_neighbour = user_removed_mean_rating.index[sorted_idx[1:neighbours_count + 1]].tolist()\n",
    "\n",
    "    neighbour_similarities = list(similarity_score[1:neighbours_count + 1])\n",
    "\n",
    "    return {\n",
    "        'closest_neighbour': closest_neighbour,\n",
    "        'closest_neighbour_similarity': neighbour_similarities,\n",
    "    }\n",
    "\n"
   ]
  },
  {
   "cell_type": "markdown",
   "id": "c0da77ae-51fd-4e99-9427-3cbaa202c1ed",
   "metadata": {},
   "source": [
    "Следващия метод който е необходим е метод който да прогнозира как потребителя би оценил конкретния елемент. <br>\n",
    "Започвайки с базовата оценка се гледа за всеки съсед на потребителя как той е оценил елемента. \n",
    "Ако има оценка то се изчислява разликата между реалнaта оценка и базовата стойност на съседа за този елемент. \n",
    "Тази разлика се използва за претегляне на сходството между потребителя и конкретния съсед. \n",
    "Прогнозната оценка се коригира с базовата оценка, ако няма сходство (`similarity_sum == 0`). \n",
    "Накрая оценката се ограничава зададения диапазон (`min_rating` и `max_rating`)"
   ]
  },
  {
   "cell_type": "code",
   "execution_count": null,
   "id": "de939754-baa7-4ed5-95d1-24c09e8e617e",
   "metadata": {},
   "outputs": [],
   "source": [
    "def predict_item_rating(userid, movieid, data, neighbour_data, neighbour_count, min_rating=1, max_rating=5):\n",
    "    baseline = baseline_prediction(data, userid, movieid)\n",
    "\n",
    "    similarity_rating_total = 0\n",
    "    similarity_sum = 0\n",
    "\n",
    "    for i in range(neighbour_count):\n",
    "        neighbour_rating = data.loc[neighbour_data['closest_neighbour'][i], movieid]\n",
    "\n",
    "        if np.isnan(neighbour_rating):\n",
    "            continue\n",
    "\n",
    "        neighbour_baseline = baseline_prediction(data, neighbour_data['closest_neighbour'][i], movieid)\n",
    "\n",
    "        adjusted_rating = neighbour_rating - neighbour_baseline\n",
    "\n",
    "        similarity_rating = neighbour_data['closest_neighbour_similarity'][i] * adjusted_rating\n",
    "\n",
    "        similarity_rating_total += similarity_rating\n",
    "\n",
    "        similarity_sum += neighbour_data['closest_neighbour_similarity'][i]\n",
    "\n",
    "    # Prevent invalid division\n",
    "    if similarity_sum > 0:\n",
    "        user_item_prediction_rating = baseline + (similarity_rating_total / similarity_sum)\n",
    "    else:\n",
    "        user_item_prediction_rating = baseline\n",
    "\n",
    "    # Clip prediction to within allowed range\n",
    "    user_item_prediction_rating = max(min(user_item_prediction_rating, max_rating), min_rating)\n",
    "\n",
    "    return user_item_prediction_rating"
   ]
  },
  {
   "cell_type": "markdown",
   "id": "d74d2e42-5a0c-46ee-a390-c23f789af4da",
   "metadata": {},
   "source": [
    "В последната функция ще намерим най-близките съседи и ще прогнозираме оценките на всички непознати елементи. Ако `recommend_seen = Тrue` то ще прогнозираме и оценките на всички познати продукти. След това сортираме и връщаме `items_count` на брой елемента. "
   ]
  },
  {
   "cell_type": "code",
   "execution_count": null,
   "id": "9f4f0ad5-960e-4208-acae-f2fa48a93607",
   "metadata": {},
   "outputs": [],
   "source": [
    "def recommend_items(data, userid, neighbours_count, items_count, recommend_seen=False):\n",
    "    neighbour_data = find_neighbour(data=data, userid=userid, neighbours_count=neighbours_count)\n",
    "\n",
    "    prediction_df = pd.DataFrame()\n",
    "\n",
    "    predicted_raitings = []\n",
    "\n",
    "    mask = np.isnan(data.loc[userid])\n",
    "\n",
    "    items_to_predict = data.columns[mask]\n",
    "\n",
    "    if recommend_seen:\n",
    "        items_to_predict = data.columns\n",
    "\n",
    "    for movie in items_to_predict:\n",
    "        predictions = predict_item_rating(userid=userid, movieid=movie, data=data, neighbour_data=neighbour_data,\n",
    "                                          neighbour_count=5)\n",
    "\n",
    "        predicted_raitings.append(predictions)\n",
    "\n",
    "    prediction_df['movieId'] = data.columns[mask]\n",
    "\n",
    "    prediction_df['predictions'] = predicted_raitings\n",
    "\n",
    "    prediction_df = prediction_df.sort_values('predictions', ascending=False).head(items_count)\n",
    "\n",
    "    return prediction_df"
   ]
  },
  {
   "cell_type": "markdown",
   "id": "c596d5b7-99a4-4c85-a1b6-36648c409f86",
   "metadata": {},
   "source": [
    "Тук се прочитат данните и се настройва колоната `user_id` да е индекс, което означава че тази колона няма да се счита за колона с данни. С това се улеснява достъпа до данните "
   ]
  },
  {
   "cell_type": "code",
   "execution_count": null,
   "id": "4317f469-c000-4ee9-b9b1-9d6c0d778699",
   "metadata": {},
   "outputs": [],
   "source": [
    "# read data\n",
    "data = pd.read_csv(\"Amazon.csv\")\n",
    "\n",
    "# dataframe index\n",
    "data = data.set_index('user_id')"
   ]
  },
  {
   "cell_type": "markdown",
   "id": "f98a3b28-10f3-48e3-b737-53e5cc4f4678",
   "metadata": {},
   "source": [
    "Генериране на примерна препоръка за първия наличен потребител в данните"
   ]
  },
  {
   "cell_type": "code",
   "execution_count": null,
   "id": "f5e54b0e-88d2-47e9-9232-501fdb4a2b73",
   "metadata": {},
   "outputs": [],
   "source": [
    "user_recommendation = recommend_items(data=data, userid=\"A3R5OBKS7OM2IR\", neighbours_count=5, items_count=5,\n",
    "                                      recommend_seen=False)\n",
    "\n",
    "print(user_recommendation)"
   ]
  },
  {
   "cell_type": "code",
   "execution_count": null,
   "id": "a041cfd1-750c-469d-aaf1-c87514c92080",
   "metadata": {},
   "outputs": [],
   "source": [
    "users = data.index.to_series().sample(n=5).tolist()\n",
    "\n",
    "for user in users:\n",
    "    recomendation = recommend_items(data=data, userid=user, neighbours_count=5, items_count=5,recommend_seen=False)\n",
    "    print(\"Recomendations for user: {}\".format(user))\n",
    "    print(recomendation)\n",
    "    print(\"\\n\")\n"
   ]
  },
  {
   "cell_type": "code",
   "execution_count": null,
   "id": "e1ecde3d-2c73-4e76-9cb7-3cf01e24ee3b",
   "metadata": {},
   "outputs": [],
   "source": []
  },
  {
   "cell_type": "code",
   "execution_count": null,
   "id": "42dba0ba-34bb-4c6b-8c5f-b4b4ef8f00b7",
   "metadata": {},
   "outputs": [],
   "source": []
  }
 ],
 "metadata": {
  "kernelspec": {
   "display_name": "python-kernel",
   "language": "python",
   "name": "python-kernel"
  },
  "language_info": {
   "codemirror_mode": {
    "name": "ipython",
    "version": 3
   },
   "file_extension": ".py",
   "mimetype": "text/x-python",
   "name": "python",
   "nbconvert_exporter": "python",
   "pygments_lexer": "ipython3",
   "version": "3.12.3"
  }
 },
 "nbformat": 4,
 "nbformat_minor": 5
}
