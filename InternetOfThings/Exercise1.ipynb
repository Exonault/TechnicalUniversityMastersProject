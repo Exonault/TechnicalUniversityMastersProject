﻿{
 "cells": [
  {
   "cell_type": "code",
   "id": "initial_id",
   "metadata": {
    "collapsed": true,
    "ExecuteTime": {
     "end_time": "2025-03-13T16:28:13.116313Z",
     "start_time": "2025-03-13T16:28:12.764115Z"
    }
   },
   "source": [
    "import os\n",
    "import numpy as np\n",
    "import pandas as pd\n",
    "from pandas import read_excel"
   ],
   "outputs": [],
   "execution_count": 1
  },
  {
   "metadata": {
    "ExecuteTime": {
     "end_time": "2025-03-13T16:28:14.502870Z",
     "start_time": "2025-03-13T16:28:14.498870Z"
    }
   },
   "cell_type": "code",
   "source": [
    "# os.chdir(\".\")\n",
    "path = \"files/\"\n",
    "print(path)"
   ],
   "id": "88097be8f136bf24",
   "outputs": [
    {
     "name": "stdout",
     "output_type": "stream",
     "text": [
      "files/\n"
     ]
    }
   ],
   "execution_count": 2
  },
  {
   "metadata": {
    "ExecuteTime": {
     "end_time": "2025-03-13T16:33:08.667750Z",
     "start_time": "2025-03-13T16:33:08.652722Z"
    }
   },
   "cell_type": "code",
   "source": [
    "daysDf = read_excel(path + \"day.xls\", sheet_name='pavlovo', header=1, dtype={'03': np.float64, 'PM10': np.float64})\n",
    "daysDf"
   ],
   "id": "444a37dae5d33810",
   "outputs": [
    {
     "data": {
      "text/plain": [
       "         Date         O3        PM10\n",
       "0  01.01.2012  44.794662   34.649986\n",
       "1  02.01.2012  13.098713  144.050705\n",
       "2  03.01.2012   9.629462  290.839111"
      ],
      "text/html": [
       "<div>\n",
       "<style scoped>\n",
       "    .dataframe tbody tr th:only-of-type {\n",
       "        vertical-align: middle;\n",
       "    }\n",
       "\n",
       "    .dataframe tbody tr th {\n",
       "        vertical-align: top;\n",
       "    }\n",
       "\n",
       "    .dataframe thead th {\n",
       "        text-align: right;\n",
       "    }\n",
       "</style>\n",
       "<table border=\"1\" class=\"dataframe\">\n",
       "  <thead>\n",
       "    <tr style=\"text-align: right;\">\n",
       "      <th></th>\n",
       "      <th>Date</th>\n",
       "      <th>O3</th>\n",
       "      <th>PM10</th>\n",
       "    </tr>\n",
       "  </thead>\n",
       "  <tbody>\n",
       "    <tr>\n",
       "      <th>0</th>\n",
       "      <td>01.01.2012</td>\n",
       "      <td>44.794662</td>\n",
       "      <td>34.649986</td>\n",
       "    </tr>\n",
       "    <tr>\n",
       "      <th>1</th>\n",
       "      <td>02.01.2012</td>\n",
       "      <td>13.098713</td>\n",
       "      <td>144.050705</td>\n",
       "    </tr>\n",
       "    <tr>\n",
       "      <th>2</th>\n",
       "      <td>03.01.2012</td>\n",
       "      <td>9.629462</td>\n",
       "      <td>290.839111</td>\n",
       "    </tr>\n",
       "  </tbody>\n",
       "</table>\n",
       "</div>"
      ]
     },
     "execution_count": 8,
     "metadata": {},
     "output_type": "execute_result"
    }
   ],
   "execution_count": 8
  },
  {
   "metadata": {
    "ExecuteTime": {
     "end_time": "2025-03-13T16:33:13.764780Z",
     "start_time": "2025-03-13T16:33:13.744628Z"
    }
   },
   "cell_type": "code",
   "source": [
    "hoursDf = read_excel(path + \"hour.xls\", sheet_name='pavlovo', header=1, usecols=['Date', 'NO', 'NO2', 'AirTemp', 'Press', 'UMR', 'WD', 'WS'])\n",
    "hoursDf"
   ],
   "id": "fb450edf67862bde",
   "outputs": [
    {
     "data": {
      "text/plain": [
       "          Date      NO     NO2  AirTemp  Press   UMR      WD    WS\n",
       "0   01.01.2012   -1.39   13.92     -1.4  941.1  73.7  281.29  2.00\n",
       "1   01.01.2012   -1.35   11.51     -1.4  941.4  72.9  282.62  1.69\n",
       "2   01.01.2012   -1.24   11.46     -1.5  942.0  72.3  275.63  1.86\n",
       "3   01.01.2012   -0.96    9.69     -1.6  942.5  73.0  278.97  2.08\n",
       "4   01.01.2012   -0.77   10.80     -1.6  942.6  72.1  274.92  1.87\n",
       "..         ...     ...     ...      ...    ...   ...     ...   ...\n",
       "67  03.01.2012  655.61  233.33      0.1  949.2  80.0  206.05  0.52\n",
       "68  03.01.2012  553.24  183.67     -0.8  949.5  84.4  240.89  0.72\n",
       "69  03.01.2012  354.38  150.86     -0.9  949.4  85.6  214.22  1.15\n",
       "70  03.01.2012  297.02  136.31     -1.1  949.5  84.2  188.69  0.68\n",
       "71  03.01.2012  277.17  110.27     -1.9  949.4  86.8  225.86  0.78\n",
       "\n",
       "[72 rows x 8 columns]"
      ],
      "text/html": [
       "<div>\n",
       "<style scoped>\n",
       "    .dataframe tbody tr th:only-of-type {\n",
       "        vertical-align: middle;\n",
       "    }\n",
       "\n",
       "    .dataframe tbody tr th {\n",
       "        vertical-align: top;\n",
       "    }\n",
       "\n",
       "    .dataframe thead th {\n",
       "        text-align: right;\n",
       "    }\n",
       "</style>\n",
       "<table border=\"1\" class=\"dataframe\">\n",
       "  <thead>\n",
       "    <tr style=\"text-align: right;\">\n",
       "      <th></th>\n",
       "      <th>Date</th>\n",
       "      <th>NO</th>\n",
       "      <th>NO2</th>\n",
       "      <th>AirTemp</th>\n",
       "      <th>Press</th>\n",
       "      <th>UMR</th>\n",
       "      <th>WD</th>\n",
       "      <th>WS</th>\n",
       "    </tr>\n",
       "  </thead>\n",
       "  <tbody>\n",
       "    <tr>\n",
       "      <th>0</th>\n",
       "      <td>01.01.2012</td>\n",
       "      <td>-1.39</td>\n",
       "      <td>13.92</td>\n",
       "      <td>-1.4</td>\n",
       "      <td>941.1</td>\n",
       "      <td>73.7</td>\n",
       "      <td>281.29</td>\n",
       "      <td>2.00</td>\n",
       "    </tr>\n",
       "    <tr>\n",
       "      <th>1</th>\n",
       "      <td>01.01.2012</td>\n",
       "      <td>-1.35</td>\n",
       "      <td>11.51</td>\n",
       "      <td>-1.4</td>\n",
       "      <td>941.4</td>\n",
       "      <td>72.9</td>\n",
       "      <td>282.62</td>\n",
       "      <td>1.69</td>\n",
       "    </tr>\n",
       "    <tr>\n",
       "      <th>2</th>\n",
       "      <td>01.01.2012</td>\n",
       "      <td>-1.24</td>\n",
       "      <td>11.46</td>\n",
       "      <td>-1.5</td>\n",
       "      <td>942.0</td>\n",
       "      <td>72.3</td>\n",
       "      <td>275.63</td>\n",
       "      <td>1.86</td>\n",
       "    </tr>\n",
       "    <tr>\n",
       "      <th>3</th>\n",
       "      <td>01.01.2012</td>\n",
       "      <td>-0.96</td>\n",
       "      <td>9.69</td>\n",
       "      <td>-1.6</td>\n",
       "      <td>942.5</td>\n",
       "      <td>73.0</td>\n",
       "      <td>278.97</td>\n",
       "      <td>2.08</td>\n",
       "    </tr>\n",
       "    <tr>\n",
       "      <th>4</th>\n",
       "      <td>01.01.2012</td>\n",
       "      <td>-0.77</td>\n",
       "      <td>10.80</td>\n",
       "      <td>-1.6</td>\n",
       "      <td>942.6</td>\n",
       "      <td>72.1</td>\n",
       "      <td>274.92</td>\n",
       "      <td>1.87</td>\n",
       "    </tr>\n",
       "    <tr>\n",
       "      <th>...</th>\n",
       "      <td>...</td>\n",
       "      <td>...</td>\n",
       "      <td>...</td>\n",
       "      <td>...</td>\n",
       "      <td>...</td>\n",
       "      <td>...</td>\n",
       "      <td>...</td>\n",
       "      <td>...</td>\n",
       "    </tr>\n",
       "    <tr>\n",
       "      <th>67</th>\n",
       "      <td>03.01.2012</td>\n",
       "      <td>655.61</td>\n",
       "      <td>233.33</td>\n",
       "      <td>0.1</td>\n",
       "      <td>949.2</td>\n",
       "      <td>80.0</td>\n",
       "      <td>206.05</td>\n",
       "      <td>0.52</td>\n",
       "    </tr>\n",
       "    <tr>\n",
       "      <th>68</th>\n",
       "      <td>03.01.2012</td>\n",
       "      <td>553.24</td>\n",
       "      <td>183.67</td>\n",
       "      <td>-0.8</td>\n",
       "      <td>949.5</td>\n",
       "      <td>84.4</td>\n",
       "      <td>240.89</td>\n",
       "      <td>0.72</td>\n",
       "    </tr>\n",
       "    <tr>\n",
       "      <th>69</th>\n",
       "      <td>03.01.2012</td>\n",
       "      <td>354.38</td>\n",
       "      <td>150.86</td>\n",
       "      <td>-0.9</td>\n",
       "      <td>949.4</td>\n",
       "      <td>85.6</td>\n",
       "      <td>214.22</td>\n",
       "      <td>1.15</td>\n",
       "    </tr>\n",
       "    <tr>\n",
       "      <th>70</th>\n",
       "      <td>03.01.2012</td>\n",
       "      <td>297.02</td>\n",
       "      <td>136.31</td>\n",
       "      <td>-1.1</td>\n",
       "      <td>949.5</td>\n",
       "      <td>84.2</td>\n",
       "      <td>188.69</td>\n",
       "      <td>0.68</td>\n",
       "    </tr>\n",
       "    <tr>\n",
       "      <th>71</th>\n",
       "      <td>03.01.2012</td>\n",
       "      <td>277.17</td>\n",
       "      <td>110.27</td>\n",
       "      <td>-1.9</td>\n",
       "      <td>949.4</td>\n",
       "      <td>86.8</td>\n",
       "      <td>225.86</td>\n",
       "      <td>0.78</td>\n",
       "    </tr>\n",
       "  </tbody>\n",
       "</table>\n",
       "<p>72 rows × 8 columns</p>\n",
       "</div>"
      ]
     },
     "execution_count": 9,
     "metadata": {},
     "output_type": "execute_result"
    }
   ],
   "execution_count": 9
  },
  {
   "metadata": {},
   "cell_type": "code",
   "outputs": [],
   "execution_count": null,
   "source": "",
   "id": "81a452215a3b7fa2"
  }
 ],
 "metadata": {
  "kernelspec": {
   "display_name": "Python 3",
   "language": "python",
   "name": "python3"
  },
  "language_info": {
   "codemirror_mode": {
    "name": "ipython",
    "version": 2
   },
   "file_extension": ".py",
   "mimetype": "text/x-python",
   "name": "python",
   "nbconvert_exporter": "python",
   "pygments_lexer": "ipython2",
   "version": "2.7.6"
  }
 },
 "nbformat": 4,
 "nbformat_minor": 5
}
