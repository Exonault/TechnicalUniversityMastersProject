﻿{
 "cells": [
  {
   "cell_type": "code",
   "id": "initial_id",
   "metadata": {
    "collapsed": true,
    "ExecuteTime": {
     "end_time": "2025-03-16T13:26:03.449564Z",
     "start_time": "2025-03-16T13:26:03.328394Z"
    }
   },
   "source": [
    "from tkinter import *\n",
    "from tkinter import messagebox\n",
    "\n",
    "# from tkinter import messagebox\n",
    "from joblib import load\n",
    "import numpy as np"
   ],
   "outputs": [],
   "execution_count": 1
  },
  {
   "metadata": {
    "ExecuteTime": {
     "end_time": "2025-03-16T13:26:04.758143Z",
     "start_time": "2025-03-16T13:26:04.046688Z"
    }
   },
   "cell_type": "code",
   "source": "regr = load('regressor.joblib')",
   "id": "d3fa550dfb65eeb5",
   "outputs": [],
   "execution_count": 2
  },
  {
   "metadata": {
    "ExecuteTime": {
     "end_time": "2025-03-16T13:26:05.284487Z",
     "start_time": "2025-03-16T13:26:05.223480Z"
    }
   },
   "cell_type": "code",
   "source": [
    "root = Tk()\n",
    "root.title(\"Predict Value\")\n",
    "root.resizable(False, False)"
   ],
   "id": "8233379758f86edf",
   "outputs": [
    {
     "data": {
      "text/plain": [
       "''"
      ]
     },
     "execution_count": 3,
     "metadata": {},
     "output_type": "execute_result"
    }
   ],
   "execution_count": 3
  },
  {
   "metadata": {
    "ExecuteTime": {
     "end_time": "2025-03-16T13:26:06.442270Z",
     "start_time": "2025-03-16T13:26:06.436320Z"
    }
   },
   "cell_type": "code",
   "source": [
    "tempLabel = Label(root, text=\"Temperature (C)\")\n",
    "humidityLabel = Label(root, text=\"Humidity (%)\")\n",
    "pressureLabel = Label(root, text=\"Pressure (hPa)\")\n",
    "noLabel = Label(root, text=\"NO (ug/m3)\")\n",
    "no2Label = Label(root, text=\"NO2 (ug/m3)\")\n",
    "ozoneLabel = Label(root, text=\"Ozone (ug/m3)\")\n",
    "pm10Label = Label(root, text=\"PM10 (ug/m3)\")\n",
    "\n",
    "nonormL = Label(root, text = \"NO/NO2 norm is: %d\" % 200)\n",
    "ozoneNormL = Label(root, text = \"Ozone norm is: %d\" % 200)\n",
    "pm10NormL = Label(root, text = \"PM10 norm is : %d\" % 50)"
   ],
   "id": "3bf89e696bb7fd5e",
   "outputs": [],
   "execution_count": 4
  },
  {
   "metadata": {
    "ExecuteTime": {
     "end_time": "2025-03-16T13:26:09.775043Z",
     "start_time": "2025-03-16T13:26:09.771412Z"
    }
   },
   "cell_type": "code",
   "source": [
    "tempEntry = Entry(root)\n",
    "humidityEntry = Entry(root)\n",
    "pressureEntry = Entry(root)\n",
    "noEntry = Entry(root)\n",
    "no2Entry = Entry(root)\n",
    "ozoneEntry = Entry(root)\n",
    "pm10Entry = Entry(root)"
   ],
   "id": "ce1e072750cef0a2",
   "outputs": [],
   "execution_count": 5
  },
  {
   "metadata": {
    "ExecuteTime": {
     "end_time": "2025-03-16T13:26:11.072820Z",
     "start_time": "2025-03-16T13:26:11.067293Z"
    }
   },
   "cell_type": "code",
   "source": [
    "tempLabel.grid(row=0, column=0)\n",
    "tempEntry.grid(row=0, column=1)\n",
    "\n",
    "humidityLabel.grid(row=1, column=0)\n",
    "humidityEntry.grid(row=1, column=1)\n",
    "\n",
    "pressureLabel.grid(row=2, column=0)\n",
    "pressureEntry.grid(row=2, column=1)\n",
    "\n",
    "noLabel.grid(row=3, column=0)\n",
    "noEntry.grid(row=3, column=1)\n",
    "nonormL.grid(row=3, column=2)\n",
    "\n",
    "no2Entry.grid(row=4, column=0)\n",
    "no2Entry.grid(row=4, column=1)\n",
    "\n",
    "ozoneLabel.grid(row=5, column=0)\n",
    "ozoneEntry.grid(row=5, column=1)\n",
    "ozoneNormL.grid(row=5, column=2)\n",
    "\n",
    "pm10Label.grid(row=6, column=0)\n",
    "pm10Entry.grid(row=6, column=1)\n",
    "pm10NormL.grid(row=6, column=2)"
   ],
   "id": "18841084d9abc96d",
   "outputs": [],
   "execution_count": 6
  },
  {
   "metadata": {
    "ExecuteTime": {
     "end_time": "2025-03-16T13:26:15.826264Z",
     "start_time": "2025-03-16T13:26:15.821822Z"
    }
   },
   "cell_type": "code",
   "source": [
    "from sklearn.preprocessing import RobustScaler\n",
    "\n",
    "def predict():\n",
    "  # tempEntry.delete(0, END)\n",
    "  # humidityEntry.delete(0, END)\n",
    "  # pressureEntry.delete(0, END)\n",
    "  noEntry.delete(0, END)\n",
    "  no2Entry.delete(0, END)\n",
    "  ozoneEntry.delete(0, END)\n",
    "  pm10Entry.delete(0, END)\n",
    "\n",
    "  scaler = RobustScaler()\n",
    "\n",
    "  try:\n",
    "    arr = np.array([[float(tempEntry.get()),float(humidityEntry.get()),float(pressureEntry.get())]])\n",
    "  except ValueError as ve:\n",
    "    messagebox.showerror(\"Wrong value\", \"Enter float values\")\n",
    "\n",
    "  arrScaled = scaler.fit_transform(arr)\n",
    "  result = regr.predict(arrScaled)\n",
    "\n",
    "  noEntry.insert(0, round(result[0][0],2))\n",
    "  no2Entry.insert(0, round(result[0][1],2))\n",
    "  ozoneEntry.insert(0, round(result[0][2],2))\n",
    "  pm10Entry.insert(0, round(result[0][3],2))\n"
   ],
   "id": "6dab6b1a224eb391",
   "outputs": [],
   "execution_count": 7
  },
  {
   "metadata": {
    "ExecuteTime": {
     "end_time": "2025-03-16T13:26:17.432444Z",
     "start_time": "2025-03-16T13:26:17.428419Z"
    }
   },
   "cell_type": "code",
   "source": [
    "b = Button(root, text=\"Predict\", command=predict)\n",
    "b.grid(row=7, column=1)"
   ],
   "id": "14972154f6e4f379",
   "outputs": [],
   "execution_count": 8
  },
  {
   "metadata": {
    "ExecuteTime": {
     "end_time": "2025-03-16T13:27:05.598268Z",
     "start_time": "2025-03-16T13:27:05.595133Z"
    }
   },
   "cell_type": "code",
   "source": "root.mainloop()",
   "id": "636424425006dd8b",
   "outputs": [],
   "execution_count": 16
  },
  {
   "metadata": {},
   "cell_type": "code",
   "outputs": [],
   "execution_count": null,
   "source": "",
   "id": "dbe79bcd8857f6c3"
  }
 ],
 "metadata": {
  "kernelspec": {
   "display_name": "Python 3",
   "language": "python",
   "name": "python3"
  },
  "language_info": {
   "codemirror_mode": {
    "name": "ipython",
    "version": 2
   },
   "file_extension": ".py",
   "mimetype": "text/x-python",
   "name": "python",
   "nbconvert_exporter": "python",
   "pygments_lexer": "ipython2",
   "version": "2.7.6"
  }
 },
 "nbformat": 4,
 "nbformat_minor": 5
}
