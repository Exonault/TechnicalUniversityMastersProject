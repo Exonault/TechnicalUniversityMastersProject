{
 "cells": [
  {
   "cell_type": "markdown",
   "id": "75f28a65-944c-4fac-b410-b3104fb63740",
   "metadata": {},
   "source": [
    "# Linear model and neural network from scratch\n",
    "\n",
    "In this notebook we are building a model without anything pre built. <br>\n",
    "For data we use the Titanic competition. <br>\n",
    "For sake of simplicity the data is in the CSV/Titanic folder"
   ]
  },
  {
   "cell_type": "markdown",
   "id": "64d8758c-9adc-4427-950d-40e9f8d96808",
   "metadata": {},
   "source": [
    "We are using numpy and pytorch for calculations and pandas for working with tabular data"
   ]
  },
  {
   "cell_type": "code",
   "execution_count": 1,
   "id": "e24b0eba-9753-4917-a1c5-2e02bb13ff31",
   "metadata": {},
   "outputs": [],
   "source": [
    "import numpy as np, pandas as pd, torch\n",
    "\n",
    "np.set_printoptions(linewidth=140)\n",
    "torch.set_printoptions(linewidth=140, sci_mode=False, edgeitems=7)\n",
    "pd.set_option('display.width', 140)\n",
    "path=\"CSV/Titanic\""
   ]
  },
  {
   "cell_type": "markdown",
   "id": "4137208a-f4b4-4a96-9852-45b172773824",
   "metadata": {},
   "source": [
    "## Cleaning the data\n",
    "The data is in a table, provided via CSV file. We can use `pandas` to load the data"
   ]
  },
  {
   "cell_type": "code",
   "execution_count": 2,
   "id": "76a32821-a7c7-476e-b9f2-0ef4ee5ff636",
   "metadata": {},
   "outputs": [
    {
     "data": {
      "text/html": [
       "<div>\n",
       "<style scoped>\n",
       "    .dataframe tbody tr th:only-of-type {\n",
       "        vertical-align: middle;\n",
       "    }\n",
       "\n",
       "    .dataframe tbody tr th {\n",
       "        vertical-align: top;\n",
       "    }\n",
       "\n",
       "    .dataframe thead th {\n",
       "        text-align: right;\n",
       "    }\n",
       "</style>\n",
       "<table border=\"1\" class=\"dataframe\">\n",
       "  <thead>\n",
       "    <tr style=\"text-align: right;\">\n",
       "      <th></th>\n",
       "      <th>PassengerId</th>\n",
       "      <th>Survived</th>\n",
       "      <th>Pclass</th>\n",
       "      <th>Name</th>\n",
       "      <th>Sex</th>\n",
       "      <th>Age</th>\n",
       "      <th>SibSp</th>\n",
       "      <th>Parch</th>\n",
       "      <th>Ticket</th>\n",
       "      <th>Fare</th>\n",
       "      <th>Cabin</th>\n",
       "      <th>Embarked</th>\n",
       "    </tr>\n",
       "  </thead>\n",
       "  <tbody>\n",
       "    <tr>\n",
       "      <th>0</th>\n",
       "      <td>1</td>\n",
       "      <td>0</td>\n",
       "      <td>3</td>\n",
       "      <td>Braund, Mr. Owen Harris</td>\n",
       "      <td>male</td>\n",
       "      <td>22.0</td>\n",
       "      <td>1</td>\n",
       "      <td>0</td>\n",
       "      <td>A/5 21171</td>\n",
       "      <td>7.2500</td>\n",
       "      <td>NaN</td>\n",
       "      <td>S</td>\n",
       "    </tr>\n",
       "    <tr>\n",
       "      <th>1</th>\n",
       "      <td>2</td>\n",
       "      <td>1</td>\n",
       "      <td>1</td>\n",
       "      <td>Cumings, Mrs. John Bradley (Florence Briggs Th...</td>\n",
       "      <td>female</td>\n",
       "      <td>38.0</td>\n",
       "      <td>1</td>\n",
       "      <td>0</td>\n",
       "      <td>PC 17599</td>\n",
       "      <td>71.2833</td>\n",
       "      <td>C85</td>\n",
       "      <td>C</td>\n",
       "    </tr>\n",
       "    <tr>\n",
       "      <th>2</th>\n",
       "      <td>3</td>\n",
       "      <td>1</td>\n",
       "      <td>3</td>\n",
       "      <td>Heikkinen, Miss. Laina</td>\n",
       "      <td>female</td>\n",
       "      <td>26.0</td>\n",
       "      <td>0</td>\n",
       "      <td>0</td>\n",
       "      <td>STON/O2. 3101282</td>\n",
       "      <td>7.9250</td>\n",
       "      <td>NaN</td>\n",
       "      <td>S</td>\n",
       "    </tr>\n",
       "    <tr>\n",
       "      <th>3</th>\n",
       "      <td>4</td>\n",
       "      <td>1</td>\n",
       "      <td>1</td>\n",
       "      <td>Futrelle, Mrs. Jacques Heath (Lily May Peel)</td>\n",
       "      <td>female</td>\n",
       "      <td>35.0</td>\n",
       "      <td>1</td>\n",
       "      <td>0</td>\n",
       "      <td>113803</td>\n",
       "      <td>53.1000</td>\n",
       "      <td>C123</td>\n",
       "      <td>S</td>\n",
       "    </tr>\n",
       "    <tr>\n",
       "      <th>4</th>\n",
       "      <td>5</td>\n",
       "      <td>0</td>\n",
       "      <td>3</td>\n",
       "      <td>Allen, Mr. William Henry</td>\n",
       "      <td>male</td>\n",
       "      <td>35.0</td>\n",
       "      <td>0</td>\n",
       "      <td>0</td>\n",
       "      <td>373450</td>\n",
       "      <td>8.0500</td>\n",
       "      <td>NaN</td>\n",
       "      <td>S</td>\n",
       "    </tr>\n",
       "    <tr>\n",
       "      <th>...</th>\n",
       "      <td>...</td>\n",
       "      <td>...</td>\n",
       "      <td>...</td>\n",
       "      <td>...</td>\n",
       "      <td>...</td>\n",
       "      <td>...</td>\n",
       "      <td>...</td>\n",
       "      <td>...</td>\n",
       "      <td>...</td>\n",
       "      <td>...</td>\n",
       "      <td>...</td>\n",
       "      <td>...</td>\n",
       "    </tr>\n",
       "    <tr>\n",
       "      <th>886</th>\n",
       "      <td>887</td>\n",
       "      <td>0</td>\n",
       "      <td>2</td>\n",
       "      <td>Montvila, Rev. Juozas</td>\n",
       "      <td>male</td>\n",
       "      <td>27.0</td>\n",
       "      <td>0</td>\n",
       "      <td>0</td>\n",
       "      <td>211536</td>\n",
       "      <td>13.0000</td>\n",
       "      <td>NaN</td>\n",
       "      <td>S</td>\n",
       "    </tr>\n",
       "    <tr>\n",
       "      <th>887</th>\n",
       "      <td>888</td>\n",
       "      <td>1</td>\n",
       "      <td>1</td>\n",
       "      <td>Graham, Miss. Margaret Edith</td>\n",
       "      <td>female</td>\n",
       "      <td>19.0</td>\n",
       "      <td>0</td>\n",
       "      <td>0</td>\n",
       "      <td>112053</td>\n",
       "      <td>30.0000</td>\n",
       "      <td>B42</td>\n",
       "      <td>S</td>\n",
       "    </tr>\n",
       "    <tr>\n",
       "      <th>888</th>\n",
       "      <td>889</td>\n",
       "      <td>0</td>\n",
       "      <td>3</td>\n",
       "      <td>Johnston, Miss. Catherine Helen \"Carrie\"</td>\n",
       "      <td>female</td>\n",
       "      <td>NaN</td>\n",
       "      <td>1</td>\n",
       "      <td>2</td>\n",
       "      <td>W./C. 6607</td>\n",
       "      <td>23.4500</td>\n",
       "      <td>NaN</td>\n",
       "      <td>S</td>\n",
       "    </tr>\n",
       "    <tr>\n",
       "      <th>889</th>\n",
       "      <td>890</td>\n",
       "      <td>1</td>\n",
       "      <td>1</td>\n",
       "      <td>Behr, Mr. Karl Howell</td>\n",
       "      <td>male</td>\n",
       "      <td>26.0</td>\n",
       "      <td>0</td>\n",
       "      <td>0</td>\n",
       "      <td>111369</td>\n",
       "      <td>30.0000</td>\n",
       "      <td>C148</td>\n",
       "      <td>C</td>\n",
       "    </tr>\n",
       "    <tr>\n",
       "      <th>890</th>\n",
       "      <td>891</td>\n",
       "      <td>0</td>\n",
       "      <td>3</td>\n",
       "      <td>Dooley, Mr. Patrick</td>\n",
       "      <td>male</td>\n",
       "      <td>32.0</td>\n",
       "      <td>0</td>\n",
       "      <td>0</td>\n",
       "      <td>370376</td>\n",
       "      <td>7.7500</td>\n",
       "      <td>NaN</td>\n",
       "      <td>Q</td>\n",
       "    </tr>\n",
       "  </tbody>\n",
       "</table>\n",
       "<p>891 rows × 12 columns</p>\n",
       "</div>"
      ],
      "text/plain": [
       "     PassengerId  Survived  Pclass                                               Name     Sex   Age  SibSp  Parch            Ticket  \\\n",
       "0              1         0       3                            Braund, Mr. Owen Harris    male  22.0      1      0         A/5 21171   \n",
       "1              2         1       1  Cumings, Mrs. John Bradley (Florence Briggs Th...  female  38.0      1      0          PC 17599   \n",
       "2              3         1       3                             Heikkinen, Miss. Laina  female  26.0      0      0  STON/O2. 3101282   \n",
       "3              4         1       1       Futrelle, Mrs. Jacques Heath (Lily May Peel)  female  35.0      1      0            113803   \n",
       "4              5         0       3                           Allen, Mr. William Henry    male  35.0      0      0            373450   \n",
       "..           ...       ...     ...                                                ...     ...   ...    ...    ...               ...   \n",
       "886          887         0       2                              Montvila, Rev. Juozas    male  27.0      0      0            211536   \n",
       "887          888         1       1                       Graham, Miss. Margaret Edith  female  19.0      0      0            112053   \n",
       "888          889         0       3           Johnston, Miss. Catherine Helen \"Carrie\"  female   NaN      1      2        W./C. 6607   \n",
       "889          890         1       1                              Behr, Mr. Karl Howell    male  26.0      0      0            111369   \n",
       "890          891         0       3                                Dooley, Mr. Patrick    male  32.0      0      0            370376   \n",
       "\n",
       "        Fare Cabin Embarked  \n",
       "0     7.2500   NaN        S  \n",
       "1    71.2833   C85        C  \n",
       "2     7.9250   NaN        S  \n",
       "3    53.1000  C123        S  \n",
       "4     8.0500   NaN        S  \n",
       "..       ...   ...      ...  \n",
       "886  13.0000   NaN        S  \n",
       "887  30.0000   B42        S  \n",
       "888  23.4500   NaN        S  \n",
       "889  30.0000  C148        C  \n",
       "890   7.7500   NaN        Q  \n",
       "\n",
       "[891 rows x 12 columns]"
      ]
     },
     "execution_count": 2,
     "metadata": {},
     "output_type": "execute_result"
    }
   ],
   "source": [
    "df = pd.read_csv(path+\"/train.csv\")\n",
    "df"
   ]
  },
  {
   "cell_type": "markdown",
   "id": "03fafc13-d64c-4a97-bf8b-4bcedbfa6937",
   "metadata": {},
   "source": [
    "We are gonna multiply each column by some coefficient and `NaN` wont cut it. (NaN - Not a number, missing value) <br>\n",
    "Lets check how much NaNs are in the data"
   ]
  },
  {
   "cell_type": "code",
   "execution_count": 3,
   "id": "9898b699-88fd-4683-85af-b5073ade632f",
   "metadata": {},
   "outputs": [
    {
     "data": {
      "text/plain": [
       "PassengerId      0\n",
       "Survived         0\n",
       "Pclass           0\n",
       "Name             0\n",
       "Sex              0\n",
       "Age            177\n",
       "SibSp            0\n",
       "Parch            0\n",
       "Ticket           0\n",
       "Fare             0\n",
       "Cabin          687\n",
       "Embarked         2\n",
       "dtype: int64"
      ]
     },
     "execution_count": 3,
     "metadata": {},
     "output_type": "execute_result"
    }
   ],
   "source": [
    "df.isna().sum()"
   ]
  },
  {
   "cell_type": "markdown",
   "id": "683c7490-85c5-4b91-b85a-140c79146a25",
   "metadata": {},
   "source": [
    "We are using the most common value (`mode`) to replace all the `NaNs`"
   ]
  },
  {
   "cell_type": "code",
   "execution_count": 4,
   "id": "9f651278-cedf-4415-a3f7-2cab1214f0b9",
   "metadata": {},
   "outputs": [
    {
     "data": {
      "text/plain": [
       "PassengerId                      1\n",
       "Survived                       0.0\n",
       "Pclass                         3.0\n",
       "Name           Abbing, Mr. Anthony\n",
       "Sex                           male\n",
       "Age                           24.0\n",
       "SibSp                          0.0\n",
       "Parch                          0.0\n",
       "Ticket                        1601\n",
       "Fare                          8.05\n",
       "Cabin                      B96 B98\n",
       "Embarked                         S\n",
       "Name: 0, dtype: object"
      ]
     },
     "execution_count": 4,
     "metadata": {},
     "output_type": "execute_result"
    }
   ],
   "source": [
    "modes = df.mode().iloc[0]\n",
    "modes"
   ]
  },
  {
   "cell_type": "code",
   "execution_count": 5,
   "id": "908f0cd7-e995-466a-ad7b-5a4482ce9ff9",
   "metadata": {},
   "outputs": [],
   "source": [
    "df.fillna(modes, inplace=True)"
   ]
  },
  {
   "cell_type": "code",
   "execution_count": 6,
   "id": "d0e339cc-9237-4df5-bfa1-d8c6b4c5d9f6",
   "metadata": {},
   "outputs": [
    {
     "data": {
      "text/plain": [
       "PassengerId    0\n",
       "Survived       0\n",
       "Pclass         0\n",
       "Name           0\n",
       "Sex            0\n",
       "Age            0\n",
       "SibSp          0\n",
       "Parch          0\n",
       "Ticket         0\n",
       "Fare           0\n",
       "Cabin          0\n",
       "Embarked       0\n",
       "dtype: int64"
      ]
     },
     "execution_count": 6,
     "metadata": {},
     "output_type": "execute_result"
    }
   ],
   "source": [
    "df.isna().sum()"
   ]
  },
  {
   "cell_type": "markdown",
   "id": "1cc68feb-fef2-4136-bd3c-f70cc898e575",
   "metadata": {},
   "source": [
    "Lets see a quick summary of the data"
   ]
  },
  {
   "cell_type": "code",
   "execution_count": 7,
   "id": "c25a76ea-e566-45db-8ff5-d7f4213198f6",
   "metadata": {},
   "outputs": [
    {
     "data": {
      "text/html": [
       "<div>\n",
       "<style scoped>\n",
       "    .dataframe tbody tr th:only-of-type {\n",
       "        vertical-align: middle;\n",
       "    }\n",
       "\n",
       "    .dataframe tbody tr th {\n",
       "        vertical-align: top;\n",
       "    }\n",
       "\n",
       "    .dataframe thead th {\n",
       "        text-align: right;\n",
       "    }\n",
       "</style>\n",
       "<table border=\"1\" class=\"dataframe\">\n",
       "  <thead>\n",
       "    <tr style=\"text-align: right;\">\n",
       "      <th></th>\n",
       "      <th>PassengerId</th>\n",
       "      <th>Survived</th>\n",
       "      <th>Pclass</th>\n",
       "      <th>Age</th>\n",
       "      <th>SibSp</th>\n",
       "      <th>Parch</th>\n",
       "      <th>Fare</th>\n",
       "    </tr>\n",
       "  </thead>\n",
       "  <tbody>\n",
       "    <tr>\n",
       "      <th>count</th>\n",
       "      <td>891.000000</td>\n",
       "      <td>891.000000</td>\n",
       "      <td>891.000000</td>\n",
       "      <td>891.000000</td>\n",
       "      <td>891.000000</td>\n",
       "      <td>891.000000</td>\n",
       "      <td>891.000000</td>\n",
       "    </tr>\n",
       "    <tr>\n",
       "      <th>mean</th>\n",
       "      <td>446.000000</td>\n",
       "      <td>0.383838</td>\n",
       "      <td>2.308642</td>\n",
       "      <td>28.566970</td>\n",
       "      <td>0.523008</td>\n",
       "      <td>0.381594</td>\n",
       "      <td>32.204208</td>\n",
       "    </tr>\n",
       "    <tr>\n",
       "      <th>std</th>\n",
       "      <td>257.353842</td>\n",
       "      <td>0.486592</td>\n",
       "      <td>0.836071</td>\n",
       "      <td>13.199572</td>\n",
       "      <td>1.102743</td>\n",
       "      <td>0.806057</td>\n",
       "      <td>49.693429</td>\n",
       "    </tr>\n",
       "    <tr>\n",
       "      <th>min</th>\n",
       "      <td>1.000000</td>\n",
       "      <td>0.000000</td>\n",
       "      <td>1.000000</td>\n",
       "      <td>0.420000</td>\n",
       "      <td>0.000000</td>\n",
       "      <td>0.000000</td>\n",
       "      <td>0.000000</td>\n",
       "    </tr>\n",
       "    <tr>\n",
       "      <th>25%</th>\n",
       "      <td>223.500000</td>\n",
       "      <td>0.000000</td>\n",
       "      <td>2.000000</td>\n",
       "      <td>22.000000</td>\n",
       "      <td>0.000000</td>\n",
       "      <td>0.000000</td>\n",
       "      <td>7.910400</td>\n",
       "    </tr>\n",
       "    <tr>\n",
       "      <th>50%</th>\n",
       "      <td>446.000000</td>\n",
       "      <td>0.000000</td>\n",
       "      <td>3.000000</td>\n",
       "      <td>24.000000</td>\n",
       "      <td>0.000000</td>\n",
       "      <td>0.000000</td>\n",
       "      <td>14.454200</td>\n",
       "    </tr>\n",
       "    <tr>\n",
       "      <th>75%</th>\n",
       "      <td>668.500000</td>\n",
       "      <td>1.000000</td>\n",
       "      <td>3.000000</td>\n",
       "      <td>35.000000</td>\n",
       "      <td>1.000000</td>\n",
       "      <td>0.000000</td>\n",
       "      <td>31.000000</td>\n",
       "    </tr>\n",
       "    <tr>\n",
       "      <th>max</th>\n",
       "      <td>891.000000</td>\n",
       "      <td>1.000000</td>\n",
       "      <td>3.000000</td>\n",
       "      <td>80.000000</td>\n",
       "      <td>8.000000</td>\n",
       "      <td>6.000000</td>\n",
       "      <td>512.329200</td>\n",
       "    </tr>\n",
       "  </tbody>\n",
       "</table>\n",
       "</div>"
      ],
      "text/plain": [
       "       PassengerId    Survived      Pclass         Age       SibSp       Parch        Fare\n",
       "count   891.000000  891.000000  891.000000  891.000000  891.000000  891.000000  891.000000\n",
       "mean    446.000000    0.383838    2.308642   28.566970    0.523008    0.381594   32.204208\n",
       "std     257.353842    0.486592    0.836071   13.199572    1.102743    0.806057   49.693429\n",
       "min       1.000000    0.000000    1.000000    0.420000    0.000000    0.000000    0.000000\n",
       "25%     223.500000    0.000000    2.000000   22.000000    0.000000    0.000000    7.910400\n",
       "50%     446.000000    0.000000    3.000000   24.000000    0.000000    0.000000   14.454200\n",
       "75%     668.500000    1.000000    3.000000   35.000000    1.000000    0.000000   31.000000\n",
       "max     891.000000    1.000000    3.000000   80.000000    8.000000    6.000000  512.329200"
      ]
     },
     "execution_count": 7,
     "metadata": {},
     "output_type": "execute_result"
    }
   ],
   "source": [
    "df.describe(include=(np.number))"
   ]
  },
  {
   "cell_type": "markdown",
   "id": "546c92d1-29e6-4a36-930a-a4a96b5e3413",
   "metadata": {},
   "source": [
    "We can see the `Fare` is mainly between 0 and 30, but there are some big ones  (min to 75% is mostly between 0 and 30) but with some big values the model will be dominated. <br>\n",
    "We can see the issue with a histogram"
   ]
  },
  {
   "cell_type": "code",
   "execution_count": 8,
   "id": "14696866-a7b0-4827-b3c1-f26b8b571520",
   "metadata": {},
   "outputs": [
    {
     "data": {
      "text/plain": [
       "<Axes: >"
      ]
     },
     "execution_count": 8,
     "metadata": {},
     "output_type": "execute_result"
    },
    {
     "data": {
      "image/png": "[encoded data removed]",
      "text/plain": [
       "<Figure size 640x480 with 1 Axes>"
      ]
     },
     "metadata": {},
     "output_type": "display_data"
    }
   ],
   "source": [
    "df['Fare'].hist()"
   ]
  },
  {
   "cell_type": "markdown",
   "id": "64a87355-34db-48f7-89cf-871555e570de",
   "metadata": {},
   "source": [
    "To fix it the most common approach is to take the log of the values"
   ]
  },
  {
   "cell_type": "code",
   "execution_count": 9,
   "id": "33d1b395-3c96-43fa-ab09-554435ad1fcb",
   "metadata": {},
   "outputs": [],
   "source": [
    "df['LogFare'] = np.log(df['Fare']+1)"
   ]
  },
  {
   "cell_type": "code",
   "execution_count": 10,
   "id": "8fcd7906-865b-4018-a0c8-662e7276c135",
   "metadata": {},
   "outputs": [
    {
     "data": {
      "text/plain": [
       "<Axes: >"
      ]
     },
     "execution_count": 10,
     "metadata": {},
     "output_type": "execute_result"
    },
    {
     "data": {
      "image/png": "[encoded data removed]",
      "text/plain": [
       "<Figure size 640x480 with 1 Axes>"
      ]
     },
     "metadata": {},
     "output_type": "display_data"
    }
   ],
   "source": [
    "df['LogFare'].hist()"
   ]
  },
  {
   "cell_type": "markdown",
   "id": "b1075a7a-80e0-4aba-b7fb-a1b75f951db2",
   "metadata": {},
   "source": [
    "It looks like `Pclass` has only 3 values. We can check that"
   ]
  },
  {
   "cell_type": "code",
   "execution_count": 11,
   "id": "da1929b3-75bd-4f95-89c0-a85676d0e0f8",
   "metadata": {},
   "outputs": [
    {
     "data": {
      "text/plain": [
       "[np.int64(1), np.int64(2), np.int64(3)]"
      ]
     },
     "execution_count": 11,
     "metadata": {},
     "output_type": "execute_result"
    }
   ],
   "source": [
    "pclasses = sorted(df.Pclass.unique())\n",
    "pclasses"
   ]
  },
  {
   "cell_type": "markdown",
   "id": "eb33640e-da9e-4b73-8711-af5af5e9c6e3",
   "metadata": {},
   "source": [
    "Now a quick summary for the non numeric data"
   ]
  },
  {
   "cell_type": "code",
   "execution_count": 12,
   "id": "82d8e080-d9b2-4ccc-a0a6-c56ab72e31d9",
   "metadata": {},
   "outputs": [
    {
     "data": {
      "text/html": [
       "<div>\n",
       "<style scoped>\n",
       "    .dataframe tbody tr th:only-of-type {\n",
       "        vertical-align: middle;\n",
       "    }\n",
       "\n",
       "    .dataframe tbody tr th {\n",
       "        vertical-align: top;\n",
       "    }\n",
       "\n",
       "    .dataframe thead th {\n",
       "        text-align: right;\n",
       "    }\n",
       "</style>\n",
       "<table border=\"1\" class=\"dataframe\">\n",
       "  <thead>\n",
       "    <tr style=\"text-align: right;\">\n",
       "      <th></th>\n",
       "      <th>Name</th>\n",
       "      <th>Sex</th>\n",
       "      <th>Ticket</th>\n",
       "      <th>Cabin</th>\n",
       "      <th>Embarked</th>\n",
       "    </tr>\n",
       "  </thead>\n",
       "  <tbody>\n",
       "    <tr>\n",
       "      <th>count</th>\n",
       "      <td>891</td>\n",
       "      <td>891</td>\n",
       "      <td>891</td>\n",
       "      <td>891</td>\n",
       "      <td>891</td>\n",
       "    </tr>\n",
       "    <tr>\n",
       "      <th>unique</th>\n",
       "      <td>891</td>\n",
       "      <td>2</td>\n",
       "      <td>681</td>\n",
       "      <td>147</td>\n",
       "      <td>3</td>\n",
       "    </tr>\n",
       "    <tr>\n",
       "      <th>top</th>\n",
       "      <td>Dooley, Mr. Patrick</td>\n",
       "      <td>male</td>\n",
       "      <td>347082</td>\n",
       "      <td>B96 B98</td>\n",
       "      <td>S</td>\n",
       "    </tr>\n",
       "    <tr>\n",
       "      <th>freq</th>\n",
       "      <td>1</td>\n",
       "      <td>577</td>\n",
       "      <td>7</td>\n",
       "      <td>691</td>\n",
       "      <td>646</td>\n",
       "    </tr>\n",
       "  </tbody>\n",
       "</table>\n",
       "</div>"
      ],
      "text/plain": [
       "                       Name   Sex  Ticket    Cabin Embarked\n",
       "count                   891   891     891      891      891\n",
       "unique                  891     2     681      147        3\n",
       "top     Dooley, Mr. Patrick  male  347082  B96 B98        S\n",
       "freq                      1   577       7      691      646"
      ]
     },
     "execution_count": 12,
     "metadata": {},
     "output_type": "execute_result"
    }
   ],
   "source": [
    "df.describe(include=[object])"
   ]
  },
  {
   "cell_type": "markdown",
   "id": "e11a873d-25c1-46e5-8461-a8979d8fa8b4",
   "metadata": {},
   "source": [
    "We cannot multiply `male` or `s` by number so we need to to replace them with numbers. <br>\n",
    "We can do it by creating dummy variables. Dummy variable is a column that contains 1 where a particular column contains a particular value, otherwise 0. <br>\n",
    "For example with `Sex=male` we create a column in which there is 1 for each row in which for the column `Sex` has a value of `male`"
   ]
  },
  {
   "cell_type": "markdown",
   "id": "95e7cb3e-290a-4035-a55f-c51f856ad6cf",
   "metadata": {},
   "source": [
    "We could use `get_dummies()` which also removes the OG columns. We will create dummy variables for `Pclass, Sex, Embarked`. For `Cabin, Name, Ticket` there are too much unique values so we wont make dummy variables for them"
   ]
  },
  {
   "cell_type": "code",
   "execution_count": 13,
   "id": "ac468803-364d-4873-961e-7bef30b6c0bd",
   "metadata": {},
   "outputs": [
    {
     "data": {
      "text/plain": [
       "Index(['PassengerId', 'Survived', 'Name', 'Age', 'SibSp', 'Parch', 'Ticket', 'Fare', 'Cabin', 'LogFare', 'Sex_female', 'Sex_male',\n",
       "       'Pclass_1', 'Pclass_2', 'Pclass_3', 'Embarked_C', 'Embarked_Q', 'Embarked_S'],\n",
       "      dtype='object')"
      ]
     },
     "execution_count": 13,
     "metadata": {},
     "output_type": "execute_result"
    }
   ],
   "source": [
    "df = pd.get_dummies(df, columns=[\"Sex\", \"Pclass\", \"Embarked\"])\n",
    "df.columns"
   ]
  },
  {
   "cell_type": "markdown",
   "id": "97d59f44-bbaf-4ac7-8d67-de78a921856a",
   "metadata": {},
   "source": [
    "We can see that 8 col have been added, one for each value and the 3 cols have been removed"
   ]
  },
  {
   "cell_type": "code",
   "execution_count": 14,
   "id": "566831d3-b227-4012-a770-5abb3f5706a3",
   "metadata": {},
   "outputs": [
    {
     "data": {
      "text/html": [
       "<div>\n",
       "<style scoped>\n",
       "    .dataframe tbody tr th:only-of-type {\n",
       "        vertical-align: middle;\n",
       "    }\n",
       "\n",
       "    .dataframe tbody tr th {\n",
       "        vertical-align: top;\n",
       "    }\n",
       "\n",
       "    .dataframe thead th {\n",
       "        text-align: right;\n",
       "    }\n",
       "</style>\n",
       "<table border=\"1\" class=\"dataframe\">\n",
       "  <thead>\n",
       "    <tr style=\"text-align: right;\">\n",
       "      <th></th>\n",
       "      <th>Sex_male</th>\n",
       "      <th>Sex_female</th>\n",
       "      <th>Pclass_1</th>\n",
       "      <th>Pclass_2</th>\n",
       "      <th>Pclass_3</th>\n",
       "      <th>Embarked_C</th>\n",
       "      <th>Embarked_Q</th>\n",
       "      <th>Embarked_S</th>\n",
       "    </tr>\n",
       "  </thead>\n",
       "  <tbody>\n",
       "    <tr>\n",
       "      <th>0</th>\n",
       "      <td>True</td>\n",
       "      <td>False</td>\n",
       "      <td>False</td>\n",
       "      <td>False</td>\n",
       "      <td>True</td>\n",
       "      <td>False</td>\n",
       "      <td>False</td>\n",
       "      <td>True</td>\n",
       "    </tr>\n",
       "    <tr>\n",
       "      <th>1</th>\n",
       "      <td>False</td>\n",
       "      <td>True</td>\n",
       "      <td>True</td>\n",
       "      <td>False</td>\n",
       "      <td>False</td>\n",
       "      <td>True</td>\n",
       "      <td>False</td>\n",
       "      <td>False</td>\n",
       "    </tr>\n",
       "    <tr>\n",
       "      <th>2</th>\n",
       "      <td>False</td>\n",
       "      <td>True</td>\n",
       "      <td>False</td>\n",
       "      <td>False</td>\n",
       "      <td>True</td>\n",
       "      <td>False</td>\n",
       "      <td>False</td>\n",
       "      <td>True</td>\n",
       "    </tr>\n",
       "    <tr>\n",
       "      <th>3</th>\n",
       "      <td>False</td>\n",
       "      <td>True</td>\n",
       "      <td>True</td>\n",
       "      <td>False</td>\n",
       "      <td>False</td>\n",
       "      <td>False</td>\n",
       "      <td>False</td>\n",
       "      <td>True</td>\n",
       "    </tr>\n",
       "    <tr>\n",
       "      <th>4</th>\n",
       "      <td>True</td>\n",
       "      <td>False</td>\n",
       "      <td>False</td>\n",
       "      <td>False</td>\n",
       "      <td>True</td>\n",
       "      <td>False</td>\n",
       "      <td>False</td>\n",
       "      <td>True</td>\n",
       "    </tr>\n",
       "  </tbody>\n",
       "</table>\n",
       "</div>"
      ],
      "text/plain": [
       "   Sex_male  Sex_female  Pclass_1  Pclass_2  Pclass_3  Embarked_C  Embarked_Q  Embarked_S\n",
       "0      True       False     False     False      True       False       False        True\n",
       "1     False        True      True     False     False        True       False       False\n",
       "2     False        True     False     False      True       False       False        True\n",
       "3     False        True      True     False     False       False       False        True\n",
       "4      True       False     False     False      True       False       False        True"
      ]
     },
     "execution_count": 14,
     "metadata": {},
     "output_type": "execute_result"
    }
   ],
   "source": [
    "added_cols = ['Sex_male', 'Sex_female', 'Pclass_1', 'Pclass_2', 'Pclass_3', 'Embarked_C', 'Embarked_Q', 'Embarked_S']\n",
    "df[added_cols].head()"
   ]
  },
  {
   "cell_type": "markdown",
   "id": "84b2cba0-d78f-4573-9866-6248be3bd73d",
   "metadata": {},
   "source": [
    "We can create our independent (predictors) and depended (target) variables. They need to be PyTorch tensors. The depended variable in our case is `Survived`"
   ]
  },
  {
   "cell_type": "code",
   "execution_count": 15,
   "id": "2c00efde-34c5-4857-97f5-092ad737f67a",
   "metadata": {},
   "outputs": [],
   "source": [
    "from torch import tensor\n",
    "\n",
    "t_dep = tensor(df.Survived)"
   ]
  },
  {
   "cell_type": "markdown",
   "id": "2bb14982-7984-4c13-a545-ba3c25486599",
   "metadata": {},
   "source": [
    "Our independent variables are all continuous variables and the dummy variables we created"
   ]
  },
  {
   "cell_type": "code",
   "execution_count": 16,
   "id": "4028dadc-70e7-4e5e-865f-76248302d4e3",
   "metadata": {},
   "outputs": [
    {
     "data": {
      "text/plain": [
       "tensor([[22.0000,  1.0000,  0.0000,  2.1102,  1.0000,  0.0000,  0.0000,  0.0000,  1.0000,  0.0000,  0.0000,  1.0000],\n",
       "        [38.0000,  1.0000,  0.0000,  4.2806,  0.0000,  1.0000,  1.0000,  0.0000,  0.0000,  1.0000,  0.0000,  0.0000],\n",
       "        [26.0000,  0.0000,  0.0000,  2.1889,  0.0000,  1.0000,  0.0000,  0.0000,  1.0000,  0.0000,  0.0000,  1.0000],\n",
       "        [35.0000,  1.0000,  0.0000,  3.9908,  0.0000,  1.0000,  1.0000,  0.0000,  0.0000,  0.0000,  0.0000,  1.0000],\n",
       "        [35.0000,  0.0000,  0.0000,  2.2028,  1.0000,  0.0000,  0.0000,  0.0000,  1.0000,  0.0000,  0.0000,  1.0000],\n",
       "        [24.0000,  0.0000,  0.0000,  2.2469,  1.0000,  0.0000,  0.0000,  0.0000,  1.0000,  0.0000,  1.0000,  0.0000],\n",
       "        [54.0000,  0.0000,  0.0000,  3.9677,  1.0000,  0.0000,  1.0000,  0.0000,  0.0000,  0.0000,  0.0000,  1.0000],\n",
       "        ...,\n",
       "        [25.0000,  0.0000,  0.0000,  2.0857,  1.0000,  0.0000,  0.0000,  0.0000,  1.0000,  0.0000,  0.0000,  1.0000],\n",
       "        [39.0000,  0.0000,  5.0000,  3.4054,  0.0000,  1.0000,  0.0000,  0.0000,  1.0000,  0.0000,  1.0000,  0.0000],\n",
       "        [27.0000,  0.0000,  0.0000,  2.6391,  1.0000,  0.0000,  0.0000,  1.0000,  0.0000,  0.0000,  0.0000,  1.0000],\n",
       "        [19.0000,  0.0000,  0.0000,  3.4340,  0.0000,  1.0000,  1.0000,  0.0000,  0.0000,  0.0000,  0.0000,  1.0000],\n",
       "        [24.0000,  1.0000,  2.0000,  3.1966,  0.0000,  1.0000,  0.0000,  0.0000,  1.0000,  0.0000,  0.0000,  1.0000],\n",
       "        [26.0000,  0.0000,  0.0000,  3.4340,  1.0000,  0.0000,  1.0000,  0.0000,  0.0000,  1.0000,  0.0000,  0.0000],\n",
       "        [32.0000,  0.0000,  0.0000,  2.1691,  1.0000,  0.0000,  0.0000,  0.0000,  1.0000,  0.0000,  1.0000,  0.0000]])"
      ]
     },
     "execution_count": 16,
     "metadata": {},
     "output_type": "execute_result"
    }
   ],
   "source": [
    "indep_cols = ['Age', 'SibSp', 'Parch', 'LogFare'] + added_cols\n",
    "df[indep_cols].head()\n",
    "t_indep = tensor(df[indep_cols].to_numpy(dtype=np.float32), dtype=torch.float)\n",
    "t_indep"
   ]
  },
  {
   "cell_type": "code",
   "execution_count": 17,
   "id": "0aa52acd-9a39-434b-baf9-a58c00de4419",
   "metadata": {},
   "outputs": [
    {
     "data": {
      "text/plain": [
       "torch.Size([891, 12])"
      ]
     },
     "execution_count": 17,
     "metadata": {},
     "output_type": "execute_result"
    }
   ],
   "source": [
    "t_indep.shape"
   ]
  },
  {
   "cell_type": "markdown",
   "id": "65470a48-3748-49d3-b4a8-bde2784e4a6d",
   "metadata": {},
   "source": [
    "## Setting up a linear model"
   ]
  },
  {
   "cell_type": "markdown",
   "id": "5891e75d-f191-4376-868f-b28c574a5f07",
   "metadata": {},
   "source": [
    "We are gonna create a simple linear model. We need coefficients for each `t_indep`. We pick random numbers between -0.5 and 0.5. "
   ]
  },
  {
   "cell_type": "code",
   "execution_count": 18,
   "id": "002377f3-df54-4090-835c-827466de007b",
   "metadata": {},
   "outputs": [
    {
     "data": {
      "text/plain": [
       "tensor([-0.4629,  0.1386,  0.2409, -0.2262, -0.2632, -0.3147,  0.4876,  0.3136,  0.2799, -0.4392,  0.2103,  0.3625])"
      ]
     },
     "execution_count": 18,
     "metadata": {},
     "output_type": "execute_result"
    }
   ],
   "source": [
    "torch.manual_seed(442)\n",
    "\n",
    "n_coeff = t_indep.shape[1]\n",
    "coeff = torch.rand(n_coeff) - 0.5\n",
    "coeff"
   ]
  },
  {
   "cell_type": "markdown",
   "id": "bda00830-3406-41dd-95de-d83a74d732b9",
   "metadata": {},
   "source": [
    "We now multiply each row by the coeffitiens. We dont need bias because we cover the entire dataset."
   ]
  },
  {
   "cell_type": "code",
   "execution_count": 19,
   "id": "bc4cd789-a257-4447-8cda-3f8d761e2e77",
   "metadata": {},
   "outputs": [
    {
     "data": {
      "text/plain": [
       "tensor([[-10.1838,   0.1386,   0.0000,  -0.4772,  -0.2632,  -0.0000,   0.0000,   0.0000,   0.2799,  -0.0000,   0.0000,   0.3625],\n",
       "        [-17.5902,   0.1386,   0.0000,  -0.9681,  -0.0000,  -0.3147,   0.4876,   0.0000,   0.0000,  -0.4392,   0.0000,   0.0000],\n",
       "        [-12.0354,   0.0000,   0.0000,  -0.4950,  -0.0000,  -0.3147,   0.0000,   0.0000,   0.2799,  -0.0000,   0.0000,   0.3625],\n",
       "        [-16.2015,   0.1386,   0.0000,  -0.9025,  -0.0000,  -0.3147,   0.4876,   0.0000,   0.0000,  -0.0000,   0.0000,   0.3625],\n",
       "        [-16.2015,   0.0000,   0.0000,  -0.4982,  -0.2632,  -0.0000,   0.0000,   0.0000,   0.2799,  -0.0000,   0.0000,   0.3625],\n",
       "        [-11.1096,   0.0000,   0.0000,  -0.5081,  -0.2632,  -0.0000,   0.0000,   0.0000,   0.2799,  -0.0000,   0.2103,   0.0000],\n",
       "        [-24.9966,   0.0000,   0.0000,  -0.8973,  -0.2632,  -0.0000,   0.4876,   0.0000,   0.0000,  -0.0000,   0.0000,   0.3625],\n",
       "        ...,\n",
       "        [-11.5725,   0.0000,   0.0000,  -0.4717,  -0.2632,  -0.0000,   0.0000,   0.0000,   0.2799,  -0.0000,   0.0000,   0.3625],\n",
       "        [-18.0531,   0.0000,   1.2045,  -0.7701,  -0.0000,  -0.3147,   0.0000,   0.0000,   0.2799,  -0.0000,   0.2103,   0.0000],\n",
       "        [-12.4983,   0.0000,   0.0000,  -0.5968,  -0.2632,  -0.0000,   0.0000,   0.3136,   0.0000,  -0.0000,   0.0000,   0.3625],\n",
       "        [ -8.7951,   0.0000,   0.0000,  -0.7766,  -0.0000,  -0.3147,   0.4876,   0.0000,   0.0000,  -0.0000,   0.0000,   0.3625],\n",
       "        [-11.1096,   0.1386,   0.4818,  -0.7229,  -0.0000,  -0.3147,   0.0000,   0.0000,   0.2799,  -0.0000,   0.0000,   0.3625],\n",
       "        [-12.0354,   0.0000,   0.0000,  -0.7766,  -0.2632,  -0.0000,   0.4876,   0.0000,   0.0000,  -0.4392,   0.0000,   0.0000],\n",
       "        [-14.8128,   0.0000,   0.0000,  -0.4905,  -0.2632,  -0.0000,   0.0000,   0.0000,   0.2799,  -0.0000,   0.2103,   0.0000]])"
      ]
     },
     "execution_count": 19,
     "metadata": {},
     "output_type": "execute_result"
    }
   ],
   "source": [
    "t_indep*coeff"
   ]
  },
  {
   "cell_type": "markdown",
   "id": "6236b233-d2c2-49fa-a897-fabfc3bcb2b6",
   "metadata": {},
   "source": [
    "The sum is dominated by the first column. To fix this we divide every value in each columnby the max value of the column"
   ]
  },
  {
   "cell_type": "code",
   "execution_count": 20,
   "id": "43c6c6d4-6615-4414-825d-9b53b0997930",
   "metadata": {},
   "outputs": [],
   "source": [
    "vals, indices = t_indep.max(dim=0)\n",
    "t_indep = t_indep / vals"
   ]
  },
  {
   "cell_type": "markdown",
   "id": "55511c9f-c3fb-4996-bf1a-babb7f262047",
   "metadata": {},
   "source": [
    "Now we can multiply"
   ]
  },
  {
   "cell_type": "code",
   "execution_count": 21,
   "id": "2099bc28-01f1-4143-8797-8200940c85b2",
   "metadata": {},
   "outputs": [
    {
     "data": {
      "text/plain": [
       "tensor([[-0.1273,  0.0173,  0.0000, -0.0765, -0.2632, -0.0000,  0.0000,  0.0000,  0.2799, -0.0000,  0.0000,  0.3625],\n",
       "        [-0.2199,  0.0173,  0.0000, -0.1551, -0.0000, -0.3147,  0.4876,  0.0000,  0.0000, -0.4392,  0.0000,  0.0000],\n",
       "        [-0.1504,  0.0000,  0.0000, -0.0793, -0.0000, -0.3147,  0.0000,  0.0000,  0.2799, -0.0000,  0.0000,  0.3625],\n",
       "        [-0.2025,  0.0173,  0.0000, -0.1446, -0.0000, -0.3147,  0.4876,  0.0000,  0.0000, -0.0000,  0.0000,  0.3625],\n",
       "        [-0.2025,  0.0000,  0.0000, -0.0798, -0.2632, -0.0000,  0.0000,  0.0000,  0.2799, -0.0000,  0.0000,  0.3625],\n",
       "        [-0.1389,  0.0000,  0.0000, -0.0814, -0.2632, -0.0000,  0.0000,  0.0000,  0.2799, -0.0000,  0.2103,  0.0000],\n",
       "        [-0.3125,  0.0000,  0.0000, -0.1438, -0.2632, -0.0000,  0.4876,  0.0000,  0.0000, -0.0000,  0.0000,  0.3625],\n",
       "        ...,\n",
       "        [-0.1447,  0.0000,  0.0000, -0.0756, -0.2632, -0.0000,  0.0000,  0.0000,  0.2799, -0.0000,  0.0000,  0.3625],\n",
       "        [-0.2257,  0.0000,  0.2008, -0.1234, -0.0000, -0.3147,  0.0000,  0.0000,  0.2799, -0.0000,  0.2103,  0.0000],\n",
       "        [-0.1562,  0.0000,  0.0000, -0.0956, -0.2632, -0.0000,  0.0000,  0.3136,  0.0000, -0.0000,  0.0000,  0.3625],\n",
       "        [-0.1099,  0.0000,  0.0000, -0.1244, -0.0000, -0.3147,  0.4876,  0.0000,  0.0000, -0.0000,  0.0000,  0.3625],\n",
       "        [-0.1389,  0.0173,  0.0803, -0.1158, -0.0000, -0.3147,  0.0000,  0.0000,  0.2799, -0.0000,  0.0000,  0.3625],\n",
       "        [-0.1504,  0.0000,  0.0000, -0.1244, -0.2632, -0.0000,  0.4876,  0.0000,  0.0000, -0.4392,  0.0000,  0.0000],\n",
       "        [-0.1852,  0.0000,  0.0000, -0.0786, -0.2632, -0.0000,  0.0000,  0.0000,  0.2799, -0.0000,  0.2103,  0.0000]])"
      ]
     },
     "execution_count": 21,
     "metadata": {},
     "output_type": "execute_result"
    }
   ],
   "source": [
    "t_indep * coeff"
   ]
  },
  {
   "cell_type": "markdown",
   "id": "e5b4f43e-250f-4f8d-8e2d-463ad4ed8b72",
   "metadata": {},
   "source": [
    "With `t_indep = t_indep / vals` we divide a matrix by a vector via broadcasting."
   ]
  },
  {
   "cell_type": "markdown",
   "id": "aec09eb0-1885-496f-a926-19428856e85f",
   "metadata": {},
   "source": [
    "We can create the predictions"
   ]
  },
  {
   "cell_type": "code",
   "execution_count": 22,
   "id": "d8953217-b1b3-43d9-9c71-979b3ff88636",
   "metadata": {},
   "outputs": [],
   "source": [
    "preds = (t_indep * coeff).sum(axis=1)"
   ]
  },
  {
   "cell_type": "markdown",
   "id": "ae0b07bc-5f33-428c-957c-1330a8b825db",
   "metadata": {},
   "source": [
    "Lets see some of the predictions"
   ]
  },
  {
   "cell_type": "code",
   "execution_count": 23,
   "id": "ea1db0e3-bef0-481f-bd64-72d1441251d8",
   "metadata": {},
   "outputs": [
    {
     "data": {
      "text/plain": [
       "tensor([ 0.1927, -0.6239,  0.0979,  0.2056,  0.0968,  0.0066,  0.1306,  0.3476,  0.1613, -0.6285])"
      ]
     },
     "execution_count": 23,
     "metadata": {},
     "output_type": "execute_result"
    }
   ],
   "source": [
    "preds[:10]"
   ]
  },
  {
   "cell_type": "markdown",
   "id": "daa7b8bf-5210-4e4f-a931-a4aad30ad595",
   "metadata": {},
   "source": [
    "These are starting predictions. We are gonna use them for gradient descent <br>\n",
    "For gradient descent we need a loss function. We are using average error of rows"
   ]
  },
  {
   "cell_type": "code",
   "execution_count": 24,
   "id": "d99f2fa5-6c25-4d1b-a52b-847ff3709b37",
   "metadata": {},
   "outputs": [
    {
     "data": {
      "text/plain": [
       "tensor(0.5382)"
      ]
     },
     "execution_count": 24,
     "metadata": {},
     "output_type": "execute_result"
    }
   ],
   "source": [
    "loss = torch.abs(preds-t_dep).mean()\n",
    "loss"
   ]
  },
  {
   "cell_type": "markdown",
   "id": "3e1af1e7-975a-4237-96ff-5ea05fae0ffe",
   "metadata": {},
   "source": [
    "To make it easier we gonna create some functions"
   ]
  },
  {
   "cell_type": "code",
   "execution_count": 25,
   "id": "903b6c9b-68a3-4f07-8023-a0494e62da3a",
   "metadata": {},
   "outputs": [],
   "source": [
    "def calc_preds(coeffs, indeps): return (indeps * coeffs).sum(axis=1)\n",
    "def calc_loss(coeffs, indeps, deps): return torch.abs(calc_preds(coeffs, indeps) - deps).mean()"
   ]
  },
  {
   "cell_type": "markdown",
   "id": "dae2b2a4-8285-4ea2-8ffb-7efee1b6ea67",
   "metadata": {},
   "source": [
    "## Doing gradient descent "
   ]
  },
  {
   "cell_type": "markdown",
   "id": "bcbfa07f-6829-47ea-8deb-588d44e34310",
   "metadata": {},
   "source": [
    "We are gonna do a singe \"epoch\" of GD manually. To calculate the gradient we use `required_grad_()` on the `coeff`"
   ]
  },
  {
   "cell_type": "code",
   "execution_count": 26,
   "id": "5496f302-1b3d-4b18-af2d-e0702755cfac",
   "metadata": {},
   "outputs": [
    {
     "data": {
      "text/plain": [
       "tensor([-0.4629,  0.1386,  0.2409, -0.2262, -0.2632, -0.3147,  0.4876,  0.3136,  0.2799, -0.4392,  0.2103,  0.3625], requires_grad=True)"
      ]
     },
     "execution_count": 26,
     "metadata": {},
     "output_type": "execute_result"
    }
   ],
   "source": [
    "coeff.requires_grad_()"
   ]
  },
  {
   "cell_type": "markdown",
   "id": "0790f020-c13d-4195-80d0-020b271ae013",
   "metadata": {},
   "source": [
    "Now to calculate the loss"
   ]
  },
  {
   "cell_type": "code",
   "execution_count": 27,
   "id": "961099a6-9a05-4b3a-a6d4-cb0499d853e4",
   "metadata": {},
   "outputs": [
    {
     "data": {
      "text/plain": [
       "tensor(0.5382, grad_fn=<MeanBackward0>)"
      ]
     },
     "execution_count": 27,
     "metadata": {},
     "output_type": "execute_result"
    }
   ],
   "source": [
    "loss = calc_loss(coeff, t_indep, t_dep)\n",
    "loss"
   ]
  },
  {
   "cell_type": "markdown",
   "id": "a439817e-c909-4b08-9401-cfdb317d6cf3",
   "metadata": {},
   "source": [
    "We access the gradient with `.backward()`"
   ]
  },
  {
   "cell_type": "code",
   "execution_count": 28,
   "id": "490aaa1f-deca-4321-8639-a1e417fa2a22",
   "metadata": {},
   "outputs": [],
   "source": [
    "loss.backward()"
   ]
  },
  {
   "cell_type": "code",
   "execution_count": 29,
   "id": "f95041dc-b2c4-43a3-a00a-dc4594a6172d",
   "metadata": {},
   "outputs": [
    {
     "data": {
      "text/plain": [
       "tensor([-0.0106,  0.0129, -0.0041, -0.0484,  0.2099, -0.2132, -0.1212, -0.0247,  0.1425, -0.1886, -0.0191,  0.2043])"
      ]
     },
     "execution_count": 29,
     "metadata": {},
     "output_type": "execute_result"
    }
   ],
   "source": [
    "coeff.grad"
   ]
  },
  {
   "cell_type": "markdown",
   "id": "957d4fcb-9907-4d92-a60d-1461552e60d9",
   "metadata": {},
   "source": [
    "Each time we call `backward` the gradients are added to whatever is inside the `.grad` attribute. <br>\n",
    "Lets try the above steps again"
   ]
  },
  {
   "cell_type": "code",
   "execution_count": 30,
   "id": "f8c4a146-64de-4c5c-b356-fe32195983bd",
   "metadata": {},
   "outputs": [
    {
     "data": {
      "text/plain": [
       "tensor([-0.0212,  0.0258, -0.0082, -0.0969,  0.4198, -0.4265, -0.2424, -0.0494,  0.2851, -0.3771, -0.0382,  0.4085])"
      ]
     },
     "execution_count": 30,
     "metadata": {},
     "output_type": "execute_result"
    }
   ],
   "source": [
    "loss = calc_loss(coeff, t_indep, t_dep)\n",
    "loss.backward()\n",
    "coeff.grad"
   ]
  },
  {
   "cell_type": "markdown",
   "id": "4ef4b559-cd8a-4790-a123-f00e9b64db58",
   "metadata": {},
   "source": [
    "The `.grad` values have doubled. Thats because the grad is added a second time. <br>\n",
    "For that reason we need to set the gradient back to 0"
   ]
  },
  {
   "cell_type": "code",
   "execution_count": 31,
   "id": "3825fbbe-f12f-4349-93fc-df08658f2745",
   "metadata": {},
   "outputs": [
    {
     "name": "stdout",
     "output_type": "stream",
     "text": [
      "tensor(0.4945)\n"
     ]
    }
   ],
   "source": [
    "loss = calc_loss(coeff, t_indep, t_dep)\n",
    "loss.backward()\n",
    "with torch.no_grad():\n",
    "    coeff.sub_(coeff.grad * 0.1)\n",
    "    coeff.grad.zero_()\n",
    "    print(calc_loss(coeff, t_indep, t_dep))"
   ]
  },
  {
   "cell_type": "markdown",
   "id": "e4ff06e3-0670-4424-ac0f-f7f13d9671ae",
   "metadata": {},
   "source": [
    "`a.sub_(b)` subtracts b from a in place. In pytorch every method that ends in `_` changes the object in place. Same goes for `a.zero_()`"
   ]
  },
  {
   "cell_type": "markdown",
   "id": "24cc184f-2dd3-4e66-b9fe-076f0fa754a3",
   "metadata": {},
   "source": [
    "## Training the linear model\n",
    "\n"
   ]
  },
  {
   "cell_type": "markdown",
   "id": "bac8bef9-ac25-4578-a605-b7c34377fa6a",
   "metadata": {},
   "source": [
    "We need to create a training and validation sets. We use `RandomSplitter`"
   ]
  },
  {
   "cell_type": "code",
   "execution_count": 32,
   "id": "842dd6be-b259-493a-bf43-8c230badde71",
   "metadata": {},
   "outputs": [],
   "source": [
    "from fastai.data.transforms import RandomSplitter\n",
    "trainSplit, validationSplit = RandomSplitter(seed=42)(df)"
   ]
  },
  {
   "cell_type": "markdown",
   "id": "749e68f6-514f-42a0-9cc5-64ddcf936f7e",
   "metadata": {},
   "source": [
    "We can apply the independent and dependent variables"
   ]
  },
  {
   "cell_type": "code",
   "execution_count": 33,
   "id": "86839688-3049-40b8-b2d1-cad416783c41",
   "metadata": {},
   "outputs": [
    {
     "data": {
      "text/plain": [
       "(713, 178)"
      ]
     },
     "execution_count": 33,
     "metadata": {},
     "output_type": "execute_result"
    }
   ],
   "source": [
    "trainIndep, validationIndep = t_indep[trainSplit], t_indep[validationSplit]\n",
    "trainDep, validationDep = t_dep[trainSplit], t_dep[validationSplit]\n",
    "len(trainIndep),len(validationIndep)"
   ]
  },
  {
   "cell_type": "markdown",
   "id": "c38f4960-cab1-4439-a161-678177759df4",
   "metadata": {},
   "source": [
    "We create a function to modify the coeffitiens"
   ]
  },
  {
   "cell_type": "code",
   "execution_count": 34,
   "id": "111af872-e7e4-4a50-ae86-48e23bbe6643",
   "metadata": {},
   "outputs": [],
   "source": [
    "def update_coeff(coeffs, lr):\n",
    "    coeffs.sub_(coeffs.grad * lr)\n",
    "    coeffs.grad.zero_()"
   ]
  },
  {
   "cell_type": "code",
   "execution_count": 35,
   "id": "0102e88b-1113-422b-ad19-673b9710eda9",
   "metadata": {},
   "outputs": [],
   "source": [
    "def one_epoch(coeffs, lr):\n",
    "    loss = calc_loss(coeffs, trainIndep, trainDep)\n",
    "    loss.backward()\n",
    "    with torch.no_grad():\n",
    "        update_coeff(coeffs, lr)\n",
    "    print(f\"{loss:.3f}\", end=\"; \")"
   ]
  },
  {
   "cell_type": "code",
   "execution_count": 36,
   "id": "c4fe0f04-b144-4531-8fd4-705655e91a28",
   "metadata": {},
   "outputs": [],
   "source": [
    "def init_coeffs(): return (torch.rand(n_coeff)-0.5).requires_grad_()"
   ]
  },
  {
   "cell_type": "markdown",
   "id": "855f9bd4-dc4d-4433-b679-b5419fb2f49b",
   "metadata": {},
   "source": [
    "Lets create a method to train our model"
   ]
  },
  {
   "cell_type": "code",
   "execution_count": 37,
   "id": "33eaa1de-97b1-4c0b-9cd2-24dc5f730820",
   "metadata": {},
   "outputs": [],
   "source": [
    "def train_model(epochs = 30, lr = 0.01):\n",
    "    torch.manual_seed(442)\n",
    "    coeffs = init_coeffs()\n",
    "    for i in range(epochs):\n",
    "        one_epoch(coeffs, lr=lr)\n",
    "    return coeffs"
   ]
  },
  {
   "cell_type": "markdown",
   "id": "f21e1545-39e8-480a-ba87-5db82ed17d29",
   "metadata": {},
   "source": [
    "Lets test it"
   ]
  },
  {
   "cell_type": "code",
   "execution_count": 38,
   "id": "43d40c11-8b53-4907-bb5f-20bc4ca7b673",
   "metadata": {},
   "outputs": [
    {
     "name": "stdout",
     "output_type": "stream",
     "text": [
      "0.536; 0.502; 0.477; 0.454; 0.431; 0.409; 0.388; 0.367; 0.349; 0.336; 0.330; 0.326; 0.329; 0.304; 0.314; 0.296; 0.300; 0.289; "
     ]
    }
   ],
   "source": [
    "coeffs = train_model(18, lr=0.2)"
   ]
  },
  {
   "cell_type": "markdown",
   "id": "967df4c8-9b20-4145-8422-22bc8fbbe4bb",
   "metadata": {},
   "source": [
    "Lets see the coefficients for each collumn"
   ]
  },
  {
   "cell_type": "code",
   "execution_count": 39,
   "id": "5ce071d3-676a-48ac-8581-500fe51fb7f3",
   "metadata": {},
   "outputs": [
    {
     "data": {
      "text/plain": [
       "{'Age': tensor(-0.2694),\n",
       " 'SibSp': tensor(0.0901),\n",
       " 'Parch': tensor(0.2359),\n",
       " 'LogFare': tensor(0.0280),\n",
       " 'Sex_male': tensor(-0.3990),\n",
       " 'Sex_female': tensor(0.2345),\n",
       " 'Pclass_1': tensor(0.7232),\n",
       " 'Pclass_2': tensor(0.4112),\n",
       " 'Pclass_3': tensor(0.3601),\n",
       " 'Embarked_C': tensor(0.0955),\n",
       " 'Embarked_Q': tensor(0.2395),\n",
       " 'Embarked_S': tensor(0.2122)}"
      ]
     },
     "execution_count": 39,
     "metadata": {},
     "output_type": "execute_result"
    }
   ],
   "source": [
    "def show_coeffs(): return dict(zip(indep_cols, coeffs.requires_grad_(False)))\n",
    "show_coeffs()"
   ]
  },
  {
   "cell_type": "markdown",
   "id": "648d0354-2d02-4ab0-97b8-bdf13dddd9c8",
   "metadata": {},
   "source": [
    "## Measuring accuracy\n",
    "\n",
    "Lets see how accurate we predict"
   ]
  },
  {
   "cell_type": "code",
   "execution_count": 40,
   "id": "9d6660c0-307a-4c29-a534-3f76b561e279",
   "metadata": {},
   "outputs": [],
   "source": [
    "preds = calc_preds(coeffs, validationIndep)"
   ]
  },
  {
   "cell_type": "markdown",
   "id": "0227ce87-83e8-4647-8db1-b545703727f3",
   "metadata": {},
   "source": [
    "We assume if the prediction is over `0.5` the passenger survived, else he died."
   ]
  },
  {
   "cell_type": "code",
   "execution_count": 41,
   "id": "ef008ca0-1675-42e9-b5a3-8737e77f0d17",
   "metadata": {},
   "outputs": [
    {
     "data": {
      "text/plain": [
       "tensor([ True,  True,  True,  True,  True,  True,  True,  True,  True,  True, False, False, False,  True,  True, False])"
      ]
     },
     "execution_count": 41,
     "metadata": {},
     "output_type": "execute_result"
    }
   ],
   "source": [
    "results = validationDep.bool()==(preds >=0.5)\n",
    "results[:16]"
   ]
  },
  {
   "cell_type": "markdown",
   "id": "e6a59029-2fab-4c45-80c0-a660bcdccf17",
   "metadata": {},
   "source": [
    "Average accuracy"
   ]
  },
  {
   "cell_type": "code",
   "execution_count": 42,
   "id": "db831682-90f3-4e8f-b8a8-d4f40093d018",
   "metadata": {},
   "outputs": [
    {
     "data": {
      "text/plain": [
       "tensor(0.7865)"
      ]
     },
     "execution_count": 42,
     "metadata": {},
     "output_type": "execute_result"
    }
   ],
   "source": [
    "results.float().mean()"
   ]
  },
  {
   "cell_type": "markdown",
   "id": "f4984d3b-836a-4330-8c70-57ef3fdc8a53",
   "metadata": {},
   "source": [
    "We'll create a function to calculate accuracy easily"
   ]
  },
  {
   "cell_type": "code",
   "execution_count": 43,
   "id": "daec1b35-a83a-4792-bebc-1182adc807a4",
   "metadata": {},
   "outputs": [],
   "source": [
    "def acc(coeffs): return (validationDep.bool()==(calc_preds(coeffs, validationIndep)>0.5)).float().mean()"
   ]
  },
  {
   "cell_type": "markdown",
   "id": "be9e4111-fc95-42d4-983d-25147591f27e",
   "metadata": {},
   "source": [
    "## Using sigmoid\n",
    "\n",
    "Some of the predictions are `> 1` and some are `< 0`. To fix them we use a sigmoid"
   ]
  },
  {
   "cell_type": "code",
   "execution_count": 44,
   "id": "942e78bc-d582-4659-bcf1-c190f5cab4a9",
   "metadata": {},
   "outputs": [
    {
     "data": {
      "text/plain": [
       "tensor([ 0.8160,  0.1295, -0.0148,  0.1831,  0.1520,  0.1350,  0.7279,  0.7754,  0.3222,  0.6740,  0.0753,  0.0389,  0.2216,  0.7631,\n",
       "         0.0678,  0.3997,  0.3324,  0.8278,  0.1078,  0.7126,  0.1023,  0.3627,  0.9937,  0.8050,  0.1153,  0.1455,  0.8652,  0.3425])"
      ]
     },
     "execution_count": 44,
     "metadata": {},
     "output_type": "execute_result"
    }
   ],
   "source": [
    "preds[:28]"
   ]
  },
  {
   "cell_type": "code",
   "execution_count": 45,
   "id": "b1e0a124-1d8a-47b7-8251-52b3559b8f56",
   "metadata": {},
   "outputs": [
    {
     "data": {
      "image/png": "[encoded data removed]",
      "text/plain": [
       "<Figure size 640x480 with 1 Axes>"
      ]
     },
     "metadata": {},
     "output_type": "display_data"
    },
    {
     "data": {
      "text/plain": [
       "<sympy.plotting.backends.matplotlibbackend.matplotlib.MatplotlibBackend at 0x1636edddf40>"
      ]
     },
     "execution_count": 45,
     "metadata": {},
     "output_type": "execute_result"
    }
   ],
   "source": [
    "import sympy\n",
    "from sympy.abc import x\n",
    "\n",
    "expr = 1 / (1 + sympy.exp(-x))\n",
    "sympy.plot(expr, (x, -5, 5))"
   ]
  },
  {
   "cell_type": "markdown",
   "id": "f2cb6979-524d-4b9f-85a7-a1fb8e8102e6",
   "metadata": {},
   "source": [
    "We can modify the `calc_preds` method to use `torch.sigmoid`"
   ]
  },
  {
   "cell_type": "code",
   "execution_count": 46,
   "id": "032dcd7f-19dd-44b9-9a40-2381b2a2609c",
   "metadata": {},
   "outputs": [],
   "source": [
    "def calc_preds(coeffs, indeps): return torch.sigmoid((indeps*coeffs).sum(axis=1))"
   ]
  },
  {
   "cell_type": "code",
   "execution_count": 47,
   "id": "07444dcd-3684-4caa-bdcb-4c4100b5ed92",
   "metadata": {},
   "outputs": [
    {
     "name": "stdout",
     "output_type": "stream",
     "text": [
      "0.510; 0.327; 0.294; 0.207; 0.201; 0.199; 0.198; 0.197; 0.196; 0.196; 0.196; 0.195; 0.195; 0.195; 0.195; 0.195; 0.195; 0.195; 0.194; 0.194; 0.194; 0.194; 0.194; 0.194; 0.194; 0.194; 0.194; 0.194; 0.194; 0.194; "
     ]
    }
   ],
   "source": [
    "coeffs = train_model(lr=100)"
   ]
  },
  {
   "cell_type": "markdown",
   "id": "3709a2b9-c2da-45e4-9b66-29baac6c2677",
   "metadata": {},
   "source": [
    "We have imporved loss. Lets check the accuracy"
   ]
  },
  {
   "cell_type": "code",
   "execution_count": 48,
   "id": "310f3add-f458-4a66-acbd-cfb8fb443651",
   "metadata": {},
   "outputs": [
    {
     "data": {
      "text/plain": [
       "tensor(0.8258)"
      ]
     },
     "execution_count": 48,
     "metadata": {},
     "output_type": "execute_result"
    }
   ],
   "source": [
    "acc(coeffs)"
   ]
  },
  {
   "cell_type": "markdown",
   "id": "20d1f527-13b8-4a91-a037-c62ec394f632",
   "metadata": {},
   "source": [
    "Lets see the coeffs"
   ]
  },
  {
   "cell_type": "code",
   "execution_count": 49,
   "id": "be92b750-f743-436d-a991-892ff4224837",
   "metadata": {},
   "outputs": [
    {
     "data": {
      "text/plain": [
       "{'Age': tensor(-1.5061),\n",
       " 'SibSp': tensor(-1.1575),\n",
       " 'Parch': tensor(-0.4267),\n",
       " 'LogFare': tensor(0.2543),\n",
       " 'Sex_male': tensor(-10.3320),\n",
       " 'Sex_female': tensor(8.4185),\n",
       " 'Pclass_1': tensor(3.8389),\n",
       " 'Pclass_2': tensor(2.1398),\n",
       " 'Pclass_3': tensor(-6.2331),\n",
       " 'Embarked_C': tensor(1.4771),\n",
       " 'Embarked_Q': tensor(2.1168),\n",
       " 'Embarked_S': tensor(-4.7958)}"
      ]
     },
     "execution_count": 49,
     "metadata": {},
     "output_type": "execute_result"
    }
   ],
   "source": [
    "show_coeffs()"
   ]
  },
  {
   "cell_type": "markdown",
   "id": "19e988b7-469b-4be2-bf3e-ee3eac56150f",
   "metadata": {},
   "source": [
    "## Submit to Kaggle\n",
    "We gonna skip this, because we not submiting to kaggle. The most import is that to fix the `NaN` problem its used `df.Fare.fillna(0)`"
   ]
  },
  {
   "cell_type": "markdown",
   "id": "2ac8b0d0-9d8b-49d9-bf48-f87249a3b4e9",
   "metadata": {},
   "source": [
    "## Using matrix product\n",
    "\n",
    "We can make it neater. The inner most calculation is similar to matrix-vector product. We can use `@` to indicate that we want matrix product, which is supported by PyTorch tensors. We can refactor the code like that"
   ]
  },
  {
   "cell_type": "code",
   "execution_count": 50,
   "id": "bf500451-5d07-46a6-bce5-cdc025898770",
   "metadata": {},
   "outputs": [],
   "source": [
    "def calc_preds(coeffs, indeps): return torch.sigmoid(indeps@coeffs)"
   ]
  },
  {
   "cell_type": "markdown",
   "id": "4511f23e-387c-480a-8c7a-97a8942f4732",
   "metadata": {},
   "source": [
    "We need to convert the coeffs into a column vector (single column matrix). This can be achieved like that"
   ]
  },
  {
   "cell_type": "code",
   "execution_count": 51,
   "id": "b150351d-6911-4f54-a27e-b6d2f8756b9e",
   "metadata": {},
   "outputs": [],
   "source": [
    "def init_coeffs(): return (torch.rand(n_coeff, 1)*0.1).requires_grad_()"
   ]
  },
  {
   "cell_type": "markdown",
   "id": "f365881c-6edb-427d-b5ba-ed29c8b24abe",
   "metadata": {},
   "source": [
    "We also need to make our variables be column vectors"
   ]
  },
  {
   "cell_type": "code",
   "execution_count": 52,
   "id": "33b19629-77fa-42f9-a1ca-498e81ccc532",
   "metadata": {},
   "outputs": [],
   "source": [
    "trainDep = trainDep[:, None]\n",
    "validationDep = validationDep[:, None]"
   ]
  },
  {
   "cell_type": "markdown",
   "id": "e14c5d3c-2c56-4a61-b11e-f31402935577",
   "metadata": {},
   "source": [
    "Now we can train the model"
   ]
  },
  {
   "cell_type": "code",
   "execution_count": 53,
   "id": "42dbd680-5326-4651-ba3d-f65b18ab5e91",
   "metadata": {},
   "outputs": [
    {
     "name": "stdout",
     "output_type": "stream",
     "text": [
      "0.512; 0.323; 0.290; 0.205; 0.200; 0.198; 0.197; 0.197; 0.196; 0.196; 0.196; 0.195; 0.195; 0.195; 0.195; 0.195; 0.195; 0.194; 0.194; 0.194; 0.194; 0.194; 0.194; 0.194; 0.194; 0.194; 0.194; 0.194; 0.194; 0.194; "
     ]
    }
   ],
   "source": [
    "coeffs = train_model(lr=100)"
   ]
  },
  {
   "cell_type": "code",
   "execution_count": 54,
   "id": "a226d257-d2f0-4a66-96d1-20d03d0f5a51",
   "metadata": {},
   "outputs": [
    {
     "data": {
      "text/plain": [
       "tensor(0.8258)"
      ]
     },
     "execution_count": 54,
     "metadata": {},
     "output_type": "execute_result"
    }
   ],
   "source": [
    "acc(coeffs)"
   ]
  },
  {
   "cell_type": "markdown",
   "id": "2c1c3b5a-c119-4cac-b66d-47dc387b3f6e",
   "metadata": {},
   "source": [
    "Same coeffs, same accuracy"
   ]
  },
  {
   "cell_type": "markdown",
   "id": "e538a946-b6e4-4241-9dda-75f70812f5c4",
   "metadata": {},
   "source": [
    "## Neural network\n",
    "\n",
    "To use a NN we need to create coefficients for each layer. The first set will take the `n_coeff` and create `n_hidden` outputs. <br>\n",
    "We need a matrix with `n_coeff` by `n_hidden` size. <br>\n",
    "The second layer needs to take `n_hidden` number of inputs and create a single output, so we need a `n_hidden` by `1` matrix"
   ]
  },
  {
   "cell_type": "code",
   "execution_count": 55,
   "id": "9f37bf01-6ca0-4c2c-a8ec-b9b1ddbae9ae",
   "metadata": {},
   "outputs": [],
   "source": [
    "def init_coeffs(n_hidden=20):\n",
    "    layer1 = (torch.rand(n_coeff, n_hidden) - 0.5)/ n_hidden\n",
    "    layer2 = torch.rand(n_hidden, 1) - 0.3\n",
    "    const = torch.rand(1)[0]\n",
    "    return layer1.requires_grad_(), layer2.requires_grad_(), const.requires_grad_()"
   ]
  },
  {
   "cell_type": "markdown",
   "id": "55b69b2b-9eac-47ad-a506-e96fee074ab6",
   "metadata": {},
   "source": [
    "To create our NN we need two matrix product: `indeps@l1` and `res@l2`, res is the output of layer 1. <br>\n",
    "The first layer output is passed to `F.relu` and the second is passed to `torch.sigmoid`"
   ]
  },
  {
   "cell_type": "code",
   "execution_count": 56,
   "id": "cc1c85cd-e396-4a46-a075-b40a4220c650",
   "metadata": {},
   "outputs": [],
   "source": [
    "import torch.nn.functional as F\n",
    "\n",
    "def calc_preds(coeffs, indeps):\n",
    "    l1,l2,const = coeffs\n",
    "    res = F.relu(indeps@l1)\n",
    "    res = res@l2 + const\n",
    "    return torch.sigmoid(res)"
   ]
  },
  {
   "cell_type": "markdown",
   "id": "fc66df52-84ed-4dc0-9f05-e76e730f917e",
   "metadata": {},
   "source": [
    "To update the coeffs we need a loop"
   ]
  },
  {
   "cell_type": "code",
   "execution_count": 57,
   "id": "c7e0b751-3671-42da-8c14-b5ff4e37f205",
   "metadata": {},
   "outputs": [],
   "source": [
    "def update_coeff(coeffs, lr):\n",
    "    for layer in coeffs:\n",
    "        layer.sub_(layer.grad * lr)\n",
    "        layer.grad.zero_()"
   ]
  },
  {
   "cell_type": "markdown",
   "id": "3223e1e8-a004-44e2-b3e5-d43f3ed63866",
   "metadata": {},
   "source": [
    "Lets train it"
   ]
  },
  {
   "cell_type": "code",
   "execution_count": 58,
   "id": "cb92e4f3-6024-4785-a6c9-b618cf2ccc1b",
   "metadata": {},
   "outputs": [
    {
     "name": "stdout",
     "output_type": "stream",
     "text": [
      "0.543; 0.532; 0.520; 0.505; 0.487; 0.466; 0.439; 0.407; 0.373; 0.343; 0.319; 0.301; 0.286; 0.274; 0.264; 0.256; 0.250; 0.245; 0.240; 0.237; 0.234; 0.231; 0.229; 0.227; 0.226; 0.224; 0.223; 0.222; 0.221; 0.220; "
     ]
    }
   ],
   "source": [
    "coeffs = train_model(lr=1.4)"
   ]
  },
  {
   "cell_type": "code",
   "execution_count": 59,
   "id": "fffe09ed-4493-4d13-ba90-4da77dbfbb59",
   "metadata": {},
   "outputs": [
    {
     "name": "stdout",
     "output_type": "stream",
     "text": [
      "0.543; 0.400; 0.260; 0.390; 0.221; 0.211; 0.197; 0.195; 0.193; 0.193; 0.193; 0.193; 0.193; 0.193; 0.193; 0.193; 0.193; 0.192; 0.192; 0.192; 0.192; 0.192; 0.192; 0.192; 0.192; 0.192; 0.192; 0.192; 0.192; 0.192; "
     ]
    }
   ],
   "source": [
    "coeffs = train_model(lr=20)"
   ]
  },
  {
   "cell_type": "code",
   "execution_count": 60,
   "id": "6cef923b-8b96-418c-833b-7b566781a992",
   "metadata": {},
   "outputs": [
    {
     "data": {
      "text/plain": [
       "tensor(0.8258)"
      ]
     },
     "execution_count": 60,
     "metadata": {},
     "output_type": "execute_result"
    }
   ],
   "source": [
    "acc(coeffs)"
   ]
  },
  {
   "cell_type": "markdown",
   "id": "e8626ebc-78a5-4127-bbec-ad968d90090a",
   "metadata": {},
   "source": [
    "## Deep learning\n",
    "\n",
    "We can add matrix multiplication to the NN"
   ]
  },
  {
   "cell_type": "code",
   "execution_count": 69,
   "id": "ca3afa1e-376f-4713-81c3-239fc93a3f55",
   "metadata": {},
   "outputs": [],
   "source": [
    "def init_coeffs():\n",
    "    hiddens = [10, 10]\n",
    "    sizes = [n_coeff] + hiddens + [1]\n",
    "    n = len(sizes)\n",
    "    layers = [(torch.rand(sizes[i], sizes[i+1]) - 0.3) / sizes[i + 1] * 4 for i in range(n-1)]\n",
    "    consts = [(torch.rand(1)[0] - 0.5) * 0.1 for i in range(n-1)]\n",
    "    for l in layers + consts: l.requires_grad_()\n",
    "    return layers, consts"
   ]
  },
  {
   "cell_type": "markdown",
   "id": "bbc34b65-444c-49c2-9749-4d389f4a97b1",
   "metadata": {},
   "source": [
    "We need to update the `calc_preds` and `update_coeffs` methods"
   ]
  },
  {
   "cell_type": "code",
   "execution_count": 70,
   "id": "eeb387dd-5700-4c33-83fe-670f49f97281",
   "metadata": {},
   "outputs": [],
   "source": [
    "def calc_preds(coeffs, indeps):\n",
    "    layers,consts = coeffs\n",
    "    n = len(layers)\n",
    "    res = indeps\n",
    "    for i,l in enumerate(layers):\n",
    "        res = res@l + consts[i]\n",
    "        if i!=n-1: res = F.relu(res)\n",
    "    return torch.sigmoid(res)"
   ]
  },
  {
   "cell_type": "code",
   "execution_count": 73,
   "id": "df3011ff-436c-4b1b-af71-c21fa4b20e37",
   "metadata": {},
   "outputs": [],
   "source": [
    "def update_coeff(coeffs, lr):\n",
    "    layers, consts = coeffs\n",
    "    for layer in layers + consts:\n",
    "        layer.sub_(layer.grad* lr)\n",
    "        layer.grad.zero_()"
   ]
  },
  {
   "cell_type": "markdown",
   "id": "4d853192-ac3e-47b0-b54c-21cfa1543297",
   "metadata": {},
   "source": [
    "We can train and check the accuracy"
   ]
  },
  {
   "cell_type": "code",
   "execution_count": 74,
   "id": "29b506ea-69e1-498c-8b3a-b6e2c076d8ed",
   "metadata": {},
   "outputs": [
    {
     "name": "stdout",
     "output_type": "stream",
     "text": [
      "0.521; 0.483; 0.427; 0.379; 0.379; 0.379; 0.379; 0.378; 0.378; 0.378; 0.378; 0.378; 0.378; 0.378; 0.378; 0.378; 0.377; 0.376; 0.371; 0.333; 0.239; 0.224; 0.208; 0.204; 0.203; 0.203; 0.207; 0.197; 0.196; 0.195; "
     ]
    }
   ],
   "source": [
    "coeffs = train_model(lr=4)"
   ]
  },
  {
   "cell_type": "code",
   "execution_count": 75,
   "id": "03cecaa3-1916-48c2-8c23-856f0a46cc2a",
   "metadata": {},
   "outputs": [
    {
     "data": {
      "text/plain": [
       "tensor(0.8258)"
      ]
     },
     "execution_count": 75,
     "metadata": {},
     "output_type": "execute_result"
    }
   ],
   "source": [
    "acc(coeffs)"
   ]
  }
 ],
 "metadata": {
  "kernelspec": {
   "display_name": "my-python3-kernel",
   "language": "python",
   "name": "my-python3-kernel"
  },
  "language_info": {
   "codemirror_mode": {
    "name": "ipython",
    "version": 3
   },
   "file_extension": ".py",
   "mimetype": "text/x-python",
   "name": "python",
   "nbconvert_exporter": "python",
   "pygments_lexer": "ipython3",
   "version": "3.12.3"
  }
 },
 "nbformat": 4,
 "nbformat_minor": 5
}
