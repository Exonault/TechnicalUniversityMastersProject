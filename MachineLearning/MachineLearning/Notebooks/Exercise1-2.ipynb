﻿{
 "cells": [
  {
   "metadata": {},
   "cell_type": "markdown",
   "source": "# Machine learning exercise",
   "id": "1ef0a28e9f3a947e"
  },
  {
   "metadata": {},
   "cell_type": "markdown",
   "source": [
    "##### Exercise 1 and 2\n",
    "    - What is machine learing \n",
    "    - Using python, jupyter\n",
    "    \n",
    "##### Content\n",
    "* Python\n",
    "    - Data types\n",
    "    - Loops\n",
    "    - Functions\n",
    "        \n",
    "* General modules and examples\n",
    "    - numpy\n",
    "    - pandas\n",
    "        \n",
    "* Visualisation with mathplotlib\n",
    "* Statistics and Machine learning - regressions and classification. Examples with code"
   ],
   "id": "bf37327752331cd7"
  },
  {
   "metadata": {},
   "cell_type": "markdown",
   "source": [
    "<br>\n",
    "\n",
    "## Python basics\n",
    "* Data types, loops, functions"
   ],
   "id": "824c1927c86bba93"
  },
  {
   "metadata": {},
   "cell_type": "markdown",
   "source": [
    "<br>\n",
    "\n",
    "### Lists, tuples and dictionaries"
   ],
   "id": "b6f4e4acbcad9120"
  },
  {
   "cell_type": "code",
   "id": "initial_id",
   "metadata": {
    "collapsed": true,
    "ExecuteTime": {
     "end_time": "2024-10-20T10:41:24.534878Z",
     "start_time": "2024-10-20T10:41:24.531481Z"
    }
   },
   "source": [
    "li = [1, 2, \"string\", float(42)]\n",
    "print(\"Original list:\" + str(li))\n",
    "li = li + [\"new element\"] + li[::-1]  # li[::-1] -> reversing a list using slicing\n",
    "li.extend([5, 5, 6, 3])\n",
    "print(\"New list:\" + str(li))\n",
    "\n"
   ],
   "outputs": [
    {
     "name": "stdout",
     "output_type": "stream",
     "text": [
      "Original list:[1, 2, 'string', 42.0]\n",
      "New list:[1, 2, 'string', 42.0, 'new element', 42.0, 'string', 2, 1, 5, 5, 6, 3]\n"
     ]
    }
   ],
   "execution_count": 4
  },
  {
   "metadata": {},
   "cell_type": "markdown",
   "source": "",
   "id": "4e6d9bc440838b70"
  },
  {
   "metadata": {
    "ExecuteTime": {
     "end_time": "2024-10-20T10:57:21.163284Z",
     "start_time": "2024-10-20T10:57:21.159095Z"
    }
   },
   "cell_type": "code",
   "source": [
    "tuple1 = (1, 2, \"string\", 42)\n",
    "tuple2 = (1, 2, \"string\", 42)\n",
    "\n",
    "print(tuple1 == tuple2)  # true; compares element\n",
    "print(tuple1 is tuple2)  #false; compares id\n",
    "\n",
    "print(id(tuple1), id(tuple2))\n"
   ],
   "id": "1473b5753ed5faaf",
   "outputs": [
    {
     "name": "stdout",
     "output_type": "stream",
     "text": [
      "True\n",
      "False\n",
      "2156065303792 2156065303552\n"
     ]
    }
   ],
   "execution_count": 1
  },
  {
   "metadata": {
    "ExecuteTime": {
     "end_time": "2024-10-20T11:03:37.691689Z",
     "start_time": "2024-10-20T11:03:37.687849Z"
    }
   },
   "cell_type": "code",
   "source": [
    "# Dictionaries\n",
    "\n",
    "dictionary = {\"Key1\": \"value1\", \"Key2\": 123}\n",
    "print(dictionary)\n",
    "\n",
    "dictionary[\"Key3\"] = \"new value\"\n",
    "print(dictionary)\n",
    "\n",
    "import math\n",
    "\n",
    "if \"e\" not in dictionary.keys():\n",
    "    dictionary[\"e\"] = math.exp(1)\n",
    "\n",
    "print(str(dictionary) + \"\\n\")\n",
    "\n",
    "keys = list(reversed(sorted(dictionary.keys())))\n",
    "print(\"Keys: \" + str(keys))"
   ],
   "id": "7bdeb0bd9bae2c44",
   "outputs": [
    {
     "name": "stdout",
     "output_type": "stream",
     "text": [
      "{'Key1': 'value1', 'Key2': 123}\n",
      "{'Key1': 'value1', 'Key2': 123, 'Key3': 'new value'}\n",
      "{'Key1': 'value1', 'Key2': 123, 'Key3': 'new value', 'e': 2.718281828459045}\n",
      "\n",
      "Keys: ['e', 'Key3', 'Key2', 'Key1']\n"
     ]
    }
   ],
   "execution_count": 8
  },
  {
   "metadata": {},
   "cell_type": "markdown",
   "source": [
    "<br>\n",
    "\n",
    "### Loops and functions"
   ],
   "id": "4ddb8b6684bec7d6"
  },
  {
   "metadata": {
    "ExecuteTime": {
     "end_time": "2024-10-20T11:05:24.092870Z",
     "start_time": "2024-10-20T11:05:24.089849Z"
    }
   },
   "cell_type": "code",
   "source": [
    "rng = range(10, 20, 2)\n",
    "for n in rng:\n",
    "    print(n)"
   ],
   "id": "ba2386070e7cb402",
   "outputs": [
    {
     "name": "stdout",
     "output_type": "stream",
     "text": [
      "10\n",
      "12\n",
      "14\n",
      "16\n",
      "18\n"
     ]
    }
   ],
   "execution_count": 9
  },
  {
   "metadata": {
    "ExecuteTime": {
     "end_time": "2024-10-20T11:06:22.498191Z",
     "start_time": "2024-10-20T11:06:22.495433Z"
    }
   },
   "cell_type": "code",
   "source": [
    "dictionary = {3: 'c', 1: 'a', 2: 'b'}\n",
    "for i in sorted(dictionary.items()):\n",
    "    print(\"{}: {}\".format(i[0], i[1]))"
   ],
   "id": "78b327e688f8f56a",
   "outputs": [
    {
     "name": "stdout",
     "output_type": "stream",
     "text": [
      "1: a\n",
      "2: b\n",
      "3: c\n"
     ]
    }
   ],
   "execution_count": 10
  },
  {
   "metadata": {
    "ExecuteTime": {
     "end_time": "2024-10-20T11:10:09.759059Z",
     "start_time": "2024-10-20T11:10:09.753447Z"
    }
   },
   "cell_type": "code",
   "source": [
    "def factorial(n):\n",
    "    return 1 if (n == 0 or n == 1) else n * factorial(n - 1)\n",
    "\n",
    "\n",
    "factorial(5)"
   ],
   "id": "41261b69d152ecc",
   "outputs": [
    {
     "data": {
      "text/plain": [
       "120"
      ]
     },
     "execution_count": 11,
     "metadata": {},
     "output_type": "execute_result"
    }
   ],
   "execution_count": 11
  },
  {
   "metadata": {},
   "cell_type": "markdown",
   "source": [
    "#### Calculate Euclidean distance with user defined function\n",
    "\\begin{equation*}\n",
    "    x = (x_1, x_2, ..., x_k), y = (y_1, y_2, ..., y_k)\n",
    "\\end{equation*}\n",
    "\n",
    "\\begin{equation*}\n",
    "   d(x,y) = \\displaystyle \\bigg( \\sum_{i=1} ^{k} (x_i - y_i)^2 \\bigg)^{1/2}\n",
    "\\end{equation*}"
   ],
   "id": "b75ee11ea077300c"
  },
  {
   "metadata": {
    "ExecuteTime": {
     "end_time": "2024-10-20T11:33:47.505765Z",
     "start_time": "2024-10-20T11:33:47.445840Z"
    }
   },
   "cell_type": "code",
   "source": [
    "import numpy as np\n",
    "\n",
    "a = np.array([1, 2.1, 7.55])\n",
    "b = np.array([1, 2.2, 5.5])\n",
    "print(\"{0} - {1} = {2}\".format(a, b, a - b))\n",
    "\n",
    "\n",
    "def distance(x, y):\n",
    "    x = np.array(x)\n",
    "    y = np.array(y)\n",
    "\n",
    "    if len(x) != len(y):\n",
    "        raise ValueError(\"x and y must be the same length\")\n",
    "\n",
    "    diff = (x - y) ** 2\n",
    "    return (sum(diff)) ** 0.5\n",
    "\n",
    "\n",
    "distance_A_B = distance(a, b)\n",
    "print(\"Distance between A and B: {} \".format(distance_A_B))\n",
    "\n",
    "print(\"Eucledean norm of the vector a-b = \" + str(np.linalg.norm(a - b)))"
   ],
   "id": "3cae4e5a3c4c60e8",
   "outputs": [
    {
     "name": "stdout",
     "output_type": "stream",
     "text": [
      "[1.   2.1  7.55] - [1.  2.2 5.5] = [ 0.   -0.1   2.05]\n",
      "Distance between A and B: 2.052437575177379 \n",
      "Eucledean norm of the vector a-b = 2.052437575177379\n"
     ]
    }
   ],
   "execution_count": 1
  },
  {
   "metadata": {
    "ExecuteTime": {
     "end_time": "2024-10-20T11:34:13.740947Z",
     "start_time": "2024-10-20T11:34:13.737445Z"
    }
   },
   "cell_type": "code",
   "source": "print(\"Test: (1, 2) - (1, 2) = \" + str(distance((1, 2), [1, 2])))",
   "id": "6d47f43d1a0aa79c",
   "outputs": [
    {
     "name": "stdout",
     "output_type": "stream",
     "text": [
      "Test: (1, 2) - (1, 2) = 0.0\n"
     ]
    }
   ],
   "execution_count": 2
  },
  {
   "metadata": {},
   "cell_type": "markdown",
   "source": [
    "<br><br>\n",
    "## NumPy"
   ],
   "id": "b7d92b7484764525"
  },
  {
   "metadata": {
    "ExecuteTime": {
     "end_time": "2024-10-20T11:37:36.547439Z",
     "start_time": "2024-10-20T11:37:36.543303Z"
    }
   },
   "cell_type": "code",
   "source": [
    "import numpy as np;\n",
    "\n",
    "array = np.array(([[1, 2, 3, 4], [5, 6, 7, 8], [9, 10, 11, 12]]))\n",
    "print(\"Shape: {}\".format(array.shape))\n",
    "print(\"Size: {}\".format(array.size))\n",
    "print(array)\n",
    "\n",
    "print(\"\\n Array flattening\")\n",
    "flatArray = array.flatten()\n",
    "print(flatArray)"
   ],
   "id": "67957c038d906266",
   "outputs": [
    {
     "name": "stdout",
     "output_type": "stream",
     "text": [
      "Shape: (3, 4)\n",
      "Size: 12\n",
      "[[ 1  2  3  4]\n",
      " [ 5  6  7  8]\n",
      " [ 9 10 11 12]]\n",
      "\n",
      " Array flattening\n",
      "[ 1  2  3  4  5  6  7  8  9 10 11 12]\n"
     ]
    }
   ],
   "execution_count": 3
  },
  {
   "metadata": {
    "ExecuteTime": {
     "end_time": "2024-10-20T11:40:11.380503Z",
     "start_time": "2024-10-20T11:40:11.377140Z"
    }
   },
   "cell_type": "code",
   "source": [
    "print(\"array * array element wise\")\n",
    "print(array * array)\n",
    "\n",
    "print(\"Transpose\")\n",
    "transposed = np.transpose(array);\n",
    "print(transposed)\n",
    "\n",
    "print(\"Matrix multiplication\")\n",
    "arraySquared = np.matmul(array, transposed)\n",
    "print(arraySquared)"
   ],
   "id": "92dab31210589b4d",
   "outputs": [
    {
     "name": "stdout",
     "output_type": "stream",
     "text": [
      "array * array element wise\n",
      "[[  1   4   9  16]\n",
      " [ 25  36  49  64]\n",
      " [ 81 100 121 144]]\n",
      "Transpose\n",
      "[[ 1  5  9]\n",
      " [ 2  6 10]\n",
      " [ 3  7 11]\n",
      " [ 4  8 12]]\n",
      "Matrix multiplication\n",
      "[[ 30  70 110]\n",
      " [ 70 174 278]\n",
      " [110 278 446]]\n"
     ]
    }
   ],
   "execution_count": 4
  },
  {
   "metadata": {
    "ExecuteTime": {
     "end_time": "2024-10-20T11:41:08.418979Z",
     "start_time": "2024-10-20T11:41:08.415405Z"
    }
   },
   "cell_type": "code",
   "source": [
    "a = np.random.random((2,5))\n",
    "a"
   ],
   "id": "d54546ea555af337",
   "outputs": [
    {
     "data": {
      "text/plain": [
       "array([[0.68421615, 0.36791022, 0.57881174, 0.66471332, 0.24783768],\n",
       "       [0.98055035, 0.61580885, 0.69853365, 0.47634013, 0.70834633]])"
      ]
     },
     "execution_count": 9,
     "metadata": {},
     "output_type": "execute_result"
    }
   ],
   "execution_count": 9
  },
  {
   "metadata": {},
   "cell_type": "markdown",
   "source": "## Pandas DataFrames",
   "id": "fa209ff717e7cc43"
  },
  {
   "metadata": {
    "ExecuteTime": {
     "end_time": "2024-10-20T11:46:22.656537Z",
     "start_time": "2024-10-20T11:46:22.651809Z"
    }
   },
   "cell_type": "code",
   "source": [
    "import pandas as pd\n",
    "data = pd.read_csv(\"../Data/iris.csv\")\n",
    "type(data)\n",
    "print(data.shape)\n",
    "print(data.columns)"
   ],
   "id": "734fb2241bc34f23",
   "outputs": [
    {
     "name": "stdout",
     "output_type": "stream",
     "text": [
      "(150, 5)\n",
      "Index(['sepal.length', 'sepal.width', 'petal.length', 'petal.width',\n",
      "       'variety'],\n",
      "      dtype='object')\n"
     ]
    }
   ],
   "execution_count": 17
  },
  {
   "metadata": {},
   "cell_type": "code",
   "outputs": [],
   "execution_count": null,
   "source": "",
   "id": "316c71d252c81125"
  },
  {
   "metadata": {
    "ExecuteTime": {
     "end_time": "2024-10-20T11:47:06.119386Z",
     "start_time": "2024-10-20T11:47:06.112880Z"
    }
   },
   "cell_type": "code",
   "source": [
    "print(data.head(7))\n",
    "print(data.tail(7))"
   ],
   "id": "274beff9758e0945",
   "outputs": [
    {
     "name": "stdout",
     "output_type": "stream",
     "text": [
      "   sepal.length  sepal.width  petal.length  petal.width variety\n",
      "0           5.1          3.5           1.4          0.2  Setosa\n",
      "1           4.9          3.0           1.4          0.2  Setosa\n",
      "2           4.7          3.2           1.3          0.2  Setosa\n",
      "3           4.6          3.1           1.5          0.2  Setosa\n",
      "4           5.0          3.6           1.4          0.2  Setosa\n",
      "5           5.4          3.9           1.7          0.4  Setosa\n",
      "6           4.6          3.4           1.4          0.3  Setosa\n",
      "     sepal.length  sepal.width  petal.length  petal.width    variety\n",
      "143           6.8          3.2           5.9          2.3  Virginica\n",
      "144           6.7          3.3           5.7          2.5  Virginica\n",
      "145           6.7          3.0           5.2          2.3  Virginica\n",
      "146           6.3          2.5           5.0          1.9  Virginica\n",
      "147           6.5          3.0           5.2          2.0  Virginica\n",
      "148           6.2          3.4           5.4          2.3  Virginica\n",
      "149           5.9          3.0           5.1          1.8  Virginica\n"
     ]
    }
   ],
   "execution_count": 18
  },
  {
   "metadata": {
    "ExecuteTime": {
     "end_time": "2024-10-20T12:02:21.929332Z",
     "start_time": "2024-10-20T12:02:21.916399Z"
    }
   },
   "cell_type": "code",
   "source": [
    "data.info()\n",
    "\n",
    "data.describe()"
   ],
   "id": "3ace0c0bd670eaa7",
   "outputs": [
    {
     "name": "stdout",
     "output_type": "stream",
     "text": [
      "<class 'pandas.core.frame.DataFrame'>\n",
      "RangeIndex: 150 entries, 0 to 149\n",
      "Data columns (total 5 columns):\n",
      " #   Column        Non-Null Count  Dtype  \n",
      "---  ------        --------------  -----  \n",
      " 0   sepal.length  150 non-null    float64\n",
      " 1   sepal.width   150 non-null    float64\n",
      " 2   petal.length  150 non-null    float64\n",
      " 3   petal.width   150 non-null    float64\n",
      " 4   variety       150 non-null    object \n",
      "dtypes: float64(4), object(1)\n",
      "memory usage: 6.0+ KB\n"
     ]
    },
    {
     "data": {
      "text/plain": [
       "       sepal.length  sepal.width  petal.length  petal.width\n",
       "count    150.000000   150.000000    150.000000   150.000000\n",
       "mean       5.843333     3.057333      3.758000     1.199333\n",
       "std        0.828066     0.435866      1.765298     0.762238\n",
       "min        4.300000     2.000000      1.000000     0.100000\n",
       "25%        5.100000     2.800000      1.600000     0.300000\n",
       "50%        5.800000     3.000000      4.350000     1.300000\n",
       "75%        6.400000     3.300000      5.100000     1.800000\n",
       "max        7.900000     4.400000      6.900000     2.500000"
      ],
      "text/html": [
       "<div>\n",
       "<style scoped>\n",
       "    .dataframe tbody tr th:only-of-type {\n",
       "        vertical-align: middle;\n",
       "    }\n",
       "\n",
       "    .dataframe tbody tr th {\n",
       "        vertical-align: top;\n",
       "    }\n",
       "\n",
       "    .dataframe thead th {\n",
       "        text-align: right;\n",
       "    }\n",
       "</style>\n",
       "<table border=\"1\" class=\"dataframe\">\n",
       "  <thead>\n",
       "    <tr style=\"text-align: right;\">\n",
       "      <th></th>\n",
       "      <th>sepal.length</th>\n",
       "      <th>sepal.width</th>\n",
       "      <th>petal.length</th>\n",
       "      <th>petal.width</th>\n",
       "    </tr>\n",
       "  </thead>\n",
       "  <tbody>\n",
       "    <tr>\n",
       "      <th>count</th>\n",
       "      <td>150.000000</td>\n",
       "      <td>150.000000</td>\n",
       "      <td>150.000000</td>\n",
       "      <td>150.000000</td>\n",
       "    </tr>\n",
       "    <tr>\n",
       "      <th>mean</th>\n",
       "      <td>5.843333</td>\n",
       "      <td>3.057333</td>\n",
       "      <td>3.758000</td>\n",
       "      <td>1.199333</td>\n",
       "    </tr>\n",
       "    <tr>\n",
       "      <th>std</th>\n",
       "      <td>0.828066</td>\n",
       "      <td>0.435866</td>\n",
       "      <td>1.765298</td>\n",
       "      <td>0.762238</td>\n",
       "    </tr>\n",
       "    <tr>\n",
       "      <th>min</th>\n",
       "      <td>4.300000</td>\n",
       "      <td>2.000000</td>\n",
       "      <td>1.000000</td>\n",
       "      <td>0.100000</td>\n",
       "    </tr>\n",
       "    <tr>\n",
       "      <th>25%</th>\n",
       "      <td>5.100000</td>\n",
       "      <td>2.800000</td>\n",
       "      <td>1.600000</td>\n",
       "      <td>0.300000</td>\n",
       "    </tr>\n",
       "    <tr>\n",
       "      <th>50%</th>\n",
       "      <td>5.800000</td>\n",
       "      <td>3.000000</td>\n",
       "      <td>4.350000</td>\n",
       "      <td>1.300000</td>\n",
       "    </tr>\n",
       "    <tr>\n",
       "      <th>75%</th>\n",
       "      <td>6.400000</td>\n",
       "      <td>3.300000</td>\n",
       "      <td>5.100000</td>\n",
       "      <td>1.800000</td>\n",
       "    </tr>\n",
       "    <tr>\n",
       "      <th>max</th>\n",
       "      <td>7.900000</td>\n",
       "      <td>4.400000</td>\n",
       "      <td>6.900000</td>\n",
       "      <td>2.500000</td>\n",
       "    </tr>\n",
       "  </tbody>\n",
       "</table>\n",
       "</div>"
      ]
     },
     "execution_count": 48,
     "metadata": {},
     "output_type": "execute_result"
    }
   ],
   "execution_count": 48
  },
  {
   "metadata": {},
   "cell_type": "markdown",
   "source": [
    "<br><br><br>\n",
    "## Matplotlib examples\n",
    "\n",
    "###### plot the function $f(x) = \\frac{sin(x)}{x}$"
   ],
   "id": "b531af6c05a61b3e"
  },
  {
   "metadata": {
    "ExecuteTime": {
     "end_time": "2024-10-20T11:50:01.072786Z",
     "start_time": "2024-10-20T11:50:00.952317Z"
    }
   },
   "cell_type": "code",
   "source": [
    "import numpy as np\n",
    "import math\n",
    "import matplotlib.pyplot as plt\n",
    "\n",
    "x = np.arange(-100, 100, 0.1)\n",
    "y = np.sin(x)/x\n",
    "plt.plot(x, y)\n",
    "plt.show()"
   ],
   "id": "5b7f0458ffe31ef",
   "outputs": [
    {
     "data": {
      "text/plain": [
       "<Figure size 640x480 with 1 Axes>"
      ],
      "image/png": "[encoded data removed]"
     },
     "metadata": {},
     "output_type": "display_data"
    }
   ],
   "execution_count": 21
  },
  {
   "metadata": {},
   "cell_type": "markdown",
   "source": [
    "<br>\n",
    "\n",
    "###### compare $ln(x)$ and $\\sqrt{x}$"
   ],
   "id": "6c29b9bbb2cb1181"
  },
  {
   "metadata": {
    "ExecuteTime": {
     "end_time": "2024-10-20T11:50:52.806870Z",
     "start_time": "2024-10-20T11:50:52.753910Z"
    }
   },
   "cell_type": "code",
   "source": [
    "x = np.arange(1, 100, 0.1) \n",
    "y = np.log(x)\n",
    "z = np.sqrt(x)\n",
    "\n",
    "plt.plot(x, y, color='green') \n",
    "plt.plot(x, z, color='orange') \n",
    "plt.show() "
   ],
   "id": "f1342587739766dd",
   "outputs": [
    {
     "data": {
      "text/plain": [
       "<Figure size 640x480 with 1 Axes>"
      ],
      "image/png": "[encoded data removed]"
     },
     "metadata": {},
     "output_type": "display_data"
    }
   ],
   "execution_count": 22
  },
  {
   "metadata": {},
   "cell_type": "markdown",
   "source": [
    "<br><br><br>\n",
    "\n",
    "### Plot a histogram with Gaussian random variable\n",
    "The probability density of a Gaussian random variable $\\mathcal{N}(\\mu, \\sigma)$ with mean $\\mu$ and standard deviation $\\sigma$ is: <br><br><br>\n",
    "\n",
    "\\begin{equation*}\n",
    "f(x) = \\frac{1}{\\sqrt{2 \\pi \\sigma^2}}\\exp \\big( - {\\frac{(x - \\mu)^2}{2 \\sigma ^ 2}} \\big)\n",
    "\\end{equation*}"
   ],
   "id": "ab7a06990d35b76f"
  },
  {
   "metadata": {
    "ExecuteTime": {
     "end_time": "2024-10-20T11:56:08.093874Z",
     "start_time": "2024-10-20T11:56:08.014605Z"
    }
   },
   "cell_type": "code",
   "source": [
    "import numpy as np\n",
    "import matplotlib.pyplot as plt\n",
    "\n",
    "mean = 7\n",
    "sd = 3\n",
    "n = 10**4\n",
    "\n",
    "gaussianVector = np.random.normal(mean, sd, n)\n",
    "print(\"An array of Gaussian normal variables - first 30 elements: {} \\n\", gaussianVector[1:30])\n",
    "\n",
    "numberOfBins = 50\n",
    "count, bins, ignored = plt.hist(gaussianVector, numberOfBins, density=True)\n",
    "dens = 1/(sd * np.sqrt(2 * np.pi)) * np.exp( - (bins - mean)**2 / (2 * sd**2) )\n",
    "plt.plot(bins, dens, linewidth=3, color='red') \n",
    "plt.show() \n"
   ],
   "id": "c6b056f049a2b4a6",
   "outputs": [
    {
     "name": "stdout",
     "output_type": "stream",
     "text": [
      "An array of Gaussian normal variables - first 30 elements: {} \n",
      " [ 5.67144937  7.13244112  1.64089157  5.45000256  5.01548532  7.64796215\n",
      "  4.79807328  5.24596639 15.01364061  5.98593706  6.57542738  6.72182277\n",
      "  8.96500099  4.84126668  5.17072074 13.26910996  6.52409507  4.69138765\n",
      " 11.00454325  2.04838547  9.31762454  2.14935641  5.73926107  7.87691019\n",
      "  8.73542993  9.18872072  4.16029712 11.51608787  7.28438944]\n"
     ]
    },
    {
     "data": {
      "text/plain": [
       "<Figure size 640x480 with 1 Axes>"
      ],
      "image/png": "[encoded data removed]"
     },
     "metadata": {},
     "output_type": "display_data"
    }
   ],
   "execution_count": 28
  },
  {
   "metadata": {},
   "cell_type": "markdown",
   "source": "#### Heatmaps in mathplotlib",
   "id": "4b880dea25420ec1"
  },
  {
   "metadata": {
    "ExecuteTime": {
     "end_time": "2024-10-20T11:59:11.287530Z",
     "start_time": "2024-10-20T11:59:11.235213Z"
    }
   },
   "cell_type": "code",
   "source": [
    "import matplotlib.pyplot as plt\n",
    "import numpy as np\n",
    "\n",
    "n=10 \n",
    "matrix = [[0 for x in range(n)] for y in range(n)]\n",
    "for i in range(n):\n",
    "    for j in range(n):\n",
    "        matrix[i][j] = 1 + (i + j + np.random.normal(0,1))**2 - j**2\n",
    "        \n",
    "a = np.random.random((10,10))\n",
    "plt.imshow(matrix, cmap='hot', interpolation='nearest')\n",
    "plt.show()"
   ],
   "id": "763452fcd26cab0a",
   "outputs": [
    {
     "data": {
      "text/plain": [
       "<Figure size 640x480 with 1 Axes>"
      ],
      "image/png": "[encoded data removed]"
     },
     "metadata": {},
     "output_type": "display_data"
    }
   ],
   "execution_count": 42
  },
  {
   "metadata": {
    "ExecuteTime": {
     "end_time": "2024-10-20T12:11:06.925769Z",
     "start_time": "2024-10-20T12:11:06.856630Z"
    }
   },
   "cell_type": "code",
   "source": [
    "import pandas as pd\n",
    "import matplotlib.pyplot as plt\n",
    "\n",
    "data = pd.read_csv(\"../Data/iris.csv\")\n",
    "\n",
    "correl =  data.select_dtypes(include='number').corr()\n",
    "\n",
    "print (correl)\n",
    "\n",
    "plt.imshow(correl, cmap='gray', vmin=-1, vmax=1)\n",
    "plt.show()"
   ],
   "id": "ac76b049afb75109",
   "outputs": [
    {
     "name": "stdout",
     "output_type": "stream",
     "text": [
      "              sepal.length  sepal.width  petal.length  petal.width\n",
      "sepal.length      1.000000    -0.117570      0.871754     0.817941\n",
      "sepal.width      -0.117570     1.000000     -0.428440    -0.366126\n",
      "petal.length      0.871754    -0.428440      1.000000     0.962865\n",
      "petal.width       0.817941    -0.366126      0.962865     1.000000\n"
     ]
    },
    {
     "data": {
      "text/plain": [
       "<Figure size 640x480 with 1 Axes>"
      ],
      "image/png": "[encoded data removed]"
     },
     "metadata": {},
     "output_type": "display_data"
    }
   ],
   "execution_count": 53
  },
  {
   "metadata": {},
   "cell_type": "markdown",
   "source": [
    "<br><br>\n",
    "\n",
    "## Linear regression\n",
    "\n",
    "#### Generate random sample\n",
    "* first we create a trend\n",
    "* then we add noise to the trend (using Gaussian distribution)"
   ],
   "id": "16d3f55e0b7b57df"
  },
  {
   "metadata": {
    "ExecuteTime": {
     "end_time": "2024-10-20T12:13:51.260272Z",
     "start_time": "2024-10-20T12:13:51.193522Z"
    }
   },
   "cell_type": "code",
   "source": [
    "import numpy as np\n",
    "import matplotlib.pyplot as plt\n",
    "import random\n",
    "\n",
    "X = np.random.rand(200,1)\n",
    "mean = 0\n",
    "sd = 0.5\n",
    "noise = np.random.normal(mean, sd, (200,1))\n",
    "trend = 4 + 1.7 * X\n",
    "Y = trend + noise\n",
    "\n",
    "plt.scatter(X, Y, s=10)\n",
    "plt.xlabel(\"X\")\n",
    "plt.ylabel(\"Y\")\n",
    "plt.show()"
   ],
   "id": "a8632f8232073b06",
   "outputs": [
    {
     "data": {
      "text/plain": [
       "<Figure size 640x480 with 1 Axes>"
      ],
      "image/png": "[encoded data removed]"
     },
     "metadata": {},
     "output_type": "display_data"
    }
   ],
   "execution_count": 54
  },
  {
   "metadata": {
    "ExecuteTime": {
     "end_time": "2024-10-20T12:14:49.059363Z",
     "start_time": "2024-10-20T12:14:48.996665Z"
    }
   },
   "cell_type": "code",
   "source": [
    "plt.scatter(X, Y, s=3)\n",
    "\n",
    "xx = np.arange(0, 1, 0.1)\n",
    "trend = 4 + 1.7 * xx\n",
    "plt.plot(xx, trend)\n",
    "\n",
    "plt.xlabel(\"X\")\n",
    "plt.ylabel(\"Y\")\n",
    "plt.show()"
   ],
   "id": "d1f24ec19a46b4e4",
   "outputs": [
    {
     "data": {
      "text/plain": [
       "<Figure size 640x480 with 1 Axes>"
      ],
      "image/png": "[encoded data removed]"
     },
     "metadata": {},
     "output_type": "display_data"
    }
   ],
   "execution_count": 55
  },
  {
   "metadata": {},
   "cell_type": "markdown",
   "source": [
    "#### Fit the model\n",
    "* Instantiate a LinearRegression() object \n",
    "* use .fit(X, Y) in order to \"learn\" the relationship between the inputs X and the outputs Y"
   ],
   "id": "839455ea82f91a63"
  },
  {
   "metadata": {
    "ExecuteTime": {
     "end_time": "2024-10-20T12:19:51.808280Z",
     "start_time": "2024-10-20T12:19:51.803357Z"
    }
   },
   "cell_type": "code",
   "source": [
    "from sklearn.linear_model import LinearRegression\n",
    "model = LinearRegression().fit(X, Y)\n",
    "model"
   ],
   "id": "8ed986d92e7a8974",
   "outputs": [
    {
     "data": {
      "text/plain": [
       "LinearRegression()"
      ],
      "text/html": [
       "<style>#sk-container-id-6 {\n",
       "  /* Definition of color scheme common for light and dark mode */\n",
       "  --sklearn-color-text: black;\n",
       "  --sklearn-color-line: gray;\n",
       "  /* Definition of color scheme for unfitted estimators */\n",
       "  --sklearn-color-unfitted-level-0: #fff5e6;\n",
       "  --sklearn-color-unfitted-level-1: #f6e4d2;\n",
       "  --sklearn-color-unfitted-level-2: #ffe0b3;\n",
       "  --sklearn-color-unfitted-level-3: chocolate;\n",
       "  /* Definition of color scheme for fitted estimators */\n",
       "  --sklearn-color-fitted-level-0: #f0f8ff;\n",
       "  --sklearn-color-fitted-level-1: #d4ebff;\n",
       "  --sklearn-color-fitted-level-2: #b3dbfd;\n",
       "  --sklearn-color-fitted-level-3: cornflowerblue;\n",
       "\n",
       "  /* Specific color for light theme */\n",
       "  --sklearn-color-text-on-default-background: var(--sg-text-color, var(--theme-code-foreground, var(--jp-content-font-color1, black)));\n",
       "  --sklearn-color-background: var(--sg-background-color, var(--theme-background, var(--jp-layout-color0, white)));\n",
       "  --sklearn-color-border-box: var(--sg-text-color, var(--theme-code-foreground, var(--jp-content-font-color1, black)));\n",
       "  --sklearn-color-icon: #696969;\n",
       "\n",
       "  @media (prefers-color-scheme: dark) {\n",
       "    /* Redefinition of color scheme for dark theme */\n",
       "    --sklearn-color-text-on-default-background: var(--sg-text-color, var(--theme-code-foreground, var(--jp-content-font-color1, white)));\n",
       "    --sklearn-color-background: var(--sg-background-color, var(--theme-background, var(--jp-layout-color0, #111)));\n",
       "    --sklearn-color-border-box: var(--sg-text-color, var(--theme-code-foreground, var(--jp-content-font-color1, white)));\n",
       "    --sklearn-color-icon: #878787;\n",
       "  }\n",
       "}\n",
       "\n",
       "#sk-container-id-6 {\n",
       "  color: var(--sklearn-color-text);\n",
       "}\n",
       "\n",
       "#sk-container-id-6 pre {\n",
       "  padding: 0;\n",
       "}\n",
       "\n",
       "#sk-container-id-6 input.sk-hidden--visually {\n",
       "  border: 0;\n",
       "  clip: rect(1px 1px 1px 1px);\n",
       "  clip: rect(1px, 1px, 1px, 1px);\n",
       "  height: 1px;\n",
       "  margin: -1px;\n",
       "  overflow: hidden;\n",
       "  padding: 0;\n",
       "  position: absolute;\n",
       "  width: 1px;\n",
       "}\n",
       "\n",
       "#sk-container-id-6 div.sk-dashed-wrapped {\n",
       "  border: 1px dashed var(--sklearn-color-line);\n",
       "  margin: 0 0.4em 0.5em 0.4em;\n",
       "  box-sizing: border-box;\n",
       "  padding-bottom: 0.4em;\n",
       "  background-color: var(--sklearn-color-background);\n",
       "}\n",
       "\n",
       "#sk-container-id-6 div.sk-container {\n",
       "  /* jupyter's `normalize.less` sets `[hidden] { display: none; }`\n",
       "     but bootstrap.min.css set `[hidden] { display: none !important; }`\n",
       "     so we also need the `!important` here to be able to override the\n",
       "     default hidden behavior on the sphinx rendered scikit-learn.org.\n",
       "     See: https://github.com/scikit-learn/scikit-learn/issues/21755 */\n",
       "  display: inline-block !important;\n",
       "  position: relative;\n",
       "}\n",
       "\n",
       "#sk-container-id-6 div.sk-text-repr-fallback {\n",
       "  display: none;\n",
       "}\n",
       "\n",
       "div.sk-parallel-item,\n",
       "div.sk-serial,\n",
       "div.sk-item {\n",
       "  /* draw centered vertical line to link estimators */\n",
       "  background-image: linear-gradient(var(--sklearn-color-text-on-default-background), var(--sklearn-color-text-on-default-background));\n",
       "  background-size: 2px 100%;\n",
       "  background-repeat: no-repeat;\n",
       "  background-position: center center;\n",
       "}\n",
       "\n",
       "/* Parallel-specific style estimator block */\n",
       "\n",
       "#sk-container-id-6 div.sk-parallel-item::after {\n",
       "  content: \"\";\n",
       "  width: 100%;\n",
       "  border-bottom: 2px solid var(--sklearn-color-text-on-default-background);\n",
       "  flex-grow: 1;\n",
       "}\n",
       "\n",
       "#sk-container-id-6 div.sk-parallel {\n",
       "  display: flex;\n",
       "  align-items: stretch;\n",
       "  justify-content: center;\n",
       "  background-color: var(--sklearn-color-background);\n",
       "  position: relative;\n",
       "}\n",
       "\n",
       "#sk-container-id-6 div.sk-parallel-item {\n",
       "  display: flex;\n",
       "  flex-direction: column;\n",
       "}\n",
       "\n",
       "#sk-container-id-6 div.sk-parallel-item:first-child::after {\n",
       "  align-self: flex-end;\n",
       "  width: 50%;\n",
       "}\n",
       "\n",
       "#sk-container-id-6 div.sk-parallel-item:last-child::after {\n",
       "  align-self: flex-start;\n",
       "  width: 50%;\n",
       "}\n",
       "\n",
       "#sk-container-id-6 div.sk-parallel-item:only-child::after {\n",
       "  width: 0;\n",
       "}\n",
       "\n",
       "/* Serial-specific style estimator block */\n",
       "\n",
       "#sk-container-id-6 div.sk-serial {\n",
       "  display: flex;\n",
       "  flex-direction: column;\n",
       "  align-items: center;\n",
       "  background-color: var(--sklearn-color-background);\n",
       "  padding-right: 1em;\n",
       "  padding-left: 1em;\n",
       "}\n",
       "\n",
       "\n",
       "/* Toggleable style: style used for estimator/Pipeline/ColumnTransformer box that is\n",
       "clickable and can be expanded/collapsed.\n",
       "- Pipeline and ColumnTransformer use this feature and define the default style\n",
       "- Estimators will overwrite some part of the style using the `sk-estimator` class\n",
       "*/\n",
       "\n",
       "/* Pipeline and ColumnTransformer style (default) */\n",
       "\n",
       "#sk-container-id-6 div.sk-toggleable {\n",
       "  /* Default theme specific background. It is overwritten whether we have a\n",
       "  specific estimator or a Pipeline/ColumnTransformer */\n",
       "  background-color: var(--sklearn-color-background);\n",
       "}\n",
       "\n",
       "/* Toggleable label */\n",
       "#sk-container-id-6 label.sk-toggleable__label {\n",
       "  cursor: pointer;\n",
       "  display: block;\n",
       "  width: 100%;\n",
       "  margin-bottom: 0;\n",
       "  padding: 0.5em;\n",
       "  box-sizing: border-box;\n",
       "  text-align: center;\n",
       "}\n",
       "\n",
       "#sk-container-id-6 label.sk-toggleable__label-arrow:before {\n",
       "  /* Arrow on the left of the label */\n",
       "  content: \"▸\";\n",
       "  float: left;\n",
       "  margin-right: 0.25em;\n",
       "  color: var(--sklearn-color-icon);\n",
       "}\n",
       "\n",
       "#sk-container-id-6 label.sk-toggleable__label-arrow:hover:before {\n",
       "  color: var(--sklearn-color-text);\n",
       "}\n",
       "\n",
       "/* Toggleable content - dropdown */\n",
       "\n",
       "#sk-container-id-6 div.sk-toggleable__content {\n",
       "  max-height: 0;\n",
       "  max-width: 0;\n",
       "  overflow: hidden;\n",
       "  text-align: left;\n",
       "  /* unfitted */\n",
       "  background-color: var(--sklearn-color-unfitted-level-0);\n",
       "}\n",
       "\n",
       "#sk-container-id-6 div.sk-toggleable__content.fitted {\n",
       "  /* fitted */\n",
       "  background-color: var(--sklearn-color-fitted-level-0);\n",
       "}\n",
       "\n",
       "#sk-container-id-6 div.sk-toggleable__content pre {\n",
       "  margin: 0.2em;\n",
       "  border-radius: 0.25em;\n",
       "  color: var(--sklearn-color-text);\n",
       "  /* unfitted */\n",
       "  background-color: var(--sklearn-color-unfitted-level-0);\n",
       "}\n",
       "\n",
       "#sk-container-id-6 div.sk-toggleable__content.fitted pre {\n",
       "  /* unfitted */\n",
       "  background-color: var(--sklearn-color-fitted-level-0);\n",
       "}\n",
       "\n",
       "#sk-container-id-6 input.sk-toggleable__control:checked~div.sk-toggleable__content {\n",
       "  /* Expand drop-down */\n",
       "  max-height: 200px;\n",
       "  max-width: 100%;\n",
       "  overflow: auto;\n",
       "}\n",
       "\n",
       "#sk-container-id-6 input.sk-toggleable__control:checked~label.sk-toggleable__label-arrow:before {\n",
       "  content: \"▾\";\n",
       "}\n",
       "\n",
       "/* Pipeline/ColumnTransformer-specific style */\n",
       "\n",
       "#sk-container-id-6 div.sk-label input.sk-toggleable__control:checked~label.sk-toggleable__label {\n",
       "  color: var(--sklearn-color-text);\n",
       "  background-color: var(--sklearn-color-unfitted-level-2);\n",
       "}\n",
       "\n",
       "#sk-container-id-6 div.sk-label.fitted input.sk-toggleable__control:checked~label.sk-toggleable__label {\n",
       "  background-color: var(--sklearn-color-fitted-level-2);\n",
       "}\n",
       "\n",
       "/* Estimator-specific style */\n",
       "\n",
       "/* Colorize estimator box */\n",
       "#sk-container-id-6 div.sk-estimator input.sk-toggleable__control:checked~label.sk-toggleable__label {\n",
       "  /* unfitted */\n",
       "  background-color: var(--sklearn-color-unfitted-level-2);\n",
       "}\n",
       "\n",
       "#sk-container-id-6 div.sk-estimator.fitted input.sk-toggleable__control:checked~label.sk-toggleable__label {\n",
       "  /* fitted */\n",
       "  background-color: var(--sklearn-color-fitted-level-2);\n",
       "}\n",
       "\n",
       "#sk-container-id-6 div.sk-label label.sk-toggleable__label,\n",
       "#sk-container-id-6 div.sk-label label {\n",
       "  /* The background is the default theme color */\n",
       "  color: var(--sklearn-color-text-on-default-background);\n",
       "}\n",
       "\n",
       "/* On hover, darken the color of the background */\n",
       "#sk-container-id-6 div.sk-label:hover label.sk-toggleable__label {\n",
       "  color: var(--sklearn-color-text);\n",
       "  background-color: var(--sklearn-color-unfitted-level-2);\n",
       "}\n",
       "\n",
       "/* Label box, darken color on hover, fitted */\n",
       "#sk-container-id-6 div.sk-label.fitted:hover label.sk-toggleable__label.fitted {\n",
       "  color: var(--sklearn-color-text);\n",
       "  background-color: var(--sklearn-color-fitted-level-2);\n",
       "}\n",
       "\n",
       "/* Estimator label */\n",
       "\n",
       "#sk-container-id-6 div.sk-label label {\n",
       "  font-family: monospace;\n",
       "  font-weight: bold;\n",
       "  display: inline-block;\n",
       "  line-height: 1.2em;\n",
       "}\n",
       "\n",
       "#sk-container-id-6 div.sk-label-container {\n",
       "  text-align: center;\n",
       "}\n",
       "\n",
       "/* Estimator-specific */\n",
       "#sk-container-id-6 div.sk-estimator {\n",
       "  font-family: monospace;\n",
       "  border: 1px dotted var(--sklearn-color-border-box);\n",
       "  border-radius: 0.25em;\n",
       "  box-sizing: border-box;\n",
       "  margin-bottom: 0.5em;\n",
       "  /* unfitted */\n",
       "  background-color: var(--sklearn-color-unfitted-level-0);\n",
       "}\n",
       "\n",
       "#sk-container-id-6 div.sk-estimator.fitted {\n",
       "  /* fitted */\n",
       "  background-color: var(--sklearn-color-fitted-level-0);\n",
       "}\n",
       "\n",
       "/* on hover */\n",
       "#sk-container-id-6 div.sk-estimator:hover {\n",
       "  /* unfitted */\n",
       "  background-color: var(--sklearn-color-unfitted-level-2);\n",
       "}\n",
       "\n",
       "#sk-container-id-6 div.sk-estimator.fitted:hover {\n",
       "  /* fitted */\n",
       "  background-color: var(--sklearn-color-fitted-level-2);\n",
       "}\n",
       "\n",
       "/* Specification for estimator info (e.g. \"i\" and \"?\") */\n",
       "\n",
       "/* Common style for \"i\" and \"?\" */\n",
       "\n",
       ".sk-estimator-doc-link,\n",
       "a:link.sk-estimator-doc-link,\n",
       "a:visited.sk-estimator-doc-link {\n",
       "  float: right;\n",
       "  font-size: smaller;\n",
       "  line-height: 1em;\n",
       "  font-family: monospace;\n",
       "  background-color: var(--sklearn-color-background);\n",
       "  border-radius: 1em;\n",
       "  height: 1em;\n",
       "  width: 1em;\n",
       "  text-decoration: none !important;\n",
       "  margin-left: 1ex;\n",
       "  /* unfitted */\n",
       "  border: var(--sklearn-color-unfitted-level-1) 1pt solid;\n",
       "  color: var(--sklearn-color-unfitted-level-1);\n",
       "}\n",
       "\n",
       ".sk-estimator-doc-link.fitted,\n",
       "a:link.sk-estimator-doc-link.fitted,\n",
       "a:visited.sk-estimator-doc-link.fitted {\n",
       "  /* fitted */\n",
       "  border: var(--sklearn-color-fitted-level-1) 1pt solid;\n",
       "  color: var(--sklearn-color-fitted-level-1);\n",
       "}\n",
       "\n",
       "/* On hover */\n",
       "div.sk-estimator:hover .sk-estimator-doc-link:hover,\n",
       ".sk-estimator-doc-link:hover,\n",
       "div.sk-label-container:hover .sk-estimator-doc-link:hover,\n",
       ".sk-estimator-doc-link:hover {\n",
       "  /* unfitted */\n",
       "  background-color: var(--sklearn-color-unfitted-level-3);\n",
       "  color: var(--sklearn-color-background);\n",
       "  text-decoration: none;\n",
       "}\n",
       "\n",
       "div.sk-estimator.fitted:hover .sk-estimator-doc-link.fitted:hover,\n",
       ".sk-estimator-doc-link.fitted:hover,\n",
       "div.sk-label-container:hover .sk-estimator-doc-link.fitted:hover,\n",
       ".sk-estimator-doc-link.fitted:hover {\n",
       "  /* fitted */\n",
       "  background-color: var(--sklearn-color-fitted-level-3);\n",
       "  color: var(--sklearn-color-background);\n",
       "  text-decoration: none;\n",
       "}\n",
       "\n",
       "/* Span, style for the box shown on hovering the info icon */\n",
       ".sk-estimator-doc-link span {\n",
       "  display: none;\n",
       "  z-index: 9999;\n",
       "  position: relative;\n",
       "  font-weight: normal;\n",
       "  right: .2ex;\n",
       "  padding: .5ex;\n",
       "  margin: .5ex;\n",
       "  width: min-content;\n",
       "  min-width: 20ex;\n",
       "  max-width: 50ex;\n",
       "  color: var(--sklearn-color-text);\n",
       "  box-shadow: 2pt 2pt 4pt #999;\n",
       "  /* unfitted */\n",
       "  background: var(--sklearn-color-unfitted-level-0);\n",
       "  border: .5pt solid var(--sklearn-color-unfitted-level-3);\n",
       "}\n",
       "\n",
       ".sk-estimator-doc-link.fitted span {\n",
       "  /* fitted */\n",
       "  background: var(--sklearn-color-fitted-level-0);\n",
       "  border: var(--sklearn-color-fitted-level-3);\n",
       "}\n",
       "\n",
       ".sk-estimator-doc-link:hover span {\n",
       "  display: block;\n",
       "}\n",
       "\n",
       "/* \"?\"-specific style due to the `<a>` HTML tag */\n",
       "\n",
       "#sk-container-id-6 a.estimator_doc_link {\n",
       "  float: right;\n",
       "  font-size: 1rem;\n",
       "  line-height: 1em;\n",
       "  font-family: monospace;\n",
       "  background-color: var(--sklearn-color-background);\n",
       "  border-radius: 1rem;\n",
       "  height: 1rem;\n",
       "  width: 1rem;\n",
       "  text-decoration: none;\n",
       "  /* unfitted */\n",
       "  color: var(--sklearn-color-unfitted-level-1);\n",
       "  border: var(--sklearn-color-unfitted-level-1) 1pt solid;\n",
       "}\n",
       "\n",
       "#sk-container-id-6 a.estimator_doc_link.fitted {\n",
       "  /* fitted */\n",
       "  border: var(--sklearn-color-fitted-level-1) 1pt solid;\n",
       "  color: var(--sklearn-color-fitted-level-1);\n",
       "}\n",
       "\n",
       "/* On hover */\n",
       "#sk-container-id-6 a.estimator_doc_link:hover {\n",
       "  /* unfitted */\n",
       "  background-color: var(--sklearn-color-unfitted-level-3);\n",
       "  color: var(--sklearn-color-background);\n",
       "  text-decoration: none;\n",
       "}\n",
       "\n",
       "#sk-container-id-6 a.estimator_doc_link.fitted:hover {\n",
       "  /* fitted */\n",
       "  background-color: var(--sklearn-color-fitted-level-3);\n",
       "}\n",
       "</style><div id=\"sk-container-id-6\" class=\"sk-top-container\"><div class=\"sk-text-repr-fallback\"><pre>LinearRegression()</pre><b>In a Jupyter environment, please rerun this cell to show the HTML representation or trust the notebook. <br />On GitHub, the HTML representation is unable to render, please try loading this page with nbviewer.org.</b></div><div class=\"sk-container\" hidden><div class=\"sk-item\"><div class=\"sk-estimator fitted sk-toggleable\"><input class=\"sk-toggleable__control sk-hidden--visually\" id=\"sk-estimator-id-6\" type=\"checkbox\" checked><label for=\"sk-estimator-id-6\" class=\"sk-toggleable__label fitted sk-toggleable__label-arrow fitted\">&nbsp;&nbsp;LinearRegression<a class=\"sk-estimator-doc-link fitted\" rel=\"noreferrer\" target=\"_blank\" href=\"https://scikit-learn.org/1.5/modules/generated/sklearn.linear_model.LinearRegression.html\">?<span>Documentation for LinearRegression</span></a><span class=\"sk-estimator-doc-link fitted\">i<span>Fitted</span></span></label><div class=\"sk-toggleable__content fitted\"><pre>LinearRegression()</pre></div> </div></div></div></div>"
      ]
     },
     "execution_count": 63,
     "metadata": {},
     "output_type": "execute_result"
    }
   ],
   "execution_count": 63
  },
  {
   "metadata": {
    "ExecuteTime": {
     "end_time": "2024-10-20T12:20:03.595069Z",
     "start_time": "2024-10-20T12:20:03.591474Z"
    }
   },
   "cell_type": "code",
   "source": [
    "r_sq = model.score(X, Y)\n",
    "print(\"Goodness of fit: R^2: \", r_sq)\n",
    "\n",
    "print()\n",
    "print('intercept b = {0}  slope = {1}'.format(model.intercept_, model.coef_))"
   ],
   "id": "982d47a9e413b0e0",
   "outputs": [
    {
     "name": "stdout",
     "output_type": "stream",
     "text": [
      "Goodness of fit: R^2:  0.5011967996976476\n",
      "\n",
      "intercept b = [3.89573055]  slope = [[1.80590283]]\n"
     ]
    }
   ],
   "execution_count": 65
  },
  {
   "metadata": {},
   "cell_type": "markdown",
   "source": [
    "<br>\n",
    "\n",
    "#### Compare the \"ground truth\" model used for the sample generation and the fitted model\n"
   ],
   "id": "e04489e53a396a07"
  },
  {
   "metadata": {
    "ExecuteTime": {
     "end_time": "2024-10-20T12:22:06.387049Z",
     "start_time": "2024-10-20T12:22:06.322004Z"
    }
   },
   "cell_type": "code",
   "source": [
    "plt.scatter(X, Y, s=3)\n",
    "\n",
    "xx = np.arange(0, 1, 0.1)\n",
    "\n",
    "ground_truth = 4 + 1.7 * xx\n",
    "fitted_model = model.intercept_ + model.coef_ * xx\n",
    "\n",
    "plt.plot(xx, ground_truth.flatten())\n",
    "plt.plot(xx, fitted_model.flatten())\n",
    "\n",
    "plt.xlabel(\"X\")\n",
    "plt.ylabel(\"Y\")\n",
    "plt.show()"
   ],
   "id": "57c89dcf744265d1",
   "outputs": [
    {
     "data": {
      "text/plain": [
       "<Figure size 640x480 with 1 Axes>"
      ],
      "image/png": "[encoded data removed]"
     },
     "metadata": {},
     "output_type": "display_data"
    }
   ],
   "execution_count": 66
  },
  {
   "metadata": {},
   "cell_type": "markdown",
   "source": [
    "<br>\n",
    "\n",
    "#### Predict new data points\n",
    "$f(0.3) = ? $ <br>\n",
    "$f(0.4) = ? $ <br>\n",
    "$f(1.7) = ? $ <br>\n"
   ],
   "id": "84c12948114c6bd2"
  },
  {
   "metadata": {
    "ExecuteTime": {
     "end_time": "2024-10-20T12:22:33.046421Z",
     "start_time": "2024-10-20T12:22:33.042857Z"
    }
   },
   "cell_type": "code",
   "source": [
    "new_x = [[0.3], [0.4], [1.7]] # 2D array of new data points\n",
    "\n",
    "# use model.predict\n",
    "y_predicted = model.predict(new_x)\n",
    "\n",
    "print('predicted values of f(x): \\n', y_predicted)"
   ],
   "id": "891ee0581e6078f0",
   "outputs": [
    {
     "name": "stdout",
     "output_type": "stream",
     "text": [
      "predicted values of f(x): \n",
      " [[4.4375014 ]\n",
      " [4.61809168]\n",
      " [6.96576536]]\n"
     ]
    }
   ],
   "execution_count": 67
  },
  {
   "metadata": {
    "ExecuteTime": {
     "end_time": "2024-10-20T12:22:45.066360Z",
     "start_time": "2024-10-20T12:22:45.062825Z"
    }
   },
   "cell_type": "code",
   "source": [
    "new_x = [[0.3], [0.4], [1.7]] # 2D array of new data points\n",
    "\n",
    "# in the case of Linear regression, we can also use Y = b + wx\n",
    "y_predicted = model.intercept_ + model.coef_ * new_x\n",
    "\n",
    "print('predicted values of f(x): \\n', y_predicted)\n"
   ],
   "id": "f4da302c71cb7715",
   "outputs": [
    {
     "name": "stdout",
     "output_type": "stream",
     "text": [
      "predicted values of f(x): \n",
      " [[4.4375014 ]\n",
      " [4.61809168]\n",
      " [6.96576536]]\n"
     ]
    }
   ],
   "execution_count": 68
  }
 ],
 "metadata": {
  "kernelspec": {
   "display_name": "Python 3",
   "language": "python",
   "name": "python3"
  },
  "language_info": {
   "codemirror_mode": {
    "name": "ipython",
    "version": 2
   },
   "file_extension": ".py",
   "mimetype": "text/x-python",
   "name": "python",
   "nbconvert_exporter": "python",
   "pygments_lexer": "ipython2",
   "version": "2.7.6"
  }
 },
 "nbformat": 4,
 "nbformat_minor": 5
}
