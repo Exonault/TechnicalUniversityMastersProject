{
 "cells": [
  {
   "cell_type": "markdown",
   "id": "fc83389f-f724-47a2-93e7-8b78467da536",
   "metadata": {},
   "source": [
    "# Machine learning exercise 1-2"
   ]
  },
  {
   "cell_type": "markdown",
   "id": "12a384bc-5d45-4689-85b8-6a143496fb32",
   "metadata": {
    "editable": true,
    "slideshow": {
     "slide_type": ""
    },
    "tags": []
   },
   "source": [
    "##### Exercise 1 and 2\n",
    "    - What is machine learing \n",
    "    - Using python, jupyter\n",
    "    \n",
    "##### Content\n",
    "* Python\n",
    "    - Data types\n",
    "    - Loops\n",
    "    - Functions\n",
    "        \n",
    "* General modules and examples\n",
    "    - numpy\n",
    "    - pandas\n",
    "        \n",
    "* Visualisation with mathplotlib\n",
    "* Statistics and Machine learning - regressions and classification. Examples with code"
   ]
  },
  {
   "cell_type": "markdown",
   "id": "aa04277ec6a910ea",
   "metadata": {},
   "source": [
    "## Python basics\n",
    "* Data types, loops, functions"
   ]
  },
  {
   "cell_type": "markdown",
   "id": "fb166905-e6ac-4b9f-a007-eaf9a3cede8d",
   "metadata": {},
   "source": [
    "### Lists, tuples and dictionaries"
   ]
  },
  {
   "cell_type": "code",
   "execution_count": 1,
   "id": "98220d02-42ab-4e92-932d-d766006a7873",
   "metadata": {},
   "outputs": [
    {
     "name": "stdout",
     "output_type": "stream",
     "text": [
      "Original list:[1, 2, 'string', 42.0]\n",
      "New list:[1, 2, 'string', 42.0, 'new element', 42.0, 'string', 2, 1, 5, 5, 6, 3]\n"
     ]
    }
   ],
   "source": [
    "li = [1, 2, \"string\", float(42)]\n",
    "print(\"Original list:\" + str(li))\n",
    "li = li + [\"new element\"] + li[::-1]  # li[::-1] -> reversing a list using slicing\n",
    "li.extend([5, 5, 6, 3])\n",
    "print(\"New list:\" + str(li))\n",
    "\n"
   ]
  },
  {
   "cell_type": "code",
   "execution_count": 2,
   "id": "275089c7-1170-4d65-b38a-2f52ed9e1142",
   "metadata": {},
   "outputs": [
    {
     "name": "stdout",
     "output_type": "stream",
     "text": [
      "True\n",
      "False\n",
      "1504651996160 1504651999440\n"
     ]
    }
   ],
   "source": [
    "tuple1 = (1, 2, \"string\", 42)\n",
    "tuple2 = (1, 2, \"string\", 42)\n",
    "\n",
    "print(tuple1 == tuple2)  # true; compares element\n",
    "print(tuple1 is tuple2)  #false; compares id\n",
    "\n",
    "print(id(tuple1), id(tuple2))"
   ]
  },
  {
   "cell_type": "code",
   "execution_count": 3,
   "id": "2fe59aaa-b3dd-45d7-bb0f-8b188bc5d41d",
   "metadata": {},
   "outputs": [
    {
     "name": "stdout",
     "output_type": "stream",
     "text": [
      "{'Key1': 'value1', 'Key2': 123}\n",
      "{'Key1': 'value1', 'Key2': 123, 'Key3': 'new value'}\n",
      "{'Key1': 'value1', 'Key2': 123, 'Key3': 'new value', 'e': 2.718281828459045}\n",
      "\n",
      "Keys: ['e', 'Key3', 'Key2', 'Key1']\n"
     ]
    }
   ],
   "source": [
    "dictionary = {\"Key1\": \"value1\", \"Key2\": 123}\n",
    "print(dictionary)\n",
    "\n",
    "dictionary[\"Key3\"] = \"new value\"\n",
    "print(dictionary)\n",
    "\n",
    "import math\n",
    "\n",
    "if \"e\" not in dictionary.keys():\n",
    "    dictionary[\"e\"] = math.exp(1)\n",
    "\n",
    "print(str(dictionary) + \"\\n\")\n",
    "\n",
    "keys = list(reversed(sorted(dictionary.keys())))\n",
    "print(\"Keys: \" + str(keys))"
   ]
  },
  {
   "cell_type": "markdown",
   "id": "c13114ff-0cba-4696-b294-ad735c05b7ea",
   "metadata": {},
   "source": [
    "### Loops and functions"
   ]
  },
  {
   "cell_type": "code",
   "execution_count": 4,
   "id": "134fe5c4-7a79-44ce-a526-634b0e3328c5",
   "metadata": {},
   "outputs": [
    {
     "name": "stdout",
     "output_type": "stream",
     "text": [
      "10\n",
      "12\n",
      "14\n",
      "16\n",
      "18\n"
     ]
    }
   ],
   "source": [
    "rng = range(10, 20, 2)\n",
    "for n in rng:\n",
    "    print(n)"
   ]
  },
  {
   "cell_type": "code",
   "execution_count": 5,
   "id": "d57c01dc-0d45-48bd-8070-19fa81c7dec1",
   "metadata": {},
   "outputs": [
    {
     "name": "stdout",
     "output_type": "stream",
     "text": [
      "1: a\n",
      "2: b\n",
      "3: c\n"
     ]
    }
   ],
   "source": [
    "dictionary = {3: 'c', 1: 'a', 2: 'b'}\n",
    "for i in sorted(dictionary.items()):\n",
    "    print(\"{}: {}\".format(i[0], i[1]))"
   ]
  },
  {
   "cell_type": "code",
   "execution_count": 6,
   "id": "3b74a7de-4f54-4db7-a00a-415989b0ec2a",
   "metadata": {},
   "outputs": [
    {
     "data": {
      "text/plain": [
       "120"
      ]
     },
     "execution_count": 6,
     "metadata": {},
     "output_type": "execute_result"
    }
   ],
   "source": [
    "def factorial(n):\n",
    "    return 1 if (n == 0 or n == 1) else n * factorial(n - 1)\n",
    "\n",
    "\n",
    "factorial(5)"
   ]
  },
  {
   "cell_type": "markdown",
   "id": "4142bf77-208f-4a83-bb7a-a46b2b3f5f04",
   "metadata": {},
   "source": [
    "#### Calculate Euclidean distance with user defined function\n",
    "\\begin{equation*}\n",
    "    x = (x_1, x_2, ..., x_k), y = (y_1, y_2, ..., y_k)\n",
    "\\end{equation*}\n",
    "\n",
    "\\begin{equation*}\n",
    "   d(x,y) = \\displaystyle \\bigg( \\sum_{i=1} ^{k} (x_i - y_i)^2 \\bigg)^{1/2}\n",
    "\\end{equation*}"
   ]
  },
  {
   "cell_type": "code",
   "execution_count": 7,
   "id": "fe5647e1-64f9-4a73-995d-8a01cf0c4294",
   "metadata": {},
   "outputs": [
    {
     "name": "stdout",
     "output_type": "stream",
     "text": [
      "[1.   2.1  7.55] - [1.  2.2 5.5] = [ 0.   -0.1   2.05]\n",
      "Distance between A and B: 2.052437575177379 \n",
      "Eucledean norm of the vector a-b = 2.052437575177379\n"
     ]
    }
   ],
   "source": [
    "import numpy as np\n",
    "\n",
    "a = np.array([1, 2.1, 7.55])\n",
    "b = np.array([1, 2.2, 5.5])\n",
    "print(\"{0} - {1} = {2}\".format(a, b, a - b))\n",
    "\n",
    "\n",
    "def distance(x, y):\n",
    "    x = np.array(x)\n",
    "    y = np.array(y)\n",
    "\n",
    "    if len(x) != len(y):\n",
    "        raise ValueError(\"x and y must be the same length\")\n",
    "\n",
    "    diff = (x - y) ** 2\n",
    "    return (sum(diff)) ** 0.5\n",
    "\n",
    "\n",
    "distance_A_B = distance(a, b)\n",
    "print(\"Distance between A and B: {} \".format(distance_A_B))\n",
    "\n",
    "print(\"Eucledean norm of the vector a-b = \" + str(np.linalg.norm(a - b)))"
   ]
  },
  {
   "cell_type": "code",
   "execution_count": 8,
   "id": "b1a0cab9-e550-4e9a-923d-4d7f88283793",
   "metadata": {},
   "outputs": [
    {
     "name": "stdout",
     "output_type": "stream",
     "text": [
      "Test: (1, 2) - (1, 2) = 0.0\n"
     ]
    }
   ],
   "source": [
    "print(\"Test: (1, 2) - (1, 2) = \" + str(distance((1, 2), [1, 2])))"
   ]
  },
  {
   "cell_type": "markdown",
   "id": "e9ae2451-4a87-4c90-802b-2be220c940b1",
   "metadata": {},
   "source": [
    "<br>\n",
    "## NumPy"
   ]
  },
  {
   "cell_type": "code",
   "execution_count": 9,
   "id": "10a43cae-3766-49b6-bf34-9d5382255940",
   "metadata": {},
   "outputs": [
    {
     "name": "stdout",
     "output_type": "stream",
     "text": [
      "Shape: (3, 4)\n",
      "Size: 12\n",
      "[[ 1  2  3  4]\n",
      " [ 5  6  7  8]\n",
      " [ 9 10 11 12]]\n",
      "\n",
      " Array flattening\n",
      "[ 1  2  3  4  5  6  7  8  9 10 11 12]\n"
     ]
    }
   ],
   "source": [
    "import numpy as np\n",
    "\n",
    "array = np.array(([[1, 2, 3, 4], [5, 6, 7, 8], [9, 10, 11, 12]]))\n",
    "print(\"Shape: {}\".format(array.shape))\n",
    "print(\"Size: {}\".format(array.size))\n",
    "print(array)\n",
    "\n",
    "print(\"\\n Array flattening\")\n",
    "flatArray = array.flatten()\n",
    "print(flatArray)"
   ]
  },
  {
   "cell_type": "code",
   "execution_count": 10,
   "id": "b9ac748f-99fd-4ee3-b740-92075b92db4f",
   "metadata": {},
   "outputs": [
    {
     "name": "stdout",
     "output_type": "stream",
     "text": [
      "array * array element wise\n",
      "[[  1   4   9  16]\n",
      " [ 25  36  49  64]\n",
      " [ 81 100 121 144]]\n",
      "Transpose\n",
      "[[ 1  5  9]\n",
      " [ 2  6 10]\n",
      " [ 3  7 11]\n",
      " [ 4  8 12]]\n",
      "Matrix multiplication\n",
      "[[ 30  70 110]\n",
      " [ 70 174 278]\n",
      " [110 278 446]]\n"
     ]
    }
   ],
   "source": [
    "print(\"array * array element wise\")\n",
    "print(array * array)\n",
    "\n",
    "print(\"Transpose\")\n",
    "transposed = np.transpose(array);\n",
    "print(transposed)\n",
    "\n",
    "print(\"Matrix multiplication\")\n",
    "arraySquared = np.matmul(array, transposed)\n",
    "print(arraySquared)"
   ]
  },
  {
   "cell_type": "code",
   "execution_count": 11,
   "id": "075f1da6-7f6f-49e9-815b-248a1123dfbf",
   "metadata": {},
   "outputs": [
    {
     "data": {
      "text/plain": [
       "array([[0.62920889, 0.95070132, 0.39176623, 0.4920929 , 0.11684874],\n",
       "       [0.89579634, 0.14491097, 0.22680332, 0.3234248 , 0.94383143]])"
      ]
     },
     "execution_count": 11,
     "metadata": {},
     "output_type": "execute_result"
    }
   ],
   "source": [
    "a = np.random.random((2,5))\n",
    "a"
   ]
  },
  {
   "cell_type": "markdown",
   "id": "cceff8f8-5e99-46d5-a997-d506ccfbf02c",
   "metadata": {},
   "source": [
    "## Pandas DataFrames"
   ]
  },
  {
   "cell_type": "code",
   "execution_count": 12,
   "id": "c44e24d4-75cb-4d3b-90cf-616571bd48cf",
   "metadata": {},
   "outputs": [
    {
     "name": "stdout",
     "output_type": "stream",
     "text": [
      "(150, 5)\n",
      "Index(['sepal.length', 'sepal.width', 'petal.length', 'petal.width',\n",
      "       'variety'],\n",
      "      dtype='object')\n"
     ]
    }
   ],
   "source": [
    "import pandas as pd\n",
    "data = pd.read_csv(\"../Data/iris.csv\")\n",
    "type(data)\n",
    "print(data.shape)\n",
    "print(data.columns)"
   ]
  },
  {
   "cell_type": "code",
   "execution_count": 13,
   "id": "849af6dc-4580-42ec-af4b-9f3c9f1a9308",
   "metadata": {},
   "outputs": [
    {
     "name": "stdout",
     "output_type": "stream",
     "text": [
      "   sepal.length  sepal.width  petal.length  petal.width variety\n",
      "0           5.1          3.5           1.4          0.2  Setosa\n",
      "1           4.9          3.0           1.4          0.2  Setosa\n",
      "2           4.7          3.2           1.3          0.2  Setosa\n",
      "3           4.6          3.1           1.5          0.2  Setosa\n",
      "4           5.0          3.6           1.4          0.2  Setosa\n",
      "5           5.4          3.9           1.7          0.4  Setosa\n",
      "6           4.6          3.4           1.4          0.3  Setosa\n",
      "     sepal.length  sepal.width  petal.length  petal.width    variety\n",
      "143           6.8          3.2           5.9          2.3  Virginica\n",
      "144           6.7          3.3           5.7          2.5  Virginica\n",
      "145           6.7          3.0           5.2          2.3  Virginica\n",
      "146           6.3          2.5           5.0          1.9  Virginica\n",
      "147           6.5          3.0           5.2          2.0  Virginica\n",
      "148           6.2          3.4           5.4          2.3  Virginica\n",
      "149           5.9          3.0           5.1          1.8  Virginica\n"
     ]
    }
   ],
   "source": [
    "print(data.head(7))\n",
    "print(data.tail(7))"
   ]
  },
  {
   "cell_type": "code",
   "execution_count": 14,
   "id": "e2fb3808-83e1-4aad-8ff9-d2cc045bea4a",
   "metadata": {},
   "outputs": [
    {
     "name": "stdout",
     "output_type": "stream",
     "text": [
      "<class 'pandas.core.frame.DataFrame'>\n",
      "RangeIndex: 150 entries, 0 to 149\n",
      "Data columns (total 5 columns):\n",
      " #   Column        Non-Null Count  Dtype  \n",
      "---  ------        --------------  -----  \n",
      " 0   sepal.length  150 non-null    float64\n",
      " 1   sepal.width   150 non-null    float64\n",
      " 2   petal.length  150 non-null    float64\n",
      " 3   petal.width   150 non-null    float64\n",
      " 4   variety       150 non-null    object \n",
      "dtypes: float64(4), object(1)\n",
      "memory usage: 6.0+ KB\n"
     ]
    },
    {
     "data": {
      "text/html": [
       "<div>\n",
       "<style scoped>\n",
       "    .dataframe tbody tr th:only-of-type {\n",
       "        vertical-align: middle;\n",
       "    }\n",
       "\n",
       "    .dataframe tbody tr th {\n",
       "        vertical-align: top;\n",
       "    }\n",
       "\n",
       "    .dataframe thead th {\n",
       "        text-align: right;\n",
       "    }\n",
       "</style>\n",
       "<table border=\"1\" class=\"dataframe\">\n",
       "  <thead>\n",
       "    <tr style=\"text-align: right;\">\n",
       "      <th></th>\n",
       "      <th>sepal.length</th>\n",
       "      <th>sepal.width</th>\n",
       "      <th>petal.length</th>\n",
       "      <th>petal.width</th>\n",
       "    </tr>\n",
       "  </thead>\n",
       "  <tbody>\n",
       "    <tr>\n",
       "      <th>count</th>\n",
       "      <td>150.000000</td>\n",
       "      <td>150.000000</td>\n",
       "      <td>150.000000</td>\n",
       "      <td>150.000000</td>\n",
       "    </tr>\n",
       "    <tr>\n",
       "      <th>mean</th>\n",
       "      <td>5.843333</td>\n",
       "      <td>3.057333</td>\n",
       "      <td>3.758000</td>\n",
       "      <td>1.199333</td>\n",
       "    </tr>\n",
       "    <tr>\n",
       "      <th>std</th>\n",
       "      <td>0.828066</td>\n",
       "      <td>0.435866</td>\n",
       "      <td>1.765298</td>\n",
       "      <td>0.762238</td>\n",
       "    </tr>\n",
       "    <tr>\n",
       "      <th>min</th>\n",
       "      <td>4.300000</td>\n",
       "      <td>2.000000</td>\n",
       "      <td>1.000000</td>\n",
       "      <td>0.100000</td>\n",
       "    </tr>\n",
       "    <tr>\n",
       "      <th>25%</th>\n",
       "      <td>5.100000</td>\n",
       "      <td>2.800000</td>\n",
       "      <td>1.600000</td>\n",
       "      <td>0.300000</td>\n",
       "    </tr>\n",
       "    <tr>\n",
       "      <th>50%</th>\n",
       "      <td>5.800000</td>\n",
       "      <td>3.000000</td>\n",
       "      <td>4.350000</td>\n",
       "      <td>1.300000</td>\n",
       "    </tr>\n",
       "    <tr>\n",
       "      <th>75%</th>\n",
       "      <td>6.400000</td>\n",
       "      <td>3.300000</td>\n",
       "      <td>5.100000</td>\n",
       "      <td>1.800000</td>\n",
       "    </tr>\n",
       "    <tr>\n",
       "      <th>max</th>\n",
       "      <td>7.900000</td>\n",
       "      <td>4.400000</td>\n",
       "      <td>6.900000</td>\n",
       "      <td>2.500000</td>\n",
       "    </tr>\n",
       "  </tbody>\n",
       "</table>\n",
       "</div>"
      ],
      "text/plain": [
       "       sepal.length  sepal.width  petal.length  petal.width\n",
       "count    150.000000   150.000000    150.000000   150.000000\n",
       "mean       5.843333     3.057333      3.758000     1.199333\n",
       "std        0.828066     0.435866      1.765298     0.762238\n",
       "min        4.300000     2.000000      1.000000     0.100000\n",
       "25%        5.100000     2.800000      1.600000     0.300000\n",
       "50%        5.800000     3.000000      4.350000     1.300000\n",
       "75%        6.400000     3.300000      5.100000     1.800000\n",
       "max        7.900000     4.400000      6.900000     2.500000"
      ]
     },
     "execution_count": 14,
     "metadata": {},
     "output_type": "execute_result"
    }
   ],
   "source": [
    "data.info()\n",
    "\n",
    "data.describe()"
   ]
  },
  {
   "cell_type": "markdown",
   "id": "f5c2d103-b2d5-4950-a64b-e12cbd241227",
   "metadata": {},
   "source": [
    "<br>\n",
    "## Matplotlib examples\n",
    "\n",
    "###### plot the function $f(x) = \\frac{sin(x)}{x}$"
   ]
  },
  {
   "cell_type": "code",
   "execution_count": 15,
   "id": "b7939a28-4d79-4616-85ef-cdac35d1b2c3",
   "metadata": {},
   "outputs": [
    {
     "data": {
      "image/png": "[encoded data removed]",
      "text/plain": [
       "<Figure size 640x480 with 1 Axes>"
      ]
     },
     "metadata": {},
     "output_type": "display_data"
    }
   ],
   "source": [
    "import numpy as np\n",
    "import math\n",
    "import matplotlib.pyplot as plt\n",
    "\n",
    "x = np.arange(-100, 100, 0.1)\n",
    "y = np.sin(x)/x\n",
    "plt.plot(x, y)\n",
    "plt.show()"
   ]
  },
  {
   "cell_type": "markdown",
   "id": "3b02a691-e701-4de8-b7e0-034a7f33233b",
   "metadata": {},
   "source": [
    "<br>\n",
    "\n",
    "###### compare $ln(x)$ and $\\sqrt{x}$"
   ]
  },
  {
   "cell_type": "code",
   "execution_count": 16,
   "id": "90daad27-0524-4dd3-9de3-95a67aa5954d",
   "metadata": {},
   "outputs": [
    {
     "data": {
      "image/png": "[encoded data removed]",
      "text/plain": [
       "<Figure size 640x480 with 1 Axes>"
      ]
     },
     "metadata": {},
     "output_type": "display_data"
    }
   ],
   "source": [
    "x = np.arange(1, 100, 0.1) \n",
    "y = np.log(x)\n",
    "z = np.sqrt(x)\n",
    "\n",
    "plt.plot(x, y, color='green') \n",
    "plt.plot(x, z, color='orange') \n",
    "plt.show() "
   ]
  },
  {
   "cell_type": "markdown",
   "id": "1a46778f-9ba6-4faa-b9db-542f5164d6a3",
   "metadata": {},
   "source": [
    "<br><br><br>\n",
    "\n",
    "### Plot a histogram with Gaussian random variable\n",
    "The probability density of a Gaussian random variable $\\mathcal{N}(\\mu, \\sigma)$ with mean $\\mu$ and standard deviation $\\sigma$ is: <br><br><br>\n",
    "\n",
    "\\begin{equation*}\n",
    "f(x) = \\frac{1}{\\sqrt{2 \\pi \\sigma^2}}\\exp \\big( - {\\frac{(x - \\mu)^2}{2 \\sigma ^ 2}} \\big)\n",
    "\\end{equation*}"
   ]
  },
  {
   "cell_type": "code",
   "execution_count": 17,
   "id": "2430c6a3-46e0-4a6d-914d-a74c10cdf42c",
   "metadata": {},
   "outputs": [
    {
     "name": "stdout",
     "output_type": "stream",
     "text": [
      "An array of Gaussian normal variables - first 30 elements: {} \n",
      " [ 8.23772582  6.13164536  7.85508912  3.30682331 10.09693549  9.50123346\n",
      "  5.11290865  4.67921497  6.90701974  3.73585037  3.97615042 12.03656518\n",
      "  9.49674129  7.36824513  2.83412468  9.26209175  4.1452103   7.2866685\n",
      "  6.05094092  6.25496708 12.88296577  5.44099905  7.1706586   1.66684687\n",
      "  9.19434647 10.1458961  14.15909402  9.56459405  3.58097725]\n"
     ]
    },
    {
     "data": {
      "image/png": "[encoded data removed]",
      "text/plain": [
       "<Figure size 640x480 with 1 Axes>"
      ]
     },
     "metadata": {},
     "output_type": "display_data"
    }
   ],
   "source": [
    "import numpy as np\n",
    "import matplotlib.pyplot as plt\n",
    "\n",
    "mean = 7\n",
    "sd = 3\n",
    "n = 10**4\n",
    "\n",
    "gaussianVector = np.random.normal(mean, sd, n)\n",
    "print(\"An array of Gaussian normal variables - first 30 elements: {} \\n\", gaussianVector[1:30])\n",
    "\n",
    "numberOfBins = 50\n",
    "count, bins, ignored = plt.hist(gaussianVector, numberOfBins, density=True)\n",
    "dens = 1/(sd * np.sqrt(2 * np.pi)) * np.exp( - (bins - mean)**2 / (2 * sd**2) )\n",
    "plt.plot(bins, dens, linewidth=3, color='red') \n",
    "plt.show() \n"
   ]
  },
  {
   "cell_type": "markdown",
   "id": "64d3ff14-a5fd-4d47-b3f7-61dd13c940f2",
   "metadata": {},
   "source": [
    "#### Heatmaps in mathplotlib"
   ]
  },
  {
   "cell_type": "code",
   "execution_count": 18,
   "id": "74ef53d6-2ad3-4ec7-b550-903c9f09bed7",
   "metadata": {},
   "outputs": [
    {
     "data": {
      "image/png": "[encoded data removed]",
      "text/plain": [
       "<Figure size 640x480 with 1 Axes>"
      ]
     },
     "metadata": {},
     "output_type": "display_data"
    }
   ],
   "source": [
    "import matplotlib.pyplot as plt\n",
    "import numpy as np\n",
    "\n",
    "n=10 \n",
    "matrix = [[0 for x in range(n)] for y in range(n)]\n",
    "for i in range(n):\n",
    "    for j in range(n):\n",
    "        matrix[i][j] = 1 + (i + j + np.random.normal(0,1))**2 - j**2\n",
    "        \n",
    "a = np.random.random((10,10))\n",
    "plt.imshow(matrix, cmap='hot', interpolation='nearest')\n",
    "plt.show()"
   ]
  },
  {
   "cell_type": "code",
   "execution_count": 19,
   "id": "1ec6467d-8b7e-4f4f-993e-efa679aec102",
   "metadata": {},
   "outputs": [
    {
     "name": "stdout",
     "output_type": "stream",
     "text": [
      "              sepal.length  sepal.width  petal.length  petal.width\n",
      "sepal.length      1.000000    -0.117570      0.871754     0.817941\n",
      "sepal.width      -0.117570     1.000000     -0.428440    -0.366126\n",
      "petal.length      0.871754    -0.428440      1.000000     0.962865\n",
      "petal.width       0.817941    -0.366126      0.962865     1.000000\n"
     ]
    },
    {
     "data": {
      "image/png": "[encoded data removed]",
      "text/plain": [
       "<Figure size 640x480 with 1 Axes>"
      ]
     },
     "metadata": {},
     "output_type": "display_data"
    }
   ],
   "source": [
    "import pandas as pd\n",
    "import matplotlib.pyplot as plt\n",
    "\n",
    "data = pd.read_csv(\"../Data/iris.csv\")\n",
    "\n",
    "correl =  data.select_dtypes(include='number').corr()\n",
    "\n",
    "print (correl)\n",
    "\n",
    "plt.imshow(correl, cmap='gray', vmin=-1, vmax=1)\n",
    "plt.show()"
   ]
  },
  {
   "cell_type": "markdown",
   "id": "d3a992a1-45e6-4c7f-b77a-d8892a5a7a3f",
   "metadata": {},
   "source": [
    "<br><br>\n",
    "\n",
    "## Linear regression\n",
    "\n",
    "#### Generate random sample\n",
    "* first we create a trend\n",
    "* then we add noise to the trend (using Gaussian distribution)"
   ]
  },
  {
   "cell_type": "code",
   "execution_count": 20,
   "id": "c085067c-d342-4d74-9481-ae7fcd91723e",
   "metadata": {},
   "outputs": [
    {
     "data": {
      "image/png": "[encoded data removed]",
      "text/plain": [
       "<Figure size 640x480 with 1 Axes>"
      ]
     },
     "metadata": {},
     "output_type": "display_data"
    }
   ],
   "source": [
    "import numpy as np\n",
    "import matplotlib.pyplot as plt\n",
    "import random\n",
    "\n",
    "X = np.random.rand(200,1)\n",
    "mean = 0\n",
    "sd = 0.5\n",
    "noise = np.random.normal(mean, sd, (200,1))\n",
    "trend = 4 + 1.7 * X\n",
    "Y = trend + noise\n",
    "\n",
    "plt.scatter(X, Y, s=10)\n",
    "plt.xlabel(\"X\")\n",
    "plt.ylabel(\"Y\")\n",
    "plt.show()"
   ]
  },
  {
   "cell_type": "code",
   "execution_count": 21,
   "id": "cf5c05a4-e8a9-4512-99da-eb01fab63b3c",
   "metadata": {},
   "outputs": [
    {
     "data": {
      "image/png": "[encoded data removed]",
      "text/plain": [
       "<Figure size 640x480 with 1 Axes>"
      ]
     },
     "metadata": {},
     "output_type": "display_data"
    }
   ],
   "source": [
    "plt.scatter(X, Y, s=3)\n",
    "\n",
    "xx = np.arange(0, 1, 0.1)\n",
    "trend = 4 + 1.7 * xx\n",
    "plt.plot(xx, trend)\n",
    "\n",
    "plt.xlabel(\"X\")\n",
    "plt.ylabel(\"Y\")\n",
    "plt.show()"
   ]
  },
  {
   "cell_type": "markdown",
   "id": "11f08063-c557-4366-8fcc-2f8498942bff",
   "metadata": {},
   "source": [
    "#### Fit the model\n",
    "* Instantiate a LinearRegression() object \n",
    "* Use .fit(X, Y) in order to \"learn\" the relationship between the inputs X and the outputs Y"
   ]
  },
  {
   "cell_type": "code",
   "execution_count": 26,
   "id": "4d6f0052-9942-4ad8-aeec-ec581463b14c",
   "metadata": {},
   "outputs": [
    {
     "data": {
      "text/html": [
       "<style>#sk-container-id-2 {\n",
       "  /* Definition of color scheme common for light and dark mode */\n",
       "  --sklearn-color-text: black;\n",
       "  --sklearn-color-line: gray;\n",
       "  /* Definition of color scheme for unfitted estimators */\n",
       "  --sklearn-color-unfitted-level-0: #fff5e6;\n",
       "  --sklearn-color-unfitted-level-1: #f6e4d2;\n",
       "  --sklearn-color-unfitted-level-2: #ffe0b3;\n",
       "  --sklearn-color-unfitted-level-3: chocolate;\n",
       "  /* Definition of color scheme for fitted estimators */\n",
       "  --sklearn-color-fitted-level-0: #f0f8ff;\n",
       "  --sklearn-color-fitted-level-1: #d4ebff;\n",
       "  --sklearn-color-fitted-level-2: #b3dbfd;\n",
       "  --sklearn-color-fitted-level-3: cornflowerblue;\n",
       "\n",
       "  /* Specific color for light theme */\n",
       "  --sklearn-color-text-on-default-background: var(--sg-text-color, var(--theme-code-foreground, var(--jp-content-font-color1, black)));\n",
       "  --sklearn-color-background: var(--sg-background-color, var(--theme-background, var(--jp-layout-color0, white)));\n",
       "  --sklearn-color-border-box: var(--sg-text-color, var(--theme-code-foreground, var(--jp-content-font-color1, black)));\n",
       "  --sklearn-color-icon: #696969;\n",
       "\n",
       "  @media (prefers-color-scheme: dark) {\n",
       "    /* Redefinition of color scheme for dark theme */\n",
       "    --sklearn-color-text-on-default-background: var(--sg-text-color, var(--theme-code-foreground, var(--jp-content-font-color1, white)));\n",
       "    --sklearn-color-background: var(--sg-background-color, var(--theme-background, var(--jp-layout-color0, #111)));\n",
       "    --sklearn-color-border-box: var(--sg-text-color, var(--theme-code-foreground, var(--jp-content-font-color1, white)));\n",
       "    --sklearn-color-icon: #878787;\n",
       "  }\n",
       "}\n",
       "\n",
       "#sk-container-id-2 {\n",
       "  color: var(--sklearn-color-text);\n",
       "}\n",
       "\n",
       "#sk-container-id-2 pre {\n",
       "  padding: 0;\n",
       "}\n",
       "\n",
       "#sk-container-id-2 input.sk-hidden--visually {\n",
       "  border: 0;\n",
       "  clip: rect(1px 1px 1px 1px);\n",
       "  clip: rect(1px, 1px, 1px, 1px);\n",
       "  height: 1px;\n",
       "  margin: -1px;\n",
       "  overflow: hidden;\n",
       "  padding: 0;\n",
       "  position: absolute;\n",
       "  width: 1px;\n",
       "}\n",
       "\n",
       "#sk-container-id-2 div.sk-dashed-wrapped {\n",
       "  border: 1px dashed var(--sklearn-color-line);\n",
       "  margin: 0 0.4em 0.5em 0.4em;\n",
       "  box-sizing: border-box;\n",
       "  padding-bottom: 0.4em;\n",
       "  background-color: var(--sklearn-color-background);\n",
       "}\n",
       "\n",
       "#sk-container-id-2 div.sk-container {\n",
       "  /* jupyter's `normalize.less` sets `[hidden] { display: none; }`\n",
       "     but bootstrap.min.css set `[hidden] { display: none !important; }`\n",
       "     so we also need the `!important` here to be able to override the\n",
       "     default hidden behavior on the sphinx rendered scikit-learn.org.\n",
       "     See: https://github.com/scikit-learn/scikit-learn/issues/21755 */\n",
       "  display: inline-block !important;\n",
       "  position: relative;\n",
       "}\n",
       "\n",
       "#sk-container-id-2 div.sk-text-repr-fallback {\n",
       "  display: none;\n",
       "}\n",
       "\n",
       "div.sk-parallel-item,\n",
       "div.sk-serial,\n",
       "div.sk-item {\n",
       "  /* draw centered vertical line to link estimators */\n",
       "  background-image: linear-gradient(var(--sklearn-color-text-on-default-background), var(--sklearn-color-text-on-default-background));\n",
       "  background-size: 2px 100%;\n",
       "  background-repeat: no-repeat;\n",
       "  background-position: center center;\n",
       "}\n",
       "\n",
       "/* Parallel-specific style estimator block */\n",
       "\n",
       "#sk-container-id-2 div.sk-parallel-item::after {\n",
       "  content: \"\";\n",
       "  width: 100%;\n",
       "  border-bottom: 2px solid var(--sklearn-color-text-on-default-background);\n",
       "  flex-grow: 1;\n",
       "}\n",
       "\n",
       "#sk-container-id-2 div.sk-parallel {\n",
       "  display: flex;\n",
       "  align-items: stretch;\n",
       "  justify-content: center;\n",
       "  background-color: var(--sklearn-color-background);\n",
       "  position: relative;\n",
       "}\n",
       "\n",
       "#sk-container-id-2 div.sk-parallel-item {\n",
       "  display: flex;\n",
       "  flex-direction: column;\n",
       "}\n",
       "\n",
       "#sk-container-id-2 div.sk-parallel-item:first-child::after {\n",
       "  align-self: flex-end;\n",
       "  width: 50%;\n",
       "}\n",
       "\n",
       "#sk-container-id-2 div.sk-parallel-item:last-child::after {\n",
       "  align-self: flex-start;\n",
       "  width: 50%;\n",
       "}\n",
       "\n",
       "#sk-container-id-2 div.sk-parallel-item:only-child::after {\n",
       "  width: 0;\n",
       "}\n",
       "\n",
       "/* Serial-specific style estimator block */\n",
       "\n",
       "#sk-container-id-2 div.sk-serial {\n",
       "  display: flex;\n",
       "  flex-direction: column;\n",
       "  align-items: center;\n",
       "  background-color: var(--sklearn-color-background);\n",
       "  padding-right: 1em;\n",
       "  padding-left: 1em;\n",
       "}\n",
       "\n",
       "\n",
       "/* Toggleable style: style used for estimator/Pipeline/ColumnTransformer box that is\n",
       "clickable and can be expanded/collapsed.\n",
       "- Pipeline and ColumnTransformer use this feature and define the default style\n",
       "- Estimators will overwrite some part of the style using the `sk-estimator` class\n",
       "*/\n",
       "\n",
       "/* Pipeline and ColumnTransformer style (default) */\n",
       "\n",
       "#sk-container-id-2 div.sk-toggleable {\n",
       "  /* Default theme specific background. It is overwritten whether we have a\n",
       "  specific estimator or a Pipeline/ColumnTransformer */\n",
       "  background-color: var(--sklearn-color-background);\n",
       "}\n",
       "\n",
       "/* Toggleable label */\n",
       "#sk-container-id-2 label.sk-toggleable__label {\n",
       "  cursor: pointer;\n",
       "  display: block;\n",
       "  width: 100%;\n",
       "  margin-bottom: 0;\n",
       "  padding: 0.5em;\n",
       "  box-sizing: border-box;\n",
       "  text-align: center;\n",
       "}\n",
       "\n",
       "#sk-container-id-2 label.sk-toggleable__label-arrow:before {\n",
       "  /* Arrow on the left of the label */\n",
       "  content: \"▸\";\n",
       "  float: left;\n",
       "  margin-right: 0.25em;\n",
       "  color: var(--sklearn-color-icon);\n",
       "}\n",
       "\n",
       "#sk-container-id-2 label.sk-toggleable__label-arrow:hover:before {\n",
       "  color: var(--sklearn-color-text);\n",
       "}\n",
       "\n",
       "/* Toggleable content - dropdown */\n",
       "\n",
       "#sk-container-id-2 div.sk-toggleable__content {\n",
       "  max-height: 0;\n",
       "  max-width: 0;\n",
       "  overflow: hidden;\n",
       "  text-align: left;\n",
       "  /* unfitted */\n",
       "  background-color: var(--sklearn-color-unfitted-level-0);\n",
       "}\n",
       "\n",
       "#sk-container-id-2 div.sk-toggleable__content.fitted {\n",
       "  /* fitted */\n",
       "  background-color: var(--sklearn-color-fitted-level-0);\n",
       "}\n",
       "\n",
       "#sk-container-id-2 div.sk-toggleable__content pre {\n",
       "  margin: 0.2em;\n",
       "  border-radius: 0.25em;\n",
       "  color: var(--sklearn-color-text);\n",
       "  /* unfitted */\n",
       "  background-color: var(--sklearn-color-unfitted-level-0);\n",
       "}\n",
       "\n",
       "#sk-container-id-2 div.sk-toggleable__content.fitted pre {\n",
       "  /* unfitted */\n",
       "  background-color: var(--sklearn-color-fitted-level-0);\n",
       "}\n",
       "\n",
       "#sk-container-id-2 input.sk-toggleable__control:checked~div.sk-toggleable__content {\n",
       "  /* Expand drop-down */\n",
       "  max-height: 200px;\n",
       "  max-width: 100%;\n",
       "  overflow: auto;\n",
       "}\n",
       "\n",
       "#sk-container-id-2 input.sk-toggleable__control:checked~label.sk-toggleable__label-arrow:before {\n",
       "  content: \"▾\";\n",
       "}\n",
       "\n",
       "/* Pipeline/ColumnTransformer-specific style */\n",
       "\n",
       "#sk-container-id-2 div.sk-label input.sk-toggleable__control:checked~label.sk-toggleable__label {\n",
       "  color: var(--sklearn-color-text);\n",
       "  background-color: var(--sklearn-color-unfitted-level-2);\n",
       "}\n",
       "\n",
       "#sk-container-id-2 div.sk-label.fitted input.sk-toggleable__control:checked~label.sk-toggleable__label {\n",
       "  background-color: var(--sklearn-color-fitted-level-2);\n",
       "}\n",
       "\n",
       "/* Estimator-specific style */\n",
       "\n",
       "/* Colorize estimator box */\n",
       "#sk-container-id-2 div.sk-estimator input.sk-toggleable__control:checked~label.sk-toggleable__label {\n",
       "  /* unfitted */\n",
       "  background-color: var(--sklearn-color-unfitted-level-2);\n",
       "}\n",
       "\n",
       "#sk-container-id-2 div.sk-estimator.fitted input.sk-toggleable__control:checked~label.sk-toggleable__label {\n",
       "  /* fitted */\n",
       "  background-color: var(--sklearn-color-fitted-level-2);\n",
       "}\n",
       "\n",
       "#sk-container-id-2 div.sk-label label.sk-toggleable__label,\n",
       "#sk-container-id-2 div.sk-label label {\n",
       "  /* The background is the default theme color */\n",
       "  color: var(--sklearn-color-text-on-default-background);\n",
       "}\n",
       "\n",
       "/* On hover, darken the color of the background */\n",
       "#sk-container-id-2 div.sk-label:hover label.sk-toggleable__label {\n",
       "  color: var(--sklearn-color-text);\n",
       "  background-color: var(--sklearn-color-unfitted-level-2);\n",
       "}\n",
       "\n",
       "/* Label box, darken color on hover, fitted */\n",
       "#sk-container-id-2 div.sk-label.fitted:hover label.sk-toggleable__label.fitted {\n",
       "  color: var(--sklearn-color-text);\n",
       "  background-color: var(--sklearn-color-fitted-level-2);\n",
       "}\n",
       "\n",
       "/* Estimator label */\n",
       "\n",
       "#sk-container-id-2 div.sk-label label {\n",
       "  font-family: monospace;\n",
       "  font-weight: bold;\n",
       "  display: inline-block;\n",
       "  line-height: 1.2em;\n",
       "}\n",
       "\n",
       "#sk-container-id-2 div.sk-label-container {\n",
       "  text-align: center;\n",
       "}\n",
       "\n",
       "/* Estimator-specific */\n",
       "#sk-container-id-2 div.sk-estimator {\n",
       "  font-family: monospace;\n",
       "  border: 1px dotted var(--sklearn-color-border-box);\n",
       "  border-radius: 0.25em;\n",
       "  box-sizing: border-box;\n",
       "  margin-bottom: 0.5em;\n",
       "  /* unfitted */\n",
       "  background-color: var(--sklearn-color-unfitted-level-0);\n",
       "}\n",
       "\n",
       "#sk-container-id-2 div.sk-estimator.fitted {\n",
       "  /* fitted */\n",
       "  background-color: var(--sklearn-color-fitted-level-0);\n",
       "}\n",
       "\n",
       "/* on hover */\n",
       "#sk-container-id-2 div.sk-estimator:hover {\n",
       "  /* unfitted */\n",
       "  background-color: var(--sklearn-color-unfitted-level-2);\n",
       "}\n",
       "\n",
       "#sk-container-id-2 div.sk-estimator.fitted:hover {\n",
       "  /* fitted */\n",
       "  background-color: var(--sklearn-color-fitted-level-2);\n",
       "}\n",
       "\n",
       "/* Specification for estimator info (e.g. \"i\" and \"?\") */\n",
       "\n",
       "/* Common style for \"i\" and \"?\" */\n",
       "\n",
       ".sk-estimator-doc-link,\n",
       "a:link.sk-estimator-doc-link,\n",
       "a:visited.sk-estimator-doc-link {\n",
       "  float: right;\n",
       "  font-size: smaller;\n",
       "  line-height: 1em;\n",
       "  font-family: monospace;\n",
       "  background-color: var(--sklearn-color-background);\n",
       "  border-radius: 1em;\n",
       "  height: 1em;\n",
       "  width: 1em;\n",
       "  text-decoration: none !important;\n",
       "  margin-left: 1ex;\n",
       "  /* unfitted */\n",
       "  border: var(--sklearn-color-unfitted-level-1) 1pt solid;\n",
       "  color: var(--sklearn-color-unfitted-level-1);\n",
       "}\n",
       "\n",
       ".sk-estimator-doc-link.fitted,\n",
       "a:link.sk-estimator-doc-link.fitted,\n",
       "a:visited.sk-estimator-doc-link.fitted {\n",
       "  /* fitted */\n",
       "  border: var(--sklearn-color-fitted-level-1) 1pt solid;\n",
       "  color: var(--sklearn-color-fitted-level-1);\n",
       "}\n",
       "\n",
       "/* On hover */\n",
       "div.sk-estimator:hover .sk-estimator-doc-link:hover,\n",
       ".sk-estimator-doc-link:hover,\n",
       "div.sk-label-container:hover .sk-estimator-doc-link:hover,\n",
       ".sk-estimator-doc-link:hover {\n",
       "  /* unfitted */\n",
       "  background-color: var(--sklearn-color-unfitted-level-3);\n",
       "  color: var(--sklearn-color-background);\n",
       "  text-decoration: none;\n",
       "}\n",
       "\n",
       "div.sk-estimator.fitted:hover .sk-estimator-doc-link.fitted:hover,\n",
       ".sk-estimator-doc-link.fitted:hover,\n",
       "div.sk-label-container:hover .sk-estimator-doc-link.fitted:hover,\n",
       ".sk-estimator-doc-link.fitted:hover {\n",
       "  /* fitted */\n",
       "  background-color: var(--sklearn-color-fitted-level-3);\n",
       "  color: var(--sklearn-color-background);\n",
       "  text-decoration: none;\n",
       "}\n",
       "\n",
       "/* Span, style for the box shown on hovering the info icon */\n",
       ".sk-estimator-doc-link span {\n",
       "  display: none;\n",
       "  z-index: 9999;\n",
       "  position: relative;\n",
       "  font-weight: normal;\n",
       "  right: .2ex;\n",
       "  padding: .5ex;\n",
       "  margin: .5ex;\n",
       "  width: min-content;\n",
       "  min-width: 20ex;\n",
       "  max-width: 50ex;\n",
       "  color: var(--sklearn-color-text);\n",
       "  box-shadow: 2pt 2pt 4pt #999;\n",
       "  /* unfitted */\n",
       "  background: var(--sklearn-color-unfitted-level-0);\n",
       "  border: .5pt solid var(--sklearn-color-unfitted-level-3);\n",
       "}\n",
       "\n",
       ".sk-estimator-doc-link.fitted span {\n",
       "  /* fitted */\n",
       "  background: var(--sklearn-color-fitted-level-0);\n",
       "  border: var(--sklearn-color-fitted-level-3);\n",
       "}\n",
       "\n",
       ".sk-estimator-doc-link:hover span {\n",
       "  display: block;\n",
       "}\n",
       "\n",
       "/* \"?\"-specific style due to the `<a>` HTML tag */\n",
       "\n",
       "#sk-container-id-2 a.estimator_doc_link {\n",
       "  float: right;\n",
       "  font-size: 1rem;\n",
       "  line-height: 1em;\n",
       "  font-family: monospace;\n",
       "  background-color: var(--sklearn-color-background);\n",
       "  border-radius: 1rem;\n",
       "  height: 1rem;\n",
       "  width: 1rem;\n",
       "  text-decoration: none;\n",
       "  /* unfitted */\n",
       "  color: var(--sklearn-color-unfitted-level-1);\n",
       "  border: var(--sklearn-color-unfitted-level-1) 1pt solid;\n",
       "}\n",
       "\n",
       "#sk-container-id-2 a.estimator_doc_link.fitted {\n",
       "  /* fitted */\n",
       "  border: var(--sklearn-color-fitted-level-1) 1pt solid;\n",
       "  color: var(--sklearn-color-fitted-level-1);\n",
       "}\n",
       "\n",
       "/* On hover */\n",
       "#sk-container-id-2 a.estimator_doc_link:hover {\n",
       "  /* unfitted */\n",
       "  background-color: var(--sklearn-color-unfitted-level-3);\n",
       "  color: var(--sklearn-color-background);\n",
       "  text-decoration: none;\n",
       "}\n",
       "\n",
       "#sk-container-id-2 a.estimator_doc_link.fitted:hover {\n",
       "  /* fitted */\n",
       "  background-color: var(--sklearn-color-fitted-level-3);\n",
       "}\n",
       "</style><div id=\"sk-container-id-2\" class=\"sk-top-container\"><div class=\"sk-text-repr-fallback\"><pre>LinearRegression()</pre><b>In a Jupyter environment, please rerun this cell to show the HTML representation or trust the notebook. <br />On GitHub, the HTML representation is unable to render, please try loading this page with nbviewer.org.</b></div><div class=\"sk-container\" hidden><div class=\"sk-item\"><div class=\"sk-estimator fitted sk-toggleable\"><input class=\"sk-toggleable__control sk-hidden--visually\" id=\"sk-estimator-id-2\" type=\"checkbox\" checked><label for=\"sk-estimator-id-2\" class=\"sk-toggleable__label fitted sk-toggleable__label-arrow fitted\">&nbsp;&nbsp;LinearRegression<a class=\"sk-estimator-doc-link fitted\" rel=\"noreferrer\" target=\"_blank\" href=\"https://scikit-learn.org/1.5/modules/generated/sklearn.linear_model.LinearRegression.html\">?<span>Documentation for LinearRegression</span></a><span class=\"sk-estimator-doc-link fitted\">i<span>Fitted</span></span></label><div class=\"sk-toggleable__content fitted\"><pre>LinearRegression()</pre></div> </div></div></div></div>"
      ],
      "text/plain": [
       "LinearRegression()"
      ]
     },
     "execution_count": 26,
     "metadata": {},
     "output_type": "execute_result"
    }
   ],
   "source": [
    "from sklearn.linear_model import LinearRegression\n",
    "model = LinearRegression().fit(X, Y)\n",
    "model"
   ]
  },
  {
   "cell_type": "code",
   "execution_count": 27,
   "id": "b2067d68-3c8e-4f0c-8b54-f08622e3e772",
   "metadata": {},
   "outputs": [
    {
     "name": "stdout",
     "output_type": "stream",
     "text": [
      "Goodness of fit: R^2:  0.5299235729200589\n",
      "\n",
      "intercept b = [3.88794253]  slope = [[1.91957366]]\n"
     ]
    }
   ],
   "source": [
    "r_sq = model.score(X, Y)\n",
    "print(\"Goodness of fit: R^2: \", r_sq)\n",
    "\n",
    "print()\n",
    "print('intercept b = {0}  slope = {1}'.format(model.intercept_, model.coef_))"
   ]
  },
  {
   "cell_type": "code",
   "execution_count": 28,
   "id": "a6627042-270b-404b-aca7-917f8350f695",
   "metadata": {},
   "outputs": [],
   "source": [
    "#### Compare the \"ground truth\" model used for the sample generation and the fitted model"
   ]
  },
  {
   "cell_type": "code",
   "execution_count": 29,
   "id": "181b5a38-9d4e-42a9-8b39-ce22d3b099c8",
   "metadata": {},
   "outputs": [
    {
     "data": {
      "image/png": "[encoded data removed]",
      "text/plain": [
       "<Figure size 640x480 with 1 Axes>"
      ]
     },
     "metadata": {},
     "output_type": "display_data"
    }
   ],
   "source": [
    "plt.scatter(X, Y, s=3)\n",
    "\n",
    "xx = np.arange(0, 1, 0.1)\n",
    "\n",
    "ground_truth = 4 + 1.7 * xx\n",
    "fitted_model = model.intercept_ + model.coef_ * xx\n",
    "\n",
    "plt.plot(xx, ground_truth.flatten())\n",
    "plt.plot(xx, fitted_model.flatten())\n",
    "\n",
    "plt.xlabel(\"X\")\n",
    "plt.ylabel(\"Y\")\n",
    "plt.show()"
   ]
  },
  {
   "cell_type": "markdown",
   "id": "b05d7176-5773-49bd-80af-48e815653477",
   "metadata": {},
   "source": [
    "#### Predict new data points\n",
    "$f(0.3) = ? $ <br>\n",
    "$f(0.4) = ? $ <br>\n",
    "$f(1.7) = ? $ <br>\n"
   ]
  },
  {
   "cell_type": "code",
   "execution_count": 32,
   "id": "82be444d-b1b7-4d25-b9cb-d0eb292221a8",
   "metadata": {},
   "outputs": [
    {
     "name": "stdout",
     "output_type": "stream",
     "text": [
      "predicted values of f(x): \n",
      " [[4.46381463]\n",
      " [4.65577199]\n",
      " [7.15121774]]\n"
     ]
    }
   ],
   "source": [
    "new_x = [[0.3], [0.4], [1.7]] # 2D array of new data points\n",
    "\n",
    "# use model.predict\n",
    "y_predicted = model.predict(new_x)\n",
    "\n",
    "print('predicted values of f(x): \\n', y_predicted)"
   ]
  },
  {
   "cell_type": "code",
   "execution_count": 33,
   "id": "3bb0e7d8-49b8-440f-bc66-bb95db4c7162",
   "metadata": {},
   "outputs": [
    {
     "name": "stdout",
     "output_type": "stream",
     "text": [
      "predicted values of f(x): \n",
      " [[4.46381463]\n",
      " [4.65577199]\n",
      " [7.15121774]]\n"
     ]
    }
   ],
   "source": [
    "new_x = [[0.3], [0.4], [1.7]] # 2D array of new data points\n",
    "\n",
    "# in the case of Linear regression, we can also use Y = b + wx\n",
    "y_predicted = model.intercept_ + model.coef_ * new_x\n",
    "\n",
    "print('predicted values of f(x): \\n', y_predicted)\n"
   ]
  },
  {
   "cell_type": "code",
   "execution_count": null,
   "id": "51e6ff54-e380-4144-8858-4f18f28a04ac",
   "metadata": {},
   "outputs": [],
   "source": []
  }
 ],
 "metadata": {
  "kernelspec": {
   "display_name": "python-kernel",
   "language": "python",
   "name": "python-kernel"
  },
  "language_info": {
   "codemirror_mode": {
    "name": "ipython",
    "version": 3
   },
   "file_extension": ".py",
   "mimetype": "text/x-python",
   "name": "python",
   "nbconvert_exporter": "python",
   "pygments_lexer": "ipython3",
   "version": "3.12.3"
  }
 },
 "nbformat": 4,
 "nbformat_minor": 5
}
