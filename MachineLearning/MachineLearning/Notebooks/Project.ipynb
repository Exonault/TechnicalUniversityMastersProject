{
 "cells": [
  {
   "metadata": {},
   "cell_type": "markdown",
   "source": [
    "# Проект по Методи и софтуер за машинно обучение\n",
    "Студент: Кристиян Кръчмаров <br>\n",
    "Фак. номер: 791324005 <br>\n"
   ],
   "id": "8d52ec2da03f6e60"
  },
  {
   "metadata": {},
   "cell_type": "markdown",
   "source": "## Зареждане на данните",
   "id": "9f1fe06eb1c7a3f8"
  },
  {
   "metadata": {
    "ExecuteTime": {
     "end_time": "2025-01-12T16:11:42.334040Z",
     "start_time": "2025-01-12T16:11:41.718545Z"
    }
   },
   "cell_type": "code",
   "source": [
    "import pandas as pd\n",
    "\n",
    "path = \"../Data/\"\n",
    "data = pd.read_csv(path + \"shuffle_email_spam_classification.csv\")\n",
    "data.info()"
   ],
   "id": "db0a4d6baedd7178",
   "outputs": [
    {
     "name": "stdout",
     "output_type": "stream",
     "text": [
      "<class 'pandas.core.frame.DataFrame'>\n",
      "RangeIndex: 5172 entries, 0 to 5171\n",
      "Columns: 3002 entries, Email No. to Prediction\n",
      "dtypes: int64(3001), object(1)\n",
      "memory usage: 118.5+ MB\n"
     ]
    }
   ],
   "execution_count": 2
  },
  {
   "metadata": {
    "ExecuteTime": {
     "end_time": "2025-01-12T16:11:43.482331Z",
     "start_time": "2025-01-12T16:11:43.452981Z"
    }
   },
   "cell_type": "code",
   "source": [
    "data = data.iloc[:, 1:]  # remove 'Email No' column\n",
    "\n",
    "X = data.iloc[:, :-1]  # explanatory variables\n",
    "Y = data.iloc[:, -1]  # result\n",
    "\n",
    "print(X.shape)\n",
    "print(Y.shape)"
   ],
   "id": "91ce14efeb26c10",
   "outputs": [
    {
     "name": "stdout",
     "output_type": "stream",
     "text": [
      "(5172, 3000)\n",
      "(5172,)\n"
     ]
    }
   ],
   "execution_count": 3
  },
  {
   "metadata": {},
   "cell_type": "markdown",
   "source": [
    "## Preprocessing\n",
    "MinMaxScaller за нормализиране на данните"
   ],
   "id": "9189fc86487bd047"
  },
  {
   "metadata": {
    "ExecuteTime": {
     "end_time": "2025-01-12T16:11:54.420472Z",
     "start_time": "2025-01-12T16:11:54.211904Z"
    }
   },
   "cell_type": "code",
   "source": [
    "from sklearn import preprocessing\n",
    "\n",
    "scaler = preprocessing.StandardScaler()\n",
    "X_scaled = scaler.fit_transform(X)\n",
    "\n",
    "# print(\"Min value:\", X_scaled.min())\n",
    "# print(\"Mean value:\", X_scaled.mean())\n",
    "# print(\"Max value:\", X_scaled.max())"
   ],
   "id": "139eff08dbfdfbeb",
   "outputs": [],
   "execution_count": 5
  },
  {
   "metadata": {
    "ExecuteTime": {
     "end_time": "2025-01-12T16:11:57.793907Z",
     "start_time": "2025-01-12T16:11:57.680191Z"
    }
   },
   "cell_type": "code",
   "source": [
    "from sklearn.model_selection import train_test_split, KFold\n",
    "\n",
    "X_train, X_test, Y_train, Y_test = train_test_split(X_scaled, Y, test_size=0.2, random_state=42)"
   ],
   "id": "9c29ee54f32add7b",
   "outputs": [],
   "execution_count": 6
  },
  {
   "metadata": {
    "ExecuteTime": {
     "end_time": "2025-01-12T16:11:59.217449Z",
     "start_time": "2025-01-12T16:11:59.214828Z"
    }
   },
   "cell_type": "code",
   "source": "print(X_train.shape, Y_train.shape)",
   "id": "b191dc58dc3d2986",
   "outputs": [
    {
     "name": "stdout",
     "output_type": "stream",
     "text": [
      "(4137, 3000) (4137,)\n"
     ]
    }
   ],
   "execution_count": 7
  },
  {
   "metadata": {
    "ExecuteTime": {
     "end_time": "2025-01-12T16:12:00.018389Z",
     "start_time": "2025-01-12T16:12:00.015593Z"
    }
   },
   "cell_type": "code",
   "source": "print(X_test.shape, Y_test.shape)",
   "id": "89f87e5ee25156f2",
   "outputs": [
    {
     "name": "stdout",
     "output_type": "stream",
     "text": [
      "(1035, 3000) (1035,)\n"
     ]
    }
   ],
   "execution_count": 8
  },
  {
   "metadata": {},
   "cell_type": "markdown",
   "source": [
    "Няколко helper метода за улеснение <br>\n",
    "`getMetrics` е за обучаването на класификатора иизвличане на няколко метрики:\n",
    "accuracy, AUC, TPR, FPR, ConfusionMatrix, ClassificationReport <br>\n",
    "`plotRocCurve` e за показване на ROC кривата"
   ],
   "id": "452001dea3dbc546"
  },
  {
   "metadata": {
    "ExecuteTime": {
     "end_time": "2025-01-12T16:12:01.755275Z",
     "start_time": "2025-01-12T16:12:01.433348Z"
    }
   },
   "cell_type": "code",
   "source": [
    "from sklearn.metrics import roc_curve, roc_auc_score\n",
    "from sklearn.metrics import confusion_matrix, classification_report\n",
    "\n",
    "\n",
    "def getMetrics(classifier, X_train, Y_train, X_test, Y_test):\n",
    "    classifier.fit(X_train, Y_train)\n",
    "\n",
    "    predicted = classifier.predict(X_test)\n",
    "    probabilities = classifier.predict_proba(X_test)\n",
    "    probabilities = probabilities[:, 1]\n",
    "\n",
    "    fpr, tpr, threshold = roc_curve(Y_test, probabilities)\n",
    "    auc = roc_auc_score(Y_test, probabilities)\n",
    "\n",
    "    conf_matrix = confusion_matrix(Y_test, predicted)\n",
    "\n",
    "    accuracy = classification_report(Y_test, predicted, output_dict=True)['accuracy']\n",
    "    cl_report = classification_report(Y_test, predicted, output_dict=False)\n",
    "\n",
    "    return {\n",
    "        \"classifier\": classifier,\n",
    "        \"ACC\": accuracy,\n",
    "        \"AUC\": auc,\n",
    "        \"TPR\": tpr,\n",
    "        \"FPR\": fpr,\n",
    "        \"Threshold\": threshold,\n",
    "        \"ConfusionMatrix\": conf_matrix,\n",
    "        \"ClassificationReport\": cl_report,\n",
    "    }\n"
   ],
   "id": "91192a7b8b78d451",
   "outputs": [],
   "execution_count": 9
  },
  {
   "metadata": {
    "ExecuteTime": {
     "end_time": "2025-01-12T16:12:39.339927Z",
     "start_time": "2025-01-12T16:12:39.336677Z"
    }
   },
   "cell_type": "code",
   "source": [
    "import matplotlib.pyplot as plt\n",
    "def plotRocCurve(tpr, fpr):\n",
    "    fg, ax1 = plt.subplots(1, 1, figsize=(10, 10))\n",
    "    ax1.set_xlim([-0.05, 1.05])\n",
    "    ax1.set_ylim([-0.05, 1.05])\n",
    "    ax1.plot([0, 1], [0, 1], linestyle = \"-\", color = 'k')\n",
    "    ax1.plot(fpr, tpr, marker = \"\", alpha = 0.8)\n",
    "    plt.show()"
   ],
   "id": "b50a13473f2cc498",
   "outputs": [],
   "execution_count": 10
  },
  {
   "metadata": {
    "ExecuteTime": {
     "end_time": "2025-01-12T16:12:40.927450Z",
     "start_time": "2025-01-12T16:12:40.920938Z"
    }
   },
   "cell_type": "code",
   "source": [
    "def kFoldValidation(classifier, X, Y):\n",
    "    kf = KFold(n_splits=5, shuffle=True, random_state=42)\n",
    "    fig = plt.figure()\n",
    "    fg, axes = plt.subplots(1, 2, figsize=(20, 8))\n",
    "\n",
    "    axes[0].set_xlim([-0.05, 1.05])\n",
    "    axes[0].set_ylim([-0.05, 1.05])\n",
    "    axes[0].plot([0, 1], [0, 1], linestyle = \"-\", color = 'k')\n",
    "    axes[0].title.set_text(\"ROC (Test set)\")\n",
    "\n",
    "    axes[1].set_xlim([-0.05, 1.05])\n",
    "    axes[1].set_ylim([-0.05, 1.05])\n",
    "    axes[1].plot([0, 1], [0, 1], linestyle = \"-\", color = 'k')\n",
    "    axes[1].title.set_text(\"ROC (Training set)\")\n",
    "\n",
    "    performance_stats_df = pd.DataFrame(columns=[\"Fold\",\n",
    "                                            \"ACC Test\",\n",
    "                                            \"ACC Training\",\n",
    "                                            \"ACC ratio\",\n",
    "                                            \"AUC Test\",\n",
    "                                            \"AUC Training\",\n",
    "                                            \"AUC ratio\",\n",
    "                                            \"CONF_MTX\"])\n",
    "    i=0\n",
    "    for trainIndex, testIndex in kf.split(X):\n",
    "        X_train, X_test = X[trainIndex], X[testIndex]\n",
    "        Y_train, Y_test = Y[trainIndex], Y[testIndex]\n",
    "\n",
    "        metrics_train_train = getMetrics(classifier, X_train, Y_train, X_train, Y_train)\n",
    "        metrics_train_test = getMetrics(classifier, X_train, Y_train, X_test, Y_test)\n",
    "\n",
    "        axes[0].plot(metrics_train_test[\"FPR\"], metrics_train_test[\"TPR\"], marker = \"\", color=\"green\", alpha=0.6)\n",
    "        axes[1].plot(metrics_train_train[\"FPR\"], metrics_train_train[\"TPR\"], marker = \"\", color=\"red\", alpha=0.6)\n",
    "\n",
    "        temp = {'Fold': i,\n",
    "            'ACC Test': metrics_train_test[\"ACC\"]*100,\n",
    "            'ACC Training': metrics_train_train[\"ACC\"]*100,\n",
    "            'ACC ratio': metrics_train_test[\"ACC\"]/metrics_train_train[\"ACC\"],\n",
    "            'AUC Test': metrics_train_test[\"AUC\"],\n",
    "            'AUC Training': metrics_train_train[\"AUC\"],\n",
    "            'AUC ratio': metrics_train_test[\"AUC\"]/metrics_train_train[\"AUC\"],\n",
    "            'CONF_MTX':metrics_train_test[\"ConfusionMatrix\"]}\n",
    "\n",
    "        performance_stats_df = performance_stats_df.append(temp, ignore_index=True)\n",
    "        i=i+1\n",
    "\n",
    "    plt.show()"
   ],
   "id": "744c2b25ead9e70",
   "outputs": [],
   "execution_count": 11
  }
 ],
 "metadata": {
  "kernelspec": {
   "display_name": "python-kernel",
   "language": "python",
   "name": "python-kernel"
  },
  "language_info": {
   "codemirror_mode": {
    "name": "ipython",
    "version": 2
   },
   "file_extension": ".py",
   "mimetype": "text/x-python",
   "name": "python",
   "nbconvert_exporter": "python",
   "pygments_lexer": "ipython2",
   "version": "2.7.6"
  }
 },
 "nbformat": 4,
 "nbformat_minor": 5
}
