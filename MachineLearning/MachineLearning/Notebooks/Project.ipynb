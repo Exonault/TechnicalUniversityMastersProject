{
 "cells": [
  {
   "metadata": {},
   "cell_type": "markdown",
   "source": [
    "# Проект по Методи и софтуер за машинно обучение\n",
    "Студент: Кристиян Кръчмаров <br>\n",
    "Фак. номер: 791324005 <br>\n"
   ],
   "id": "8d52ec2da03f6e60"
  },
  {
   "metadata": {
    "ExecuteTime": {
     "end_time": "2025-01-10T07:53:31.434912Z",
     "start_time": "2025-01-10T07:53:31.430924Z"
    }
   },
   "cell_type": "code",
   "source": [
    "# import numpy as np\n",
    "# import matplotlib.pyplot as plt\n",
    "# import seaborn as sns\n",
    "\n",
    "# from sklearn.ensemble import RandomForestClassifier\n",
    "# from sklearn.linear_model import LogisticRegression\n",
    "# from sklearn.model_selection import train_test_split\n"
   ],
   "id": "f378f2ed6a92e1dc",
   "outputs": [],
   "execution_count": 1
  },
  {
   "metadata": {
    "ExecuteTime": {
     "end_time": "2025-01-10T07:54:31.039842Z",
     "start_time": "2025-01-10T07:54:29.798947Z"
    }
   },
   "cell_type": "code",
   "source": [
    "import pandas as pd\n",
    "\n",
    "path = \"../Data/\"\n",
    "data = pd.read_csv(path + \"shuffle_email_spam_classification.csv\")"
   ],
   "id": "db0a4d6baedd7178",
   "outputs": [],
   "execution_count": 6
  },
  {
   "metadata": {},
   "cell_type": "code",
   "outputs": [],
   "execution_count": null,
   "source": [
    "X = data[:, :-1] # explanatory variables\n",
    "Y = data[:, -1] # result"
   ],
   "id": "91ce14efeb26c10"
  },
  {
   "metadata": {},
   "cell_type": "code",
   "outputs": [],
   "execution_count": null,
   "source": [
    "from sklearn.model_selection import train_test_split\n",
    "X_train, X_test_val, Y_train, Y_test_val = train_test_split(X, Y, test_size=0.2, random_state=42)\n",
    "X_test, Y_test, X_validation, Y_validation = train_test_split(X_test_val, Y_test_val, test_size=0.5, random_state=42)"
   ],
   "id": "9c29ee54f32add7b"
  },
  {
   "metadata": {},
   "cell_type": "code",
   "outputs": [],
   "execution_count": null,
   "source": "print(X_train.shape, Y_train.shape)",
   "id": "b191dc58dc3d2986"
  },
  {
   "metadata": {},
   "cell_type": "code",
   "outputs": [],
   "execution_count": null,
   "source": "print(X_test.shape, Y_test.shape)",
   "id": "89f87e5ee25156f2"
  },
  {
   "metadata": {},
   "cell_type": "code",
   "outputs": [],
   "execution_count": null,
   "source": "print(X_validation.shape, Y_validation.shape)",
   "id": "f27dc8b9290553f6"
  },
  {
   "metadata": {},
   "cell_type": "code",
   "outputs": [],
   "execution_count": null,
   "source": "print(data.values.shape)",
   "id": "c1581a133484e19d"
  },
  {
   "metadata": {},
   "cell_type": "markdown",
   "source": "## 1. Random Forest",
   "id": "6db6a9cdf8570bbf"
  },
  {
   "metadata": {},
   "cell_type": "code",
   "outputs": [],
   "execution_count": null,
   "source": [
    "from sklearn.ensemble import RandomForestClassifier\n",
    "\n",
    "randomForest = RandomForestClassifier(n_estimators=50)\n",
    "randomForest.fit(X_train, Y_train)"
   ],
   "id": "f1a7d0ea74277ab1"
  },
  {
   "metadata": {},
   "cell_type": "markdown",
   "source": "## 2. Logistic regression",
   "id": "caae6abb9fb1ae4d"
  },
  {
   "metadata": {},
   "cell_type": "code",
   "outputs": [],
   "execution_count": null,
   "source": [
    "from sklearn.linear_model import LogisticRegression\n",
    "\n",
    "logisticRegression = LogisticRegression()\n",
    "logisticRegression.fit(X_train, Y_train)"
   ],
   "id": "fbbfc426e77f8f3b"
  },
  {
   "metadata": {},
   "cell_type": "markdown",
   "source": "## 3. Neural Network",
   "id": "347531a4aa02f5c4"
  },
  {
   "metadata": {},
   "cell_type": "code",
   "outputs": [],
   "execution_count": null,
   "source": [
    "from keras import models, layers\n",
    "\n",
    "from keras.api.layers import Dense\n",
    "from keras.api.models import Sequential"
   ],
   "id": "2ff03fd2f8a09dc9"
  }
 ],
 "metadata": {
  "kernelspec": {
   "display_name": "my-python3-kernel",
   "language": "python",
   "name": "my-python3-kernel"
  },
  "language_info": {
   "codemirror_mode": {
    "name": "ipython",
    "version": 2
   },
   "file_extension": ".py",
   "mimetype": "text/x-python",
   "name": "python",
   "nbconvert_exporter": "python",
   "pygments_lexer": "ipython2",
   "version": "2.7.6"
  }
 },
 "nbformat": 4,
 "nbformat_minor": 5
}
